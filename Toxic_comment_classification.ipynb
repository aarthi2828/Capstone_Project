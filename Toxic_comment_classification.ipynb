{
  "nbformat": 4,
  "nbformat_minor": 0,
  "metadata": {
    "colab": {
      "name": "Toxic_comment_classification.ipynb",
      "provenance": [],
      "collapsed_sections": [
        "CeScalvZDEdD",
        "7wv1IdwZk_qG",
        "bXx4IOYn4_XB",
        "kJJJs5txVS8S",
        "7HkAldq1IJcr"
      ]
    },
    "kernelspec": {
      "display_name": "Python 3",
      "language": "python",
      "name": "python3"
    },
    "language_info": {
      "codemirror_mode": {
        "name": "ipython",
        "version": 3
      },
      "file_extension": ".py",
      "mimetype": "text/x-python",
      "name": "python",
      "nbconvert_exporter": "python",
      "pygments_lexer": "ipython3",
      "version": "3.8.3"
    },
    "accelerator": "GPU",
    "widgets": {
      "application/vnd.jupyter.widget-state+json": {
        "76d53d599b1542e78c7ba3f01581ba1f": {
          "model_module": "@jupyter-widgets/controls",
          "model_name": "HBoxModel",
          "model_module_version": "1.5.0",
          "state": {
            "_dom_classes": [],
            "_model_module": "@jupyter-widgets/controls",
            "_model_module_version": "1.5.0",
            "_model_name": "HBoxModel",
            "_view_count": null,
            "_view_module": "@jupyter-widgets/controls",
            "_view_module_version": "1.5.0",
            "_view_name": "HBoxView",
            "box_style": "",
            "children": [
              "IPY_MODEL_9cb25d9fdf3a4fa398d250fca7be06e8",
              "IPY_MODEL_5bfac2f017ab4fa99d92de84b3a54752",
              "IPY_MODEL_cd9c136711304ba6a19ae45e16ab6cc8"
            ],
            "layout": "IPY_MODEL_e79bbef5ece4471a823cdfaa38ae7d02"
          }
        },
        "9cb25d9fdf3a4fa398d250fca7be06e8": {
          "model_module": "@jupyter-widgets/controls",
          "model_name": "HTMLModel",
          "model_module_version": "1.5.0",
          "state": {
            "_dom_classes": [],
            "_model_module": "@jupyter-widgets/controls",
            "_model_module_version": "1.5.0",
            "_model_name": "HTMLModel",
            "_view_count": null,
            "_view_module": "@jupyter-widgets/controls",
            "_view_module_version": "1.5.0",
            "_view_name": "HTMLView",
            "description": "",
            "description_tooltip": null,
            "layout": "IPY_MODEL_7935bb86b0874a4b825351f581d9d14d",
            "placeholder": "​",
            "style": "IPY_MODEL_44182b8fa9094af38a240fd357f22e8c",
            "value": "100%"
          }
        },
        "5bfac2f017ab4fa99d92de84b3a54752": {
          "model_module": "@jupyter-widgets/controls",
          "model_name": "FloatProgressModel",
          "model_module_version": "1.5.0",
          "state": {
            "_dom_classes": [],
            "_model_module": "@jupyter-widgets/controls",
            "_model_module_version": "1.5.0",
            "_model_name": "FloatProgressModel",
            "_view_count": null,
            "_view_module": "@jupyter-widgets/controls",
            "_view_module_version": "1.5.0",
            "_view_name": "ProgressView",
            "bar_style": "success",
            "description": "",
            "description_tooltip": null,
            "layout": "IPY_MODEL_8316cf0844ac4b40b244c713d5e6184c",
            "max": 159571,
            "min": 0,
            "orientation": "horizontal",
            "style": "IPY_MODEL_dad61215de0d4068b6df882514d6f6f4",
            "value": 159571
          }
        },
        "cd9c136711304ba6a19ae45e16ab6cc8": {
          "model_module": "@jupyter-widgets/controls",
          "model_name": "HTMLModel",
          "model_module_version": "1.5.0",
          "state": {
            "_dom_classes": [],
            "_model_module": "@jupyter-widgets/controls",
            "_model_module_version": "1.5.0",
            "_model_name": "HTMLModel",
            "_view_count": null,
            "_view_module": "@jupyter-widgets/controls",
            "_view_module_version": "1.5.0",
            "_view_name": "HTMLView",
            "description": "",
            "description_tooltip": null,
            "layout": "IPY_MODEL_292189e8f38644cbb016864485a41a75",
            "placeholder": "​",
            "style": "IPY_MODEL_6d9b7b8bfd0740fb9c0fbe67a94d285f",
            "value": " 159571/159571 [02:18&lt;00:00, 1193.57it/s]"
          }
        },
        "e79bbef5ece4471a823cdfaa38ae7d02": {
          "model_module": "@jupyter-widgets/base",
          "model_name": "LayoutModel",
          "model_module_version": "1.2.0",
          "state": {
            "_model_module": "@jupyter-widgets/base",
            "_model_module_version": "1.2.0",
            "_model_name": "LayoutModel",
            "_view_count": null,
            "_view_module": "@jupyter-widgets/base",
            "_view_module_version": "1.2.0",
            "_view_name": "LayoutView",
            "align_content": null,
            "align_items": null,
            "align_self": null,
            "border": null,
            "bottom": null,
            "display": null,
            "flex": null,
            "flex_flow": null,
            "grid_area": null,
            "grid_auto_columns": null,
            "grid_auto_flow": null,
            "grid_auto_rows": null,
            "grid_column": null,
            "grid_gap": null,
            "grid_row": null,
            "grid_template_areas": null,
            "grid_template_columns": null,
            "grid_template_rows": null,
            "height": null,
            "justify_content": null,
            "justify_items": null,
            "left": null,
            "margin": null,
            "max_height": null,
            "max_width": null,
            "min_height": null,
            "min_width": null,
            "object_fit": null,
            "object_position": null,
            "order": null,
            "overflow": null,
            "overflow_x": null,
            "overflow_y": null,
            "padding": null,
            "right": null,
            "top": null,
            "visibility": null,
            "width": null
          }
        },
        "7935bb86b0874a4b825351f581d9d14d": {
          "model_module": "@jupyter-widgets/base",
          "model_name": "LayoutModel",
          "model_module_version": "1.2.0",
          "state": {
            "_model_module": "@jupyter-widgets/base",
            "_model_module_version": "1.2.0",
            "_model_name": "LayoutModel",
            "_view_count": null,
            "_view_module": "@jupyter-widgets/base",
            "_view_module_version": "1.2.0",
            "_view_name": "LayoutView",
            "align_content": null,
            "align_items": null,
            "align_self": null,
            "border": null,
            "bottom": null,
            "display": null,
            "flex": null,
            "flex_flow": null,
            "grid_area": null,
            "grid_auto_columns": null,
            "grid_auto_flow": null,
            "grid_auto_rows": null,
            "grid_column": null,
            "grid_gap": null,
            "grid_row": null,
            "grid_template_areas": null,
            "grid_template_columns": null,
            "grid_template_rows": null,
            "height": null,
            "justify_content": null,
            "justify_items": null,
            "left": null,
            "margin": null,
            "max_height": null,
            "max_width": null,
            "min_height": null,
            "min_width": null,
            "object_fit": null,
            "object_position": null,
            "order": null,
            "overflow": null,
            "overflow_x": null,
            "overflow_y": null,
            "padding": null,
            "right": null,
            "top": null,
            "visibility": null,
            "width": null
          }
        },
        "44182b8fa9094af38a240fd357f22e8c": {
          "model_module": "@jupyter-widgets/controls",
          "model_name": "DescriptionStyleModel",
          "model_module_version": "1.5.0",
          "state": {
            "_model_module": "@jupyter-widgets/controls",
            "_model_module_version": "1.5.0",
            "_model_name": "DescriptionStyleModel",
            "_view_count": null,
            "_view_module": "@jupyter-widgets/base",
            "_view_module_version": "1.2.0",
            "_view_name": "StyleView",
            "description_width": ""
          }
        },
        "8316cf0844ac4b40b244c713d5e6184c": {
          "model_module": "@jupyter-widgets/base",
          "model_name": "LayoutModel",
          "model_module_version": "1.2.0",
          "state": {
            "_model_module": "@jupyter-widgets/base",
            "_model_module_version": "1.2.0",
            "_model_name": "LayoutModel",
            "_view_count": null,
            "_view_module": "@jupyter-widgets/base",
            "_view_module_version": "1.2.0",
            "_view_name": "LayoutView",
            "align_content": null,
            "align_items": null,
            "align_self": null,
            "border": null,
            "bottom": null,
            "display": null,
            "flex": null,
            "flex_flow": null,
            "grid_area": null,
            "grid_auto_columns": null,
            "grid_auto_flow": null,
            "grid_auto_rows": null,
            "grid_column": null,
            "grid_gap": null,
            "grid_row": null,
            "grid_template_areas": null,
            "grid_template_columns": null,
            "grid_template_rows": null,
            "height": null,
            "justify_content": null,
            "justify_items": null,
            "left": null,
            "margin": null,
            "max_height": null,
            "max_width": null,
            "min_height": null,
            "min_width": null,
            "object_fit": null,
            "object_position": null,
            "order": null,
            "overflow": null,
            "overflow_x": null,
            "overflow_y": null,
            "padding": null,
            "right": null,
            "top": null,
            "visibility": null,
            "width": null
          }
        },
        "dad61215de0d4068b6df882514d6f6f4": {
          "model_module": "@jupyter-widgets/controls",
          "model_name": "ProgressStyleModel",
          "model_module_version": "1.5.0",
          "state": {
            "_model_module": "@jupyter-widgets/controls",
            "_model_module_version": "1.5.0",
            "_model_name": "ProgressStyleModel",
            "_view_count": null,
            "_view_module": "@jupyter-widgets/base",
            "_view_module_version": "1.2.0",
            "_view_name": "StyleView",
            "bar_color": null,
            "description_width": ""
          }
        },
        "292189e8f38644cbb016864485a41a75": {
          "model_module": "@jupyter-widgets/base",
          "model_name": "LayoutModel",
          "model_module_version": "1.2.0",
          "state": {
            "_model_module": "@jupyter-widgets/base",
            "_model_module_version": "1.2.0",
            "_model_name": "LayoutModel",
            "_view_count": null,
            "_view_module": "@jupyter-widgets/base",
            "_view_module_version": "1.2.0",
            "_view_name": "LayoutView",
            "align_content": null,
            "align_items": null,
            "align_self": null,
            "border": null,
            "bottom": null,
            "display": null,
            "flex": null,
            "flex_flow": null,
            "grid_area": null,
            "grid_auto_columns": null,
            "grid_auto_flow": null,
            "grid_auto_rows": null,
            "grid_column": null,
            "grid_gap": null,
            "grid_row": null,
            "grid_template_areas": null,
            "grid_template_columns": null,
            "grid_template_rows": null,
            "height": null,
            "justify_content": null,
            "justify_items": null,
            "left": null,
            "margin": null,
            "max_height": null,
            "max_width": null,
            "min_height": null,
            "min_width": null,
            "object_fit": null,
            "object_position": null,
            "order": null,
            "overflow": null,
            "overflow_x": null,
            "overflow_y": null,
            "padding": null,
            "right": null,
            "top": null,
            "visibility": null,
            "width": null
          }
        },
        "6d9b7b8bfd0740fb9c0fbe67a94d285f": {
          "model_module": "@jupyter-widgets/controls",
          "model_name": "DescriptionStyleModel",
          "model_module_version": "1.5.0",
          "state": {
            "_model_module": "@jupyter-widgets/controls",
            "_model_module_version": "1.5.0",
            "_model_name": "DescriptionStyleModel",
            "_view_count": null,
            "_view_module": "@jupyter-widgets/base",
            "_view_module_version": "1.2.0",
            "_view_name": "StyleView",
            "description_width": ""
          }
        },
        "48f7ba39be9042c6bc494201809181f7": {
          "model_module": "@jupyter-widgets/controls",
          "model_name": "HBoxModel",
          "model_module_version": "1.5.0",
          "state": {
            "_dom_classes": [],
            "_model_module": "@jupyter-widgets/controls",
            "_model_module_version": "1.5.0",
            "_model_name": "HBoxModel",
            "_view_count": null,
            "_view_module": "@jupyter-widgets/controls",
            "_view_module_version": "1.5.0",
            "_view_name": "HBoxView",
            "box_style": "",
            "children": [
              "IPY_MODEL_17b6c90a2fe7477fa4fc89b5df55daf5",
              "IPY_MODEL_15b50061a7e04f1dbd04f8e1c33ab218",
              "IPY_MODEL_eddb43224de34f53a6d5caeefad0ec7b"
            ],
            "layout": "IPY_MODEL_ba5220673f164938a7621163e344c876"
          }
        },
        "17b6c90a2fe7477fa4fc89b5df55daf5": {
          "model_module": "@jupyter-widgets/controls",
          "model_name": "HTMLModel",
          "model_module_version": "1.5.0",
          "state": {
            "_dom_classes": [],
            "_model_module": "@jupyter-widgets/controls",
            "_model_module_version": "1.5.0",
            "_model_name": "HTMLModel",
            "_view_count": null,
            "_view_module": "@jupyter-widgets/controls",
            "_view_module_version": "1.5.0",
            "_view_name": "HTMLView",
            "description": "",
            "description_tooltip": null,
            "layout": "IPY_MODEL_a7f97369ece84e83a3fd4adc231127b0",
            "placeholder": "​",
            "style": "IPY_MODEL_0a6bdfbcc006475190809ff476c3cda3",
            "value": "100%"
          }
        },
        "15b50061a7e04f1dbd04f8e1c33ab218": {
          "model_module": "@jupyter-widgets/controls",
          "model_name": "FloatProgressModel",
          "model_module_version": "1.5.0",
          "state": {
            "_dom_classes": [],
            "_model_module": "@jupyter-widgets/controls",
            "_model_module_version": "1.5.0",
            "_model_name": "FloatProgressModel",
            "_view_count": null,
            "_view_module": "@jupyter-widgets/controls",
            "_view_module_version": "1.5.0",
            "_view_name": "ProgressView",
            "bar_style": "success",
            "description": "",
            "description_tooltip": null,
            "layout": "IPY_MODEL_99f943a9b512406f8744c3c747c72f68",
            "max": 153164,
            "min": 0,
            "orientation": "horizontal",
            "style": "IPY_MODEL_7947129a9bab4fdeb9397c14c288a6d8",
            "value": 153164
          }
        },
        "eddb43224de34f53a6d5caeefad0ec7b": {
          "model_module": "@jupyter-widgets/controls",
          "model_name": "HTMLModel",
          "model_module_version": "1.5.0",
          "state": {
            "_dom_classes": [],
            "_model_module": "@jupyter-widgets/controls",
            "_model_module_version": "1.5.0",
            "_model_name": "HTMLModel",
            "_view_count": null,
            "_view_module": "@jupyter-widgets/controls",
            "_view_module_version": "1.5.0",
            "_view_name": "HTMLView",
            "description": "",
            "description_tooltip": null,
            "layout": "IPY_MODEL_da4e99c9779b4f8999c0b25d15b7fab9",
            "placeholder": "​",
            "style": "IPY_MODEL_c64e03d216c74c87b3852a14a96f2cc1",
            "value": " 153164/153164 [01:50&lt;00:00, 1143.49it/s]"
          }
        },
        "ba5220673f164938a7621163e344c876": {
          "model_module": "@jupyter-widgets/base",
          "model_name": "LayoutModel",
          "model_module_version": "1.2.0",
          "state": {
            "_model_module": "@jupyter-widgets/base",
            "_model_module_version": "1.2.0",
            "_model_name": "LayoutModel",
            "_view_count": null,
            "_view_module": "@jupyter-widgets/base",
            "_view_module_version": "1.2.0",
            "_view_name": "LayoutView",
            "align_content": null,
            "align_items": null,
            "align_self": null,
            "border": null,
            "bottom": null,
            "display": null,
            "flex": null,
            "flex_flow": null,
            "grid_area": null,
            "grid_auto_columns": null,
            "grid_auto_flow": null,
            "grid_auto_rows": null,
            "grid_column": null,
            "grid_gap": null,
            "grid_row": null,
            "grid_template_areas": null,
            "grid_template_columns": null,
            "grid_template_rows": null,
            "height": null,
            "justify_content": null,
            "justify_items": null,
            "left": null,
            "margin": null,
            "max_height": null,
            "max_width": null,
            "min_height": null,
            "min_width": null,
            "object_fit": null,
            "object_position": null,
            "order": null,
            "overflow": null,
            "overflow_x": null,
            "overflow_y": null,
            "padding": null,
            "right": null,
            "top": null,
            "visibility": null,
            "width": null
          }
        },
        "a7f97369ece84e83a3fd4adc231127b0": {
          "model_module": "@jupyter-widgets/base",
          "model_name": "LayoutModel",
          "model_module_version": "1.2.0",
          "state": {
            "_model_module": "@jupyter-widgets/base",
            "_model_module_version": "1.2.0",
            "_model_name": "LayoutModel",
            "_view_count": null,
            "_view_module": "@jupyter-widgets/base",
            "_view_module_version": "1.2.0",
            "_view_name": "LayoutView",
            "align_content": null,
            "align_items": null,
            "align_self": null,
            "border": null,
            "bottom": null,
            "display": null,
            "flex": null,
            "flex_flow": null,
            "grid_area": null,
            "grid_auto_columns": null,
            "grid_auto_flow": null,
            "grid_auto_rows": null,
            "grid_column": null,
            "grid_gap": null,
            "grid_row": null,
            "grid_template_areas": null,
            "grid_template_columns": null,
            "grid_template_rows": null,
            "height": null,
            "justify_content": null,
            "justify_items": null,
            "left": null,
            "margin": null,
            "max_height": null,
            "max_width": null,
            "min_height": null,
            "min_width": null,
            "object_fit": null,
            "object_position": null,
            "order": null,
            "overflow": null,
            "overflow_x": null,
            "overflow_y": null,
            "padding": null,
            "right": null,
            "top": null,
            "visibility": null,
            "width": null
          }
        },
        "0a6bdfbcc006475190809ff476c3cda3": {
          "model_module": "@jupyter-widgets/controls",
          "model_name": "DescriptionStyleModel",
          "model_module_version": "1.5.0",
          "state": {
            "_model_module": "@jupyter-widgets/controls",
            "_model_module_version": "1.5.0",
            "_model_name": "DescriptionStyleModel",
            "_view_count": null,
            "_view_module": "@jupyter-widgets/base",
            "_view_module_version": "1.2.0",
            "_view_name": "StyleView",
            "description_width": ""
          }
        },
        "99f943a9b512406f8744c3c747c72f68": {
          "model_module": "@jupyter-widgets/base",
          "model_name": "LayoutModel",
          "model_module_version": "1.2.0",
          "state": {
            "_model_module": "@jupyter-widgets/base",
            "_model_module_version": "1.2.0",
            "_model_name": "LayoutModel",
            "_view_count": null,
            "_view_module": "@jupyter-widgets/base",
            "_view_module_version": "1.2.0",
            "_view_name": "LayoutView",
            "align_content": null,
            "align_items": null,
            "align_self": null,
            "border": null,
            "bottom": null,
            "display": null,
            "flex": null,
            "flex_flow": null,
            "grid_area": null,
            "grid_auto_columns": null,
            "grid_auto_flow": null,
            "grid_auto_rows": null,
            "grid_column": null,
            "grid_gap": null,
            "grid_row": null,
            "grid_template_areas": null,
            "grid_template_columns": null,
            "grid_template_rows": null,
            "height": null,
            "justify_content": null,
            "justify_items": null,
            "left": null,
            "margin": null,
            "max_height": null,
            "max_width": null,
            "min_height": null,
            "min_width": null,
            "object_fit": null,
            "object_position": null,
            "order": null,
            "overflow": null,
            "overflow_x": null,
            "overflow_y": null,
            "padding": null,
            "right": null,
            "top": null,
            "visibility": null,
            "width": null
          }
        },
        "7947129a9bab4fdeb9397c14c288a6d8": {
          "model_module": "@jupyter-widgets/controls",
          "model_name": "ProgressStyleModel",
          "model_module_version": "1.5.0",
          "state": {
            "_model_module": "@jupyter-widgets/controls",
            "_model_module_version": "1.5.0",
            "_model_name": "ProgressStyleModel",
            "_view_count": null,
            "_view_module": "@jupyter-widgets/base",
            "_view_module_version": "1.2.0",
            "_view_name": "StyleView",
            "bar_color": null,
            "description_width": ""
          }
        },
        "da4e99c9779b4f8999c0b25d15b7fab9": {
          "model_module": "@jupyter-widgets/base",
          "model_name": "LayoutModel",
          "model_module_version": "1.2.0",
          "state": {
            "_model_module": "@jupyter-widgets/base",
            "_model_module_version": "1.2.0",
            "_model_name": "LayoutModel",
            "_view_count": null,
            "_view_module": "@jupyter-widgets/base",
            "_view_module_version": "1.2.0",
            "_view_name": "LayoutView",
            "align_content": null,
            "align_items": null,
            "align_self": null,
            "border": null,
            "bottom": null,
            "display": null,
            "flex": null,
            "flex_flow": null,
            "grid_area": null,
            "grid_auto_columns": null,
            "grid_auto_flow": null,
            "grid_auto_rows": null,
            "grid_column": null,
            "grid_gap": null,
            "grid_row": null,
            "grid_template_areas": null,
            "grid_template_columns": null,
            "grid_template_rows": null,
            "height": null,
            "justify_content": null,
            "justify_items": null,
            "left": null,
            "margin": null,
            "max_height": null,
            "max_width": null,
            "min_height": null,
            "min_width": null,
            "object_fit": null,
            "object_position": null,
            "order": null,
            "overflow": null,
            "overflow_x": null,
            "overflow_y": null,
            "padding": null,
            "right": null,
            "top": null,
            "visibility": null,
            "width": null
          }
        },
        "c64e03d216c74c87b3852a14a96f2cc1": {
          "model_module": "@jupyter-widgets/controls",
          "model_name": "DescriptionStyleModel",
          "model_module_version": "1.5.0",
          "state": {
            "_model_module": "@jupyter-widgets/controls",
            "_model_module_version": "1.5.0",
            "_model_name": "DescriptionStyleModel",
            "_view_count": null,
            "_view_module": "@jupyter-widgets/base",
            "_view_module_version": "1.2.0",
            "_view_name": "StyleView",
            "description_width": ""
          }
        },
        "8d2a48e2b5b845209c8428e14ce99104": {
          "model_module": "@jupyter-widgets/controls",
          "model_name": "HBoxModel",
          "model_module_version": "1.5.0",
          "state": {
            "_dom_classes": [],
            "_model_module": "@jupyter-widgets/controls",
            "_model_module_version": "1.5.0",
            "_model_name": "HBoxModel",
            "_view_count": null,
            "_view_module": "@jupyter-widgets/controls",
            "_view_module_version": "1.5.0",
            "_view_name": "HBoxView",
            "box_style": "",
            "children": [
              "IPY_MODEL_1c69ca77a175411db3c426985c561037",
              "IPY_MODEL_3ccbed14e1d6432f97d2aaedd351f29e",
              "IPY_MODEL_0a4e019b5b894644b3491babf00e25c2"
            ],
            "layout": "IPY_MODEL_24fcc537472747e8a18abf8d95a75f5d"
          }
        },
        "1c69ca77a175411db3c426985c561037": {
          "model_module": "@jupyter-widgets/controls",
          "model_name": "HTMLModel",
          "model_module_version": "1.5.0",
          "state": {
            "_dom_classes": [],
            "_model_module": "@jupyter-widgets/controls",
            "_model_module_version": "1.5.0",
            "_model_name": "HTMLModel",
            "_view_count": null,
            "_view_module": "@jupyter-widgets/controls",
            "_view_module_version": "1.5.0",
            "_view_name": "HTMLView",
            "description": "",
            "description_tooltip": null,
            "layout": "IPY_MODEL_8d9060e354764f29b8e6df0447b7a86e",
            "placeholder": "​",
            "style": "IPY_MODEL_b0eb945f78324f698e643d9d6c127a2c",
            "value": "100%"
          }
        },
        "3ccbed14e1d6432f97d2aaedd351f29e": {
          "model_module": "@jupyter-widgets/controls",
          "model_name": "FloatProgressModel",
          "model_module_version": "1.5.0",
          "state": {
            "_dom_classes": [],
            "_model_module": "@jupyter-widgets/controls",
            "_model_module_version": "1.5.0",
            "_model_name": "FloatProgressModel",
            "_view_count": null,
            "_view_module": "@jupyter-widgets/controls",
            "_view_module_version": "1.5.0",
            "_view_name": "ProgressView",
            "bar_style": "success",
            "description": "",
            "description_tooltip": null,
            "layout": "IPY_MODEL_21b264e5097149dda047d8887cef4b95",
            "max": 159571,
            "min": 0,
            "orientation": "horizontal",
            "style": "IPY_MODEL_44ab5d1b79af4c4d94e81f914998d42e",
            "value": 159571
          }
        },
        "0a4e019b5b894644b3491babf00e25c2": {
          "model_module": "@jupyter-widgets/controls",
          "model_name": "HTMLModel",
          "model_module_version": "1.5.0",
          "state": {
            "_dom_classes": [],
            "_model_module": "@jupyter-widgets/controls",
            "_model_module_version": "1.5.0",
            "_model_name": "HTMLModel",
            "_view_count": null,
            "_view_module": "@jupyter-widgets/controls",
            "_view_module_version": "1.5.0",
            "_view_name": "HTMLView",
            "description": "",
            "description_tooltip": null,
            "layout": "IPY_MODEL_69226b777c9841419b5faf9cde42cb40",
            "placeholder": "​",
            "style": "IPY_MODEL_09722b69f28a4f8c80ec856fec22ac8c",
            "value": " 159571/159571 [00:02&lt;00:00, 63193.61it/s]"
          }
        },
        "24fcc537472747e8a18abf8d95a75f5d": {
          "model_module": "@jupyter-widgets/base",
          "model_name": "LayoutModel",
          "model_module_version": "1.2.0",
          "state": {
            "_model_module": "@jupyter-widgets/base",
            "_model_module_version": "1.2.0",
            "_model_name": "LayoutModel",
            "_view_count": null,
            "_view_module": "@jupyter-widgets/base",
            "_view_module_version": "1.2.0",
            "_view_name": "LayoutView",
            "align_content": null,
            "align_items": null,
            "align_self": null,
            "border": null,
            "bottom": null,
            "display": null,
            "flex": null,
            "flex_flow": null,
            "grid_area": null,
            "grid_auto_columns": null,
            "grid_auto_flow": null,
            "grid_auto_rows": null,
            "grid_column": null,
            "grid_gap": null,
            "grid_row": null,
            "grid_template_areas": null,
            "grid_template_columns": null,
            "grid_template_rows": null,
            "height": null,
            "justify_content": null,
            "justify_items": null,
            "left": null,
            "margin": null,
            "max_height": null,
            "max_width": null,
            "min_height": null,
            "min_width": null,
            "object_fit": null,
            "object_position": null,
            "order": null,
            "overflow": null,
            "overflow_x": null,
            "overflow_y": null,
            "padding": null,
            "right": null,
            "top": null,
            "visibility": null,
            "width": null
          }
        },
        "8d9060e354764f29b8e6df0447b7a86e": {
          "model_module": "@jupyter-widgets/base",
          "model_name": "LayoutModel",
          "model_module_version": "1.2.0",
          "state": {
            "_model_module": "@jupyter-widgets/base",
            "_model_module_version": "1.2.0",
            "_model_name": "LayoutModel",
            "_view_count": null,
            "_view_module": "@jupyter-widgets/base",
            "_view_module_version": "1.2.0",
            "_view_name": "LayoutView",
            "align_content": null,
            "align_items": null,
            "align_self": null,
            "border": null,
            "bottom": null,
            "display": null,
            "flex": null,
            "flex_flow": null,
            "grid_area": null,
            "grid_auto_columns": null,
            "grid_auto_flow": null,
            "grid_auto_rows": null,
            "grid_column": null,
            "grid_gap": null,
            "grid_row": null,
            "grid_template_areas": null,
            "grid_template_columns": null,
            "grid_template_rows": null,
            "height": null,
            "justify_content": null,
            "justify_items": null,
            "left": null,
            "margin": null,
            "max_height": null,
            "max_width": null,
            "min_height": null,
            "min_width": null,
            "object_fit": null,
            "object_position": null,
            "order": null,
            "overflow": null,
            "overflow_x": null,
            "overflow_y": null,
            "padding": null,
            "right": null,
            "top": null,
            "visibility": null,
            "width": null
          }
        },
        "b0eb945f78324f698e643d9d6c127a2c": {
          "model_module": "@jupyter-widgets/controls",
          "model_name": "DescriptionStyleModel",
          "model_module_version": "1.5.0",
          "state": {
            "_model_module": "@jupyter-widgets/controls",
            "_model_module_version": "1.5.0",
            "_model_name": "DescriptionStyleModel",
            "_view_count": null,
            "_view_module": "@jupyter-widgets/base",
            "_view_module_version": "1.2.0",
            "_view_name": "StyleView",
            "description_width": ""
          }
        },
        "21b264e5097149dda047d8887cef4b95": {
          "model_module": "@jupyter-widgets/base",
          "model_name": "LayoutModel",
          "model_module_version": "1.2.0",
          "state": {
            "_model_module": "@jupyter-widgets/base",
            "_model_module_version": "1.2.0",
            "_model_name": "LayoutModel",
            "_view_count": null,
            "_view_module": "@jupyter-widgets/base",
            "_view_module_version": "1.2.0",
            "_view_name": "LayoutView",
            "align_content": null,
            "align_items": null,
            "align_self": null,
            "border": null,
            "bottom": null,
            "display": null,
            "flex": null,
            "flex_flow": null,
            "grid_area": null,
            "grid_auto_columns": null,
            "grid_auto_flow": null,
            "grid_auto_rows": null,
            "grid_column": null,
            "grid_gap": null,
            "grid_row": null,
            "grid_template_areas": null,
            "grid_template_columns": null,
            "grid_template_rows": null,
            "height": null,
            "justify_content": null,
            "justify_items": null,
            "left": null,
            "margin": null,
            "max_height": null,
            "max_width": null,
            "min_height": null,
            "min_width": null,
            "object_fit": null,
            "object_position": null,
            "order": null,
            "overflow": null,
            "overflow_x": null,
            "overflow_y": null,
            "padding": null,
            "right": null,
            "top": null,
            "visibility": null,
            "width": null
          }
        },
        "44ab5d1b79af4c4d94e81f914998d42e": {
          "model_module": "@jupyter-widgets/controls",
          "model_name": "ProgressStyleModel",
          "model_module_version": "1.5.0",
          "state": {
            "_model_module": "@jupyter-widgets/controls",
            "_model_module_version": "1.5.0",
            "_model_name": "ProgressStyleModel",
            "_view_count": null,
            "_view_module": "@jupyter-widgets/base",
            "_view_module_version": "1.2.0",
            "_view_name": "StyleView",
            "bar_color": null,
            "description_width": ""
          }
        },
        "69226b777c9841419b5faf9cde42cb40": {
          "model_module": "@jupyter-widgets/base",
          "model_name": "LayoutModel",
          "model_module_version": "1.2.0",
          "state": {
            "_model_module": "@jupyter-widgets/base",
            "_model_module_version": "1.2.0",
            "_model_name": "LayoutModel",
            "_view_count": null,
            "_view_module": "@jupyter-widgets/base",
            "_view_module_version": "1.2.0",
            "_view_name": "LayoutView",
            "align_content": null,
            "align_items": null,
            "align_self": null,
            "border": null,
            "bottom": null,
            "display": null,
            "flex": null,
            "flex_flow": null,
            "grid_area": null,
            "grid_auto_columns": null,
            "grid_auto_flow": null,
            "grid_auto_rows": null,
            "grid_column": null,
            "grid_gap": null,
            "grid_row": null,
            "grid_template_areas": null,
            "grid_template_columns": null,
            "grid_template_rows": null,
            "height": null,
            "justify_content": null,
            "justify_items": null,
            "left": null,
            "margin": null,
            "max_height": null,
            "max_width": null,
            "min_height": null,
            "min_width": null,
            "object_fit": null,
            "object_position": null,
            "order": null,
            "overflow": null,
            "overflow_x": null,
            "overflow_y": null,
            "padding": null,
            "right": null,
            "top": null,
            "visibility": null,
            "width": null
          }
        },
        "09722b69f28a4f8c80ec856fec22ac8c": {
          "model_module": "@jupyter-widgets/controls",
          "model_name": "DescriptionStyleModel",
          "model_module_version": "1.5.0",
          "state": {
            "_model_module": "@jupyter-widgets/controls",
            "_model_module_version": "1.5.0",
            "_model_name": "DescriptionStyleModel",
            "_view_count": null,
            "_view_module": "@jupyter-widgets/base",
            "_view_module_version": "1.2.0",
            "_view_name": "StyleView",
            "description_width": ""
          }
        },
        "717e86c85c8a4bf088aadb8905fff544": {
          "model_module": "@jupyter-widgets/controls",
          "model_name": "HBoxModel",
          "model_module_version": "1.5.0",
          "state": {
            "_dom_classes": [],
            "_model_module": "@jupyter-widgets/controls",
            "_model_module_version": "1.5.0",
            "_model_name": "HBoxModel",
            "_view_count": null,
            "_view_module": "@jupyter-widgets/controls",
            "_view_module_version": "1.5.0",
            "_view_name": "HBoxView",
            "box_style": "",
            "children": [
              "IPY_MODEL_1dbc51617c18450491a5859576da547b",
              "IPY_MODEL_cafe76912dc54150944550ca72e431fc",
              "IPY_MODEL_06808384d4fb474696f2cb413b424cdc"
            ],
            "layout": "IPY_MODEL_5e6b3cb47e6c48a8b7325969d98cc802"
          }
        },
        "1dbc51617c18450491a5859576da547b": {
          "model_module": "@jupyter-widgets/controls",
          "model_name": "HTMLModel",
          "model_module_version": "1.5.0",
          "state": {
            "_dom_classes": [],
            "_model_module": "@jupyter-widgets/controls",
            "_model_module_version": "1.5.0",
            "_model_name": "HTMLModel",
            "_view_count": null,
            "_view_module": "@jupyter-widgets/controls",
            "_view_module_version": "1.5.0",
            "_view_name": "HTMLView",
            "description": "",
            "description_tooltip": null,
            "layout": "IPY_MODEL_2ab4d61dfd1846709e174a31dc6f9e3a",
            "placeholder": "​",
            "style": "IPY_MODEL_c63eb97e26514ce5b8df144ab599400a",
            "value": "100%"
          }
        },
        "cafe76912dc54150944550ca72e431fc": {
          "model_module": "@jupyter-widgets/controls",
          "model_name": "FloatProgressModel",
          "model_module_version": "1.5.0",
          "state": {
            "_dom_classes": [],
            "_model_module": "@jupyter-widgets/controls",
            "_model_module_version": "1.5.0",
            "_model_name": "FloatProgressModel",
            "_view_count": null,
            "_view_module": "@jupyter-widgets/controls",
            "_view_module_version": "1.5.0",
            "_view_name": "ProgressView",
            "bar_style": "success",
            "description": "",
            "description_tooltip": null,
            "layout": "IPY_MODEL_bc6602c7ab4346ada9c7fd579f8513c2",
            "max": 159571,
            "min": 0,
            "orientation": "horizontal",
            "style": "IPY_MODEL_b2c4f6d3fd3347f090b69e9ae59d4e46",
            "value": 159571
          }
        },
        "06808384d4fb474696f2cb413b424cdc": {
          "model_module": "@jupyter-widgets/controls",
          "model_name": "HTMLModel",
          "model_module_version": "1.5.0",
          "state": {
            "_dom_classes": [],
            "_model_module": "@jupyter-widgets/controls",
            "_model_module_version": "1.5.0",
            "_model_name": "HTMLModel",
            "_view_count": null,
            "_view_module": "@jupyter-widgets/controls",
            "_view_module_version": "1.5.0",
            "_view_name": "HTMLView",
            "description": "",
            "description_tooltip": null,
            "layout": "IPY_MODEL_0430a9d88f524d2fa17ccf6a8fbee828",
            "placeholder": "​",
            "style": "IPY_MODEL_70dc15cfcb4340cc91678273ae35f661",
            "value": " 159571/159571 [00:02&lt;00:00, 67877.18it/s]"
          }
        },
        "5e6b3cb47e6c48a8b7325969d98cc802": {
          "model_module": "@jupyter-widgets/base",
          "model_name": "LayoutModel",
          "model_module_version": "1.2.0",
          "state": {
            "_model_module": "@jupyter-widgets/base",
            "_model_module_version": "1.2.0",
            "_model_name": "LayoutModel",
            "_view_count": null,
            "_view_module": "@jupyter-widgets/base",
            "_view_module_version": "1.2.0",
            "_view_name": "LayoutView",
            "align_content": null,
            "align_items": null,
            "align_self": null,
            "border": null,
            "bottom": null,
            "display": null,
            "flex": null,
            "flex_flow": null,
            "grid_area": null,
            "grid_auto_columns": null,
            "grid_auto_flow": null,
            "grid_auto_rows": null,
            "grid_column": null,
            "grid_gap": null,
            "grid_row": null,
            "grid_template_areas": null,
            "grid_template_columns": null,
            "grid_template_rows": null,
            "height": null,
            "justify_content": null,
            "justify_items": null,
            "left": null,
            "margin": null,
            "max_height": null,
            "max_width": null,
            "min_height": null,
            "min_width": null,
            "object_fit": null,
            "object_position": null,
            "order": null,
            "overflow": null,
            "overflow_x": null,
            "overflow_y": null,
            "padding": null,
            "right": null,
            "top": null,
            "visibility": null,
            "width": null
          }
        },
        "2ab4d61dfd1846709e174a31dc6f9e3a": {
          "model_module": "@jupyter-widgets/base",
          "model_name": "LayoutModel",
          "model_module_version": "1.2.0",
          "state": {
            "_model_module": "@jupyter-widgets/base",
            "_model_module_version": "1.2.0",
            "_model_name": "LayoutModel",
            "_view_count": null,
            "_view_module": "@jupyter-widgets/base",
            "_view_module_version": "1.2.0",
            "_view_name": "LayoutView",
            "align_content": null,
            "align_items": null,
            "align_self": null,
            "border": null,
            "bottom": null,
            "display": null,
            "flex": null,
            "flex_flow": null,
            "grid_area": null,
            "grid_auto_columns": null,
            "grid_auto_flow": null,
            "grid_auto_rows": null,
            "grid_column": null,
            "grid_gap": null,
            "grid_row": null,
            "grid_template_areas": null,
            "grid_template_columns": null,
            "grid_template_rows": null,
            "height": null,
            "justify_content": null,
            "justify_items": null,
            "left": null,
            "margin": null,
            "max_height": null,
            "max_width": null,
            "min_height": null,
            "min_width": null,
            "object_fit": null,
            "object_position": null,
            "order": null,
            "overflow": null,
            "overflow_x": null,
            "overflow_y": null,
            "padding": null,
            "right": null,
            "top": null,
            "visibility": null,
            "width": null
          }
        },
        "c63eb97e26514ce5b8df144ab599400a": {
          "model_module": "@jupyter-widgets/controls",
          "model_name": "DescriptionStyleModel",
          "model_module_version": "1.5.0",
          "state": {
            "_model_module": "@jupyter-widgets/controls",
            "_model_module_version": "1.5.0",
            "_model_name": "DescriptionStyleModel",
            "_view_count": null,
            "_view_module": "@jupyter-widgets/base",
            "_view_module_version": "1.2.0",
            "_view_name": "StyleView",
            "description_width": ""
          }
        },
        "bc6602c7ab4346ada9c7fd579f8513c2": {
          "model_module": "@jupyter-widgets/base",
          "model_name": "LayoutModel",
          "model_module_version": "1.2.0",
          "state": {
            "_model_module": "@jupyter-widgets/base",
            "_model_module_version": "1.2.0",
            "_model_name": "LayoutModel",
            "_view_count": null,
            "_view_module": "@jupyter-widgets/base",
            "_view_module_version": "1.2.0",
            "_view_name": "LayoutView",
            "align_content": null,
            "align_items": null,
            "align_self": null,
            "border": null,
            "bottom": null,
            "display": null,
            "flex": null,
            "flex_flow": null,
            "grid_area": null,
            "grid_auto_columns": null,
            "grid_auto_flow": null,
            "grid_auto_rows": null,
            "grid_column": null,
            "grid_gap": null,
            "grid_row": null,
            "grid_template_areas": null,
            "grid_template_columns": null,
            "grid_template_rows": null,
            "height": null,
            "justify_content": null,
            "justify_items": null,
            "left": null,
            "margin": null,
            "max_height": null,
            "max_width": null,
            "min_height": null,
            "min_width": null,
            "object_fit": null,
            "object_position": null,
            "order": null,
            "overflow": null,
            "overflow_x": null,
            "overflow_y": null,
            "padding": null,
            "right": null,
            "top": null,
            "visibility": null,
            "width": null
          }
        },
        "b2c4f6d3fd3347f090b69e9ae59d4e46": {
          "model_module": "@jupyter-widgets/controls",
          "model_name": "ProgressStyleModel",
          "model_module_version": "1.5.0",
          "state": {
            "_model_module": "@jupyter-widgets/controls",
            "_model_module_version": "1.5.0",
            "_model_name": "ProgressStyleModel",
            "_view_count": null,
            "_view_module": "@jupyter-widgets/base",
            "_view_module_version": "1.2.0",
            "_view_name": "StyleView",
            "bar_color": null,
            "description_width": ""
          }
        },
        "0430a9d88f524d2fa17ccf6a8fbee828": {
          "model_module": "@jupyter-widgets/base",
          "model_name": "LayoutModel",
          "model_module_version": "1.2.0",
          "state": {
            "_model_module": "@jupyter-widgets/base",
            "_model_module_version": "1.2.0",
            "_model_name": "LayoutModel",
            "_view_count": null,
            "_view_module": "@jupyter-widgets/base",
            "_view_module_version": "1.2.0",
            "_view_name": "LayoutView",
            "align_content": null,
            "align_items": null,
            "align_self": null,
            "border": null,
            "bottom": null,
            "display": null,
            "flex": null,
            "flex_flow": null,
            "grid_area": null,
            "grid_auto_columns": null,
            "grid_auto_flow": null,
            "grid_auto_rows": null,
            "grid_column": null,
            "grid_gap": null,
            "grid_row": null,
            "grid_template_areas": null,
            "grid_template_columns": null,
            "grid_template_rows": null,
            "height": null,
            "justify_content": null,
            "justify_items": null,
            "left": null,
            "margin": null,
            "max_height": null,
            "max_width": null,
            "min_height": null,
            "min_width": null,
            "object_fit": null,
            "object_position": null,
            "order": null,
            "overflow": null,
            "overflow_x": null,
            "overflow_y": null,
            "padding": null,
            "right": null,
            "top": null,
            "visibility": null,
            "width": null
          }
        },
        "70dc15cfcb4340cc91678273ae35f661": {
          "model_module": "@jupyter-widgets/controls",
          "model_name": "DescriptionStyleModel",
          "model_module_version": "1.5.0",
          "state": {
            "_model_module": "@jupyter-widgets/controls",
            "_model_module_version": "1.5.0",
            "_model_name": "DescriptionStyleModel",
            "_view_count": null,
            "_view_module": "@jupyter-widgets/base",
            "_view_module_version": "1.2.0",
            "_view_name": "StyleView",
            "description_width": ""
          }
        },
        "ad7eef26f5d746d8b3b0e46695a91555": {
          "model_module": "@jupyter-widgets/controls",
          "model_name": "HBoxModel",
          "model_module_version": "1.5.0",
          "state": {
            "_dom_classes": [],
            "_model_module": "@jupyter-widgets/controls",
            "_model_module_version": "1.5.0",
            "_model_name": "HBoxModel",
            "_view_count": null,
            "_view_module": "@jupyter-widgets/controls",
            "_view_module_version": "1.5.0",
            "_view_name": "HBoxView",
            "box_style": "",
            "children": [
              "IPY_MODEL_bbfe36a17f8b4f04a6b688023b321be2",
              "IPY_MODEL_4294fab570934dda8cbd9a79bfa1069d",
              "IPY_MODEL_2dc3a4fe37dd47d4b0c5b317ba5f4c90"
            ],
            "layout": "IPY_MODEL_dbb6994d213f4754b2ba000c50cecc90"
          }
        },
        "bbfe36a17f8b4f04a6b688023b321be2": {
          "model_module": "@jupyter-widgets/controls",
          "model_name": "HTMLModel",
          "model_module_version": "1.5.0",
          "state": {
            "_dom_classes": [],
            "_model_module": "@jupyter-widgets/controls",
            "_model_module_version": "1.5.0",
            "_model_name": "HTMLModel",
            "_view_count": null,
            "_view_module": "@jupyter-widgets/controls",
            "_view_module_version": "1.5.0",
            "_view_name": "HTMLView",
            "description": "",
            "description_tooltip": null,
            "layout": "IPY_MODEL_00ea88279b9f4ae8b461ce40c07d4c96",
            "placeholder": "​",
            "style": "IPY_MODEL_ef78367e74494401a59375fab64f055a",
            "value": "100%"
          }
        },
        "4294fab570934dda8cbd9a79bfa1069d": {
          "model_module": "@jupyter-widgets/controls",
          "model_name": "FloatProgressModel",
          "model_module_version": "1.5.0",
          "state": {
            "_dom_classes": [],
            "_model_module": "@jupyter-widgets/controls",
            "_model_module_version": "1.5.0",
            "_model_name": "FloatProgressModel",
            "_view_count": null,
            "_view_module": "@jupyter-widgets/controls",
            "_view_module_version": "1.5.0",
            "_view_name": "ProgressView",
            "bar_style": "success",
            "description": "",
            "description_tooltip": null,
            "layout": "IPY_MODEL_ab133429d10d4d2aa22cb95ee58f0db8",
            "max": 153164,
            "min": 0,
            "orientation": "horizontal",
            "style": "IPY_MODEL_6ed4df9488d04612bb5d155cc9a74f8c",
            "value": 153164
          }
        },
        "2dc3a4fe37dd47d4b0c5b317ba5f4c90": {
          "model_module": "@jupyter-widgets/controls",
          "model_name": "HTMLModel",
          "model_module_version": "1.5.0",
          "state": {
            "_dom_classes": [],
            "_model_module": "@jupyter-widgets/controls",
            "_model_module_version": "1.5.0",
            "_model_name": "HTMLModel",
            "_view_count": null,
            "_view_module": "@jupyter-widgets/controls",
            "_view_module_version": "1.5.0",
            "_view_name": "HTMLView",
            "description": "",
            "description_tooltip": null,
            "layout": "IPY_MODEL_d754998a1e694d8292a7c25d069141ac",
            "placeholder": "​",
            "style": "IPY_MODEL_eb69e724ca194054aa28fa0758e60e76",
            "value": " 153164/153164 [00:02&lt;00:00, 74320.67it/s]"
          }
        },
        "dbb6994d213f4754b2ba000c50cecc90": {
          "model_module": "@jupyter-widgets/base",
          "model_name": "LayoutModel",
          "model_module_version": "1.2.0",
          "state": {
            "_model_module": "@jupyter-widgets/base",
            "_model_module_version": "1.2.0",
            "_model_name": "LayoutModel",
            "_view_count": null,
            "_view_module": "@jupyter-widgets/base",
            "_view_module_version": "1.2.0",
            "_view_name": "LayoutView",
            "align_content": null,
            "align_items": null,
            "align_self": null,
            "border": null,
            "bottom": null,
            "display": null,
            "flex": null,
            "flex_flow": null,
            "grid_area": null,
            "grid_auto_columns": null,
            "grid_auto_flow": null,
            "grid_auto_rows": null,
            "grid_column": null,
            "grid_gap": null,
            "grid_row": null,
            "grid_template_areas": null,
            "grid_template_columns": null,
            "grid_template_rows": null,
            "height": null,
            "justify_content": null,
            "justify_items": null,
            "left": null,
            "margin": null,
            "max_height": null,
            "max_width": null,
            "min_height": null,
            "min_width": null,
            "object_fit": null,
            "object_position": null,
            "order": null,
            "overflow": null,
            "overflow_x": null,
            "overflow_y": null,
            "padding": null,
            "right": null,
            "top": null,
            "visibility": null,
            "width": null
          }
        },
        "00ea88279b9f4ae8b461ce40c07d4c96": {
          "model_module": "@jupyter-widgets/base",
          "model_name": "LayoutModel",
          "model_module_version": "1.2.0",
          "state": {
            "_model_module": "@jupyter-widgets/base",
            "_model_module_version": "1.2.0",
            "_model_name": "LayoutModel",
            "_view_count": null,
            "_view_module": "@jupyter-widgets/base",
            "_view_module_version": "1.2.0",
            "_view_name": "LayoutView",
            "align_content": null,
            "align_items": null,
            "align_self": null,
            "border": null,
            "bottom": null,
            "display": null,
            "flex": null,
            "flex_flow": null,
            "grid_area": null,
            "grid_auto_columns": null,
            "grid_auto_flow": null,
            "grid_auto_rows": null,
            "grid_column": null,
            "grid_gap": null,
            "grid_row": null,
            "grid_template_areas": null,
            "grid_template_columns": null,
            "grid_template_rows": null,
            "height": null,
            "justify_content": null,
            "justify_items": null,
            "left": null,
            "margin": null,
            "max_height": null,
            "max_width": null,
            "min_height": null,
            "min_width": null,
            "object_fit": null,
            "object_position": null,
            "order": null,
            "overflow": null,
            "overflow_x": null,
            "overflow_y": null,
            "padding": null,
            "right": null,
            "top": null,
            "visibility": null,
            "width": null
          }
        },
        "ef78367e74494401a59375fab64f055a": {
          "model_module": "@jupyter-widgets/controls",
          "model_name": "DescriptionStyleModel",
          "model_module_version": "1.5.0",
          "state": {
            "_model_module": "@jupyter-widgets/controls",
            "_model_module_version": "1.5.0",
            "_model_name": "DescriptionStyleModel",
            "_view_count": null,
            "_view_module": "@jupyter-widgets/base",
            "_view_module_version": "1.2.0",
            "_view_name": "StyleView",
            "description_width": ""
          }
        },
        "ab133429d10d4d2aa22cb95ee58f0db8": {
          "model_module": "@jupyter-widgets/base",
          "model_name": "LayoutModel",
          "model_module_version": "1.2.0",
          "state": {
            "_model_module": "@jupyter-widgets/base",
            "_model_module_version": "1.2.0",
            "_model_name": "LayoutModel",
            "_view_count": null,
            "_view_module": "@jupyter-widgets/base",
            "_view_module_version": "1.2.0",
            "_view_name": "LayoutView",
            "align_content": null,
            "align_items": null,
            "align_self": null,
            "border": null,
            "bottom": null,
            "display": null,
            "flex": null,
            "flex_flow": null,
            "grid_area": null,
            "grid_auto_columns": null,
            "grid_auto_flow": null,
            "grid_auto_rows": null,
            "grid_column": null,
            "grid_gap": null,
            "grid_row": null,
            "grid_template_areas": null,
            "grid_template_columns": null,
            "grid_template_rows": null,
            "height": null,
            "justify_content": null,
            "justify_items": null,
            "left": null,
            "margin": null,
            "max_height": null,
            "max_width": null,
            "min_height": null,
            "min_width": null,
            "object_fit": null,
            "object_position": null,
            "order": null,
            "overflow": null,
            "overflow_x": null,
            "overflow_y": null,
            "padding": null,
            "right": null,
            "top": null,
            "visibility": null,
            "width": null
          }
        },
        "6ed4df9488d04612bb5d155cc9a74f8c": {
          "model_module": "@jupyter-widgets/controls",
          "model_name": "ProgressStyleModel",
          "model_module_version": "1.5.0",
          "state": {
            "_model_module": "@jupyter-widgets/controls",
            "_model_module_version": "1.5.0",
            "_model_name": "ProgressStyleModel",
            "_view_count": null,
            "_view_module": "@jupyter-widgets/base",
            "_view_module_version": "1.2.0",
            "_view_name": "StyleView",
            "bar_color": null,
            "description_width": ""
          }
        },
        "d754998a1e694d8292a7c25d069141ac": {
          "model_module": "@jupyter-widgets/base",
          "model_name": "LayoutModel",
          "model_module_version": "1.2.0",
          "state": {
            "_model_module": "@jupyter-widgets/base",
            "_model_module_version": "1.2.0",
            "_model_name": "LayoutModel",
            "_view_count": null,
            "_view_module": "@jupyter-widgets/base",
            "_view_module_version": "1.2.0",
            "_view_name": "LayoutView",
            "align_content": null,
            "align_items": null,
            "align_self": null,
            "border": null,
            "bottom": null,
            "display": null,
            "flex": null,
            "flex_flow": null,
            "grid_area": null,
            "grid_auto_columns": null,
            "grid_auto_flow": null,
            "grid_auto_rows": null,
            "grid_column": null,
            "grid_gap": null,
            "grid_row": null,
            "grid_template_areas": null,
            "grid_template_columns": null,
            "grid_template_rows": null,
            "height": null,
            "justify_content": null,
            "justify_items": null,
            "left": null,
            "margin": null,
            "max_height": null,
            "max_width": null,
            "min_height": null,
            "min_width": null,
            "object_fit": null,
            "object_position": null,
            "order": null,
            "overflow": null,
            "overflow_x": null,
            "overflow_y": null,
            "padding": null,
            "right": null,
            "top": null,
            "visibility": null,
            "width": null
          }
        },
        "eb69e724ca194054aa28fa0758e60e76": {
          "model_module": "@jupyter-widgets/controls",
          "model_name": "DescriptionStyleModel",
          "model_module_version": "1.5.0",
          "state": {
            "_model_module": "@jupyter-widgets/controls",
            "_model_module_version": "1.5.0",
            "_model_name": "DescriptionStyleModel",
            "_view_count": null,
            "_view_module": "@jupyter-widgets/base",
            "_view_module_version": "1.2.0",
            "_view_name": "StyleView",
            "description_width": ""
          }
        }
      }
    }
  },
  "cells": [
    {
      "cell_type": "markdown",
      "metadata": {
        "id": "wcGq1dF0iWju"
      },
      "source": [
        "# Importing Libraries"
      ]
    },
    {
      "cell_type": "code",
      "metadata": {
        "id": "iyTgJx85_MUt",
        "colab": {
          "base_uri": "https://localhost:8080/"
        },
        "outputId": "040710be-2358-4f11-e629-d86564012fdb"
      },
      "source": [
        "from google.colab import drive\n",
        "drive.mount('/content/drive')"
      ],
      "execution_count": 15,
      "outputs": [
        {
          "output_type": "stream",
          "name": "stdout",
          "text": [
            "Drive already mounted at /content/drive; to attempt to forcibly remount, call drive.mount(\"/content/drive\", force_remount=True).\n"
          ]
        }
      ]
    },
    {
      "cell_type": "code",
      "metadata": {
        "id": "xEXu-mePiK9T",
        "colab": {
          "base_uri": "https://localhost:8080/"
        },
        "outputId": "91e14371-1ed3-42ba-f09a-eedf22d0fb96"
      },
      "source": [
        "import numpy as np, pandas as pd\n",
        "\n",
        "!pip install talos\n",
        "\n",
        "import re\n",
        "import spacy\n",
        "from spacy.lang.en import English\n",
        "from spacy.lang.en.stop_words import STOP_WORDS\n",
        "from nltk.tokenize import word_tokenize\n",
        "import nltk\n",
        "from nltk.stem import WordNetLemmatizer\n",
        "nltk.download('wordnet')\n",
        "import string\n",
        "from string import ascii_lowercase\n",
        "\n",
        "from tqdm import tqdm_notebook\n",
        "import itertools\n",
        "import io\n",
        "\n",
        "import matplotlib.pyplot as plt\n",
        "%matplotlib inline\n",
        "\n",
        "from functools import reduce\n",
        "from tensorflow import keras\n",
        "from keras.preprocessing.text import Tokenizer\n",
        "from keras.preprocessing.sequence import pad_sequences\n",
        "from keras.layers import Dense, Input, LSTM, Embedding, Dropout, Activation\n",
        "from keras.layers import Bidirectional, GlobalMaxPool1D\n",
        "from keras.models import Model\n",
        "from keras.models import Sequential\n",
        "from keras.layers import Conv1D, MaxPooling1D\n",
        "from keras.layers import BatchNormalization\n",
        "from keras import initializers, regularizers, constraints, optimizers, layers\n",
        "import talos"
      ],
      "execution_count": null,
      "outputs": [
        {
          "output_type": "stream",
          "name": "stdout",
          "text": [
            "Looking in indexes: https://pypi.org/simple, https://us-python.pkg.dev/colab-wheels/public/simple/\n",
            "Collecting talos\n",
            "  Downloading talos-1.3-py3-none-any.whl (56 kB)\n",
            "\u001b[K     |████████████████████████████████| 56 kB 5.0 MB/s \n",
            "\u001b[?25hCollecting wrangle\n",
            "  Downloading wrangle-0.7.2-py3-none-any.whl (52 kB)\n",
            "\u001b[K     |████████████████████████████████| 52 kB 1.0 MB/s \n",
            "\u001b[?25hCollecting astetik\n",
            "  Downloading astetik-1.13-py3-none-any.whl (5.4 MB)\n",
            "\u001b[K     |████████████████████████████████| 5.4 MB 57.6 MB/s \n",
            "\u001b[?25hCollecting kerasplotlib\n",
            "  Downloading kerasplotlib-1.0-py3-none-any.whl (4.3 kB)\n",
            "Requirement already satisfied: tqdm in /usr/local/lib/python3.7/dist-packages (from talos) (4.64.0)\n",
            "Requirement already satisfied: sklearn in /usr/local/lib/python3.7/dist-packages (from talos) (0.0)\n",
            "Requirement already satisfied: numpy in /usr/local/lib/python3.7/dist-packages (from talos) (1.21.6)\n",
            "Collecting statsmodels>=0.11.0\n",
            "  Downloading statsmodels-0.13.2-cp37-cp37m-manylinux_2_17_x86_64.manylinux2014_x86_64.whl (9.8 MB)\n",
            "\u001b[K     |████████████████████████████████| 9.8 MB 47.7 MB/s \n",
            "\u001b[?25hRequirement already satisfied: requests in /usr/local/lib/python3.7/dist-packages (from talos) (2.23.0)\n",
            "Collecting chances\n",
            "  Downloading chances-0.1.9.tar.gz (35 kB)\n",
            "Requirement already satisfied: pandas in /usr/local/lib/python3.7/dist-packages (from talos) (1.3.5)\n",
            "Requirement already satisfied: tensorflow>=2.0.0 in /usr/local/lib/python3.7/dist-packages (from talos) (2.8.2+zzzcolab20220527125636)\n",
            "Requirement already satisfied: packaging>=21.3 in /usr/local/lib/python3.7/dist-packages (from statsmodels>=0.11.0->talos) (21.3)\n",
            "Requirement already satisfied: patsy>=0.5.2 in /usr/local/lib/python3.7/dist-packages (from statsmodels>=0.11.0->talos) (0.5.2)\n",
            "Requirement already satisfied: scipy>=1.3 in /usr/local/lib/python3.7/dist-packages (from statsmodels>=0.11.0->talos) (1.7.3)\n",
            "Requirement already satisfied: pyparsing!=3.0.5,>=2.0.2 in /usr/local/lib/python3.7/dist-packages (from packaging>=21.3->statsmodels>=0.11.0->talos) (3.0.9)\n",
            "Requirement already satisfied: python-dateutil>=2.7.3 in /usr/local/lib/python3.7/dist-packages (from pandas->talos) (2.8.2)\n",
            "Requirement already satisfied: pytz>=2017.3 in /usr/local/lib/python3.7/dist-packages (from pandas->talos) (2022.1)\n",
            "Requirement already satisfied: six in /usr/local/lib/python3.7/dist-packages (from patsy>=0.5.2->statsmodels>=0.11.0->talos) (1.15.0)\n",
            "Requirement already satisfied: flatbuffers>=1.12 in /usr/local/lib/python3.7/dist-packages (from tensorflow>=2.0.0->talos) (2.0)\n",
            "Requirement already satisfied: wrapt>=1.11.0 in /usr/local/lib/python3.7/dist-packages (from tensorflow>=2.0.0->talos) (1.14.1)\n",
            "Requirement already satisfied: gast>=0.2.1 in /usr/local/lib/python3.7/dist-packages (from tensorflow>=2.0.0->talos) (0.5.3)\n",
            "Requirement already satisfied: libclang>=9.0.1 in /usr/local/lib/python3.7/dist-packages (from tensorflow>=2.0.0->talos) (14.0.1)\n",
            "Requirement already satisfied: typing-extensions>=3.6.6 in /usr/local/lib/python3.7/dist-packages (from tensorflow>=2.0.0->talos) (4.1.1)\n",
            "Requirement already satisfied: opt-einsum>=2.3.2 in /usr/local/lib/python3.7/dist-packages (from tensorflow>=2.0.0->talos) (3.3.0)\n",
            "Requirement already satisfied: protobuf<3.20,>=3.9.2 in /usr/local/lib/python3.7/dist-packages (from tensorflow>=2.0.0->talos) (3.17.3)\n",
            "Requirement already satisfied: h5py>=2.9.0 in /usr/local/lib/python3.7/dist-packages (from tensorflow>=2.0.0->talos) (3.1.0)\n",
            "Requirement already satisfied: grpcio<2.0,>=1.24.3 in /usr/local/lib/python3.7/dist-packages (from tensorflow>=2.0.0->talos) (1.47.0)\n",
            "Requirement already satisfied: tensorboard<2.9,>=2.8 in /usr/local/lib/python3.7/dist-packages (from tensorflow>=2.0.0->talos) (2.8.0)\n",
            "Requirement already satisfied: keras<2.9,>=2.8.0rc0 in /usr/local/lib/python3.7/dist-packages (from tensorflow>=2.0.0->talos) (2.8.0)\n",
            "Requirement already satisfied: absl-py>=0.4.0 in /usr/local/lib/python3.7/dist-packages (from tensorflow>=2.0.0->talos) (1.1.0)\n",
            "Requirement already satisfied: astunparse>=1.6.0 in /usr/local/lib/python3.7/dist-packages (from tensorflow>=2.0.0->talos) (1.6.3)\n",
            "Requirement already satisfied: keras-preprocessing>=1.1.1 in /usr/local/lib/python3.7/dist-packages (from tensorflow>=2.0.0->talos) (1.1.2)\n",
            "Requirement already satisfied: setuptools in /usr/local/lib/python3.7/dist-packages (from tensorflow>=2.0.0->talos) (57.4.0)\n",
            "Requirement already satisfied: tensorflow-io-gcs-filesystem>=0.23.1 in /usr/local/lib/python3.7/dist-packages (from tensorflow>=2.0.0->talos) (0.26.0)\n",
            "Requirement already satisfied: tensorflow-estimator<2.9,>=2.8 in /usr/local/lib/python3.7/dist-packages (from tensorflow>=2.0.0->talos) (2.8.0)\n",
            "Requirement already satisfied: termcolor>=1.1.0 in /usr/local/lib/python3.7/dist-packages (from tensorflow>=2.0.0->talos) (1.1.0)\n",
            "Requirement already satisfied: google-pasta>=0.1.1 in /usr/local/lib/python3.7/dist-packages (from tensorflow>=2.0.0->talos) (0.2.0)\n",
            "Requirement already satisfied: wheel<1.0,>=0.23.0 in /usr/local/lib/python3.7/dist-packages (from astunparse>=1.6.0->tensorflow>=2.0.0->talos) (0.37.1)\n",
            "Requirement already satisfied: cached-property in /usr/local/lib/python3.7/dist-packages (from h5py>=2.9.0->tensorflow>=2.0.0->talos) (1.5.2)\n",
            "Requirement already satisfied: tensorboard-data-server<0.7.0,>=0.6.0 in /usr/local/lib/python3.7/dist-packages (from tensorboard<2.9,>=2.8->tensorflow>=2.0.0->talos) (0.6.1)\n",
            "Requirement already satisfied: markdown>=2.6.8 in /usr/local/lib/python3.7/dist-packages (from tensorboard<2.9,>=2.8->tensorflow>=2.0.0->talos) (3.3.7)\n",
            "Requirement already satisfied: werkzeug>=0.11.15 in /usr/local/lib/python3.7/dist-packages (from tensorboard<2.9,>=2.8->tensorflow>=2.0.0->talos) (1.0.1)\n",
            "Requirement already satisfied: tensorboard-plugin-wit>=1.6.0 in /usr/local/lib/python3.7/dist-packages (from tensorboard<2.9,>=2.8->tensorflow>=2.0.0->talos) (1.8.1)\n",
            "Requirement already satisfied: google-auth-oauthlib<0.5,>=0.4.1 in /usr/local/lib/python3.7/dist-packages (from tensorboard<2.9,>=2.8->tensorflow>=2.0.0->talos) (0.4.6)\n",
            "Requirement already satisfied: google-auth<3,>=1.6.3 in /usr/local/lib/python3.7/dist-packages (from tensorboard<2.9,>=2.8->tensorflow>=2.0.0->talos) (1.35.0)\n",
            "Requirement already satisfied: pyasn1-modules>=0.2.1 in /usr/local/lib/python3.7/dist-packages (from google-auth<3,>=1.6.3->tensorboard<2.9,>=2.8->tensorflow>=2.0.0->talos) (0.2.8)\n",
            "Requirement already satisfied: cachetools<5.0,>=2.0.0 in /usr/local/lib/python3.7/dist-packages (from google-auth<3,>=1.6.3->tensorboard<2.9,>=2.8->tensorflow>=2.0.0->talos) (4.2.4)\n",
            "Requirement already satisfied: rsa<5,>=3.1.4 in /usr/local/lib/python3.7/dist-packages (from google-auth<3,>=1.6.3->tensorboard<2.9,>=2.8->tensorflow>=2.0.0->talos) (4.8)\n",
            "Requirement already satisfied: requests-oauthlib>=0.7.0 in /usr/local/lib/python3.7/dist-packages (from google-auth-oauthlib<0.5,>=0.4.1->tensorboard<2.9,>=2.8->tensorflow>=2.0.0->talos) (1.3.1)\n",
            "Requirement already satisfied: importlib-metadata>=4.4 in /usr/local/lib/python3.7/dist-packages (from markdown>=2.6.8->tensorboard<2.9,>=2.8->tensorflow>=2.0.0->talos) (4.12.0)\n",
            "Requirement already satisfied: zipp>=0.5 in /usr/local/lib/python3.7/dist-packages (from importlib-metadata>=4.4->markdown>=2.6.8->tensorboard<2.9,>=2.8->tensorflow>=2.0.0->talos) (3.8.0)\n",
            "Requirement already satisfied: pyasn1<0.5.0,>=0.4.6 in /usr/local/lib/python3.7/dist-packages (from pyasn1-modules>=0.2.1->google-auth<3,>=1.6.3->tensorboard<2.9,>=2.8->tensorflow>=2.0.0->talos) (0.4.8)\n",
            "Requirement already satisfied: idna<3,>=2.5 in /usr/local/lib/python3.7/dist-packages (from requests->talos) (2.10)\n",
            "Requirement already satisfied: chardet<4,>=3.0.2 in /usr/local/lib/python3.7/dist-packages (from requests->talos) (3.0.4)\n",
            "Requirement already satisfied: urllib3!=1.25.0,!=1.25.1,<1.26,>=1.21.1 in /usr/local/lib/python3.7/dist-packages (from requests->talos) (1.24.3)\n",
            "Requirement already satisfied: certifi>=2017.4.17 in /usr/local/lib/python3.7/dist-packages (from requests->talos) (2022.6.15)\n",
            "Requirement already satisfied: oauthlib>=3.0.0 in /usr/local/lib/python3.7/dist-packages (from requests-oauthlib>=0.7.0->google-auth-oauthlib<0.5,>=0.4.1->tensorboard<2.9,>=2.8->tensorflow>=2.0.0->talos) (3.2.0)\n",
            "Requirement already satisfied: IPython in /usr/local/lib/python3.7/dist-packages (from astetik->talos) (5.5.0)\n",
            "Collecting geonamescache\n",
            "  Downloading geonamescache-1.4.0-py3-none-any.whl (26.4 MB)\n",
            "\u001b[K     |████████████████████████████████| 26.4 MB 36.4 MB/s \n",
            "\u001b[?25hRequirement already satisfied: seaborn in /usr/local/lib/python3.7/dist-packages (from astetik->talos) (0.11.2)\n",
            "Requirement already satisfied: pexpect in /usr/local/lib/python3.7/dist-packages (from IPython->astetik->talos) (4.8.0)\n",
            "Requirement already satisfied: pickleshare in /usr/local/lib/python3.7/dist-packages (from IPython->astetik->talos) (0.7.5)\n",
            "Requirement already satisfied: pygments in /usr/local/lib/python3.7/dist-packages (from IPython->astetik->talos) (2.6.1)\n",
            "Requirement already satisfied: prompt-toolkit<2.0.0,>=1.0.4 in /usr/local/lib/python3.7/dist-packages (from IPython->astetik->talos) (1.0.18)\n",
            "Requirement already satisfied: simplegeneric>0.8 in /usr/local/lib/python3.7/dist-packages (from IPython->astetik->talos) (0.8.1)\n",
            "Requirement already satisfied: traitlets>=4.2 in /usr/local/lib/python3.7/dist-packages (from IPython->astetik->talos) (5.1.1)\n",
            "Requirement already satisfied: decorator in /usr/local/lib/python3.7/dist-packages (from IPython->astetik->talos) (4.4.2)\n",
            "Requirement already satisfied: wcwidth in /usr/local/lib/python3.7/dist-packages (from prompt-toolkit<2.0.0,>=1.0.4->IPython->astetik->talos) (0.2.5)\n",
            "Requirement already satisfied: matplotlib in /usr/local/lib/python3.7/dist-packages (from kerasplotlib->talos) (3.2.2)\n",
            "Requirement already satisfied: kiwisolver>=1.0.1 in /usr/local/lib/python3.7/dist-packages (from matplotlib->kerasplotlib->talos) (1.4.3)\n",
            "Requirement already satisfied: cycler>=0.10 in /usr/local/lib/python3.7/dist-packages (from matplotlib->kerasplotlib->talos) (0.11.0)\n",
            "Requirement already satisfied: ptyprocess>=0.5 in /usr/local/lib/python3.7/dist-packages (from pexpect->IPython->astetik->talos) (0.7.0)\n",
            "Requirement already satisfied: scikit-learn in /usr/local/lib/python3.7/dist-packages (from sklearn->talos) (1.0.2)\n",
            "Requirement already satisfied: joblib>=0.11 in /usr/local/lib/python3.7/dist-packages (from scikit-learn->sklearn->talos) (1.1.0)\n",
            "Requirement already satisfied: threadpoolctl>=2.0.0 in /usr/local/lib/python3.7/dist-packages (from scikit-learn->sklearn->talos) (3.1.0)\n",
            "Building wheels for collected packages: chances\n",
            "  Building wheel for chances (setup.py) ... \u001b[?25l\u001b[?25hdone\n",
            "  Created wheel for chances: filename=chances-0.1.9-py3-none-any.whl size=41608 sha256=a614675bfaa2792ca181df2f958b8218506978dcf34a543d9c81bbccd021b671\n",
            "  Stored in directory: /root/.cache/pip/wheels/f3/2e/7e/316f7da11ccf2195ff05e4a0186a4b5975be9bd0b0004198b6\n",
            "Successfully built chances\n",
            "Installing collected packages: statsmodels, wrangle, geonamescache, kerasplotlib, chances, astetik, talos\n",
            "  Attempting uninstall: statsmodels\n",
            "    Found existing installation: statsmodels 0.10.2\n",
            "    Uninstalling statsmodels-0.10.2:\n",
            "      Successfully uninstalled statsmodels-0.10.2\n",
            "Successfully installed astetik-1.13 chances-0.1.9 geonamescache-1.4.0 kerasplotlib-1.0 statsmodels-0.13.2 talos-1.3 wrangle-0.7.2\n"
          ]
        },
        {
          "output_type": "stream",
          "name": "stderr",
          "text": [
            "[nltk_data] Downloading package wordnet to /root/nltk_data...\n"
          ]
        }
      ]
    },
    {
      "cell_type": "markdown",
      "metadata": {
        "id": "z8KPqb7_vC59"
      },
      "source": [
        "# Importing Data"
      ]
    },
    {
      "cell_type": "code",
      "metadata": {
        "id": "96Z6cXAZiaAY"
      },
      "source": [
        "train=pd.read_csv('/content/drive/MyDrive/jigsaw-toxic-comment-classification-challenge/train.csv')    "
      ],
      "execution_count": 5,
      "outputs": []
    },
    {
      "cell_type": "code",
      "metadata": {
        "id": "yTbZDdkc1lxE",
        "outputId": "21d76854-12a4-4287-89a5-ef3e499a6318",
        "colab": {
          "base_uri": "https://localhost:8080/",
          "height": 206
        }
      },
      "source": [
        "train.head()"
      ],
      "execution_count": 6,
      "outputs": [
        {
          "output_type": "execute_result",
          "data": {
            "text/plain": [
              "                 id                                       comment_text  toxic  \\\n",
              "0  0000997932d777bf  Explanation\\nWhy the edits made under my usern...      0   \n",
              "1  000103f0d9cfb60f  D'aww! He matches this background colour I'm s...      0   \n",
              "2  000113f07ec002fd  Hey man, I'm really not trying to edit war. It...      0   \n",
              "3  0001b41b1c6bb37e  \"\\nMore\\nI can't make any real suggestions on ...      0   \n",
              "4  0001d958c54c6e35  You, sir, are my hero. Any chance you remember...      0   \n",
              "\n",
              "   severe_toxic  obscene  threat  insult  identity_hate  \n",
              "0             0        0       0       0              0  \n",
              "1             0        0       0       0              0  \n",
              "2             0        0       0       0              0  \n",
              "3             0        0       0       0              0  \n",
              "4             0        0       0       0              0  "
            ],
            "text/html": [
              "\n",
              "  <div id=\"df-1950aa7a-4ec1-4446-bf41-6dca16481cbc\">\n",
              "    <div class=\"colab-df-container\">\n",
              "      <div>\n",
              "<style scoped>\n",
              "    .dataframe tbody tr th:only-of-type {\n",
              "        vertical-align: middle;\n",
              "    }\n",
              "\n",
              "    .dataframe tbody tr th {\n",
              "        vertical-align: top;\n",
              "    }\n",
              "\n",
              "    .dataframe thead th {\n",
              "        text-align: right;\n",
              "    }\n",
              "</style>\n",
              "<table border=\"1\" class=\"dataframe\">\n",
              "  <thead>\n",
              "    <tr style=\"text-align: right;\">\n",
              "      <th></th>\n",
              "      <th>id</th>\n",
              "      <th>comment_text</th>\n",
              "      <th>toxic</th>\n",
              "      <th>severe_toxic</th>\n",
              "      <th>obscene</th>\n",
              "      <th>threat</th>\n",
              "      <th>insult</th>\n",
              "      <th>identity_hate</th>\n",
              "    </tr>\n",
              "  </thead>\n",
              "  <tbody>\n",
              "    <tr>\n",
              "      <th>0</th>\n",
              "      <td>0000997932d777bf</td>\n",
              "      <td>Explanation\\nWhy the edits made under my usern...</td>\n",
              "      <td>0</td>\n",
              "      <td>0</td>\n",
              "      <td>0</td>\n",
              "      <td>0</td>\n",
              "      <td>0</td>\n",
              "      <td>0</td>\n",
              "    </tr>\n",
              "    <tr>\n",
              "      <th>1</th>\n",
              "      <td>000103f0d9cfb60f</td>\n",
              "      <td>D'aww! He matches this background colour I'm s...</td>\n",
              "      <td>0</td>\n",
              "      <td>0</td>\n",
              "      <td>0</td>\n",
              "      <td>0</td>\n",
              "      <td>0</td>\n",
              "      <td>0</td>\n",
              "    </tr>\n",
              "    <tr>\n",
              "      <th>2</th>\n",
              "      <td>000113f07ec002fd</td>\n",
              "      <td>Hey man, I'm really not trying to edit war. It...</td>\n",
              "      <td>0</td>\n",
              "      <td>0</td>\n",
              "      <td>0</td>\n",
              "      <td>0</td>\n",
              "      <td>0</td>\n",
              "      <td>0</td>\n",
              "    </tr>\n",
              "    <tr>\n",
              "      <th>3</th>\n",
              "      <td>0001b41b1c6bb37e</td>\n",
              "      <td>\"\\nMore\\nI can't make any real suggestions on ...</td>\n",
              "      <td>0</td>\n",
              "      <td>0</td>\n",
              "      <td>0</td>\n",
              "      <td>0</td>\n",
              "      <td>0</td>\n",
              "      <td>0</td>\n",
              "    </tr>\n",
              "    <tr>\n",
              "      <th>4</th>\n",
              "      <td>0001d958c54c6e35</td>\n",
              "      <td>You, sir, are my hero. Any chance you remember...</td>\n",
              "      <td>0</td>\n",
              "      <td>0</td>\n",
              "      <td>0</td>\n",
              "      <td>0</td>\n",
              "      <td>0</td>\n",
              "      <td>0</td>\n",
              "    </tr>\n",
              "  </tbody>\n",
              "</table>\n",
              "</div>\n",
              "      <button class=\"colab-df-convert\" onclick=\"convertToInteractive('df-1950aa7a-4ec1-4446-bf41-6dca16481cbc')\"\n",
              "              title=\"Convert this dataframe to an interactive table.\"\n",
              "              style=\"display:none;\">\n",
              "        \n",
              "  <svg xmlns=\"http://www.w3.org/2000/svg\" height=\"24px\"viewBox=\"0 0 24 24\"\n",
              "       width=\"24px\">\n",
              "    <path d=\"M0 0h24v24H0V0z\" fill=\"none\"/>\n",
              "    <path d=\"M18.56 5.44l.94 2.06.94-2.06 2.06-.94-2.06-.94-.94-2.06-.94 2.06-2.06.94zm-11 1L8.5 8.5l.94-2.06 2.06-.94-2.06-.94L8.5 2.5l-.94 2.06-2.06.94zm10 10l.94 2.06.94-2.06 2.06-.94-2.06-.94-.94-2.06-.94 2.06-2.06.94z\"/><path d=\"M17.41 7.96l-1.37-1.37c-.4-.4-.92-.59-1.43-.59-.52 0-1.04.2-1.43.59L10.3 9.45l-7.72 7.72c-.78.78-.78 2.05 0 2.83L4 21.41c.39.39.9.59 1.41.59.51 0 1.02-.2 1.41-.59l7.78-7.78 2.81-2.81c.8-.78.8-2.07 0-2.86zM5.41 20L4 18.59l7.72-7.72 1.47 1.35L5.41 20z\"/>\n",
              "  </svg>\n",
              "      </button>\n",
              "      \n",
              "  <style>\n",
              "    .colab-df-container {\n",
              "      display:flex;\n",
              "      flex-wrap:wrap;\n",
              "      gap: 12px;\n",
              "    }\n",
              "\n",
              "    .colab-df-convert {\n",
              "      background-color: #E8F0FE;\n",
              "      border: none;\n",
              "      border-radius: 50%;\n",
              "      cursor: pointer;\n",
              "      display: none;\n",
              "      fill: #1967D2;\n",
              "      height: 32px;\n",
              "      padding: 0 0 0 0;\n",
              "      width: 32px;\n",
              "    }\n",
              "\n",
              "    .colab-df-convert:hover {\n",
              "      background-color: #E2EBFA;\n",
              "      box-shadow: 0px 1px 2px rgba(60, 64, 67, 0.3), 0px 1px 3px 1px rgba(60, 64, 67, 0.15);\n",
              "      fill: #174EA6;\n",
              "    }\n",
              "\n",
              "    [theme=dark] .colab-df-convert {\n",
              "      background-color: #3B4455;\n",
              "      fill: #D2E3FC;\n",
              "    }\n",
              "\n",
              "    [theme=dark] .colab-df-convert:hover {\n",
              "      background-color: #434B5C;\n",
              "      box-shadow: 0px 1px 3px 1px rgba(0, 0, 0, 0.15);\n",
              "      filter: drop-shadow(0px 1px 2px rgba(0, 0, 0, 0.3));\n",
              "      fill: #FFFFFF;\n",
              "    }\n",
              "  </style>\n",
              "\n",
              "      <script>\n",
              "        const buttonEl =\n",
              "          document.querySelector('#df-1950aa7a-4ec1-4446-bf41-6dca16481cbc button.colab-df-convert');\n",
              "        buttonEl.style.display =\n",
              "          google.colab.kernel.accessAllowed ? 'block' : 'none';\n",
              "\n",
              "        async function convertToInteractive(key) {\n",
              "          const element = document.querySelector('#df-1950aa7a-4ec1-4446-bf41-6dca16481cbc');\n",
              "          const dataTable =\n",
              "            await google.colab.kernel.invokeFunction('convertToInteractive',\n",
              "                                                     [key], {});\n",
              "          if (!dataTable) return;\n",
              "\n",
              "          const docLinkHtml = 'Like what you see? Visit the ' +\n",
              "            '<a target=\"_blank\" href=https://colab.research.google.com/notebooks/data_table.ipynb>data table notebook</a>'\n",
              "            + ' to learn more about interactive tables.';\n",
              "          element.innerHTML = '';\n",
              "          dataTable['output_type'] = 'display_data';\n",
              "          await google.colab.output.renderOutput(dataTable, element);\n",
              "          const docLink = document.createElement('div');\n",
              "          docLink.innerHTML = docLinkHtml;\n",
              "          element.appendChild(docLink);\n",
              "        }\n",
              "      </script>\n",
              "    </div>\n",
              "  </div>\n",
              "  "
            ]
          },
          "metadata": {},
          "execution_count": 6
        }
      ]
    },
    {
      "cell_type": "code",
      "metadata": {
        "id": "O2_gDuPMvQHZ"
      },
      "source": [
        "test=pd.read_csv('/content/drive/MyDrive/jigsaw-toxic-comment-classification-challenge/test.csv')"
      ],
      "execution_count": 7,
      "outputs": []
    },
    {
      "cell_type": "code",
      "metadata": {
        "id": "vewUHsrQvcti",
        "outputId": "efd30e5d-a758-4f38-f6a0-13308ea1903f",
        "colab": {
          "base_uri": "https://localhost:8080/",
          "height": 206
        }
      },
      "source": [
        "test.head()"
      ],
      "execution_count": 8,
      "outputs": [
        {
          "output_type": "execute_result",
          "data": {
            "text/plain": [
              "                 id                                       comment_text\n",
              "0  00001cee341fdb12  Yo bitch Ja Rule is more succesful then you'll...\n",
              "1  0000247867823ef7  == From RfC == \\n\\n The title is fine as it is...\n",
              "2  00013b17ad220c46  \" \\n\\n == Sources == \\n\\n * Zawe Ashton on Lap...\n",
              "3  00017563c3f7919a  :If you have a look back at the source, the in...\n",
              "4  00017695ad8997eb          I don't anonymously edit articles at all."
            ],
            "text/html": [
              "\n",
              "  <div id=\"df-ab5c247c-9b98-4c77-80a3-b57281c9fbf0\">\n",
              "    <div class=\"colab-df-container\">\n",
              "      <div>\n",
              "<style scoped>\n",
              "    .dataframe tbody tr th:only-of-type {\n",
              "        vertical-align: middle;\n",
              "    }\n",
              "\n",
              "    .dataframe tbody tr th {\n",
              "        vertical-align: top;\n",
              "    }\n",
              "\n",
              "    .dataframe thead th {\n",
              "        text-align: right;\n",
              "    }\n",
              "</style>\n",
              "<table border=\"1\" class=\"dataframe\">\n",
              "  <thead>\n",
              "    <tr style=\"text-align: right;\">\n",
              "      <th></th>\n",
              "      <th>id</th>\n",
              "      <th>comment_text</th>\n",
              "    </tr>\n",
              "  </thead>\n",
              "  <tbody>\n",
              "    <tr>\n",
              "      <th>0</th>\n",
              "      <td>00001cee341fdb12</td>\n",
              "      <td>Yo bitch Ja Rule is more succesful then you'll...</td>\n",
              "    </tr>\n",
              "    <tr>\n",
              "      <th>1</th>\n",
              "      <td>0000247867823ef7</td>\n",
              "      <td>== From RfC == \\n\\n The title is fine as it is...</td>\n",
              "    </tr>\n",
              "    <tr>\n",
              "      <th>2</th>\n",
              "      <td>00013b17ad220c46</td>\n",
              "      <td>\" \\n\\n == Sources == \\n\\n * Zawe Ashton on Lap...</td>\n",
              "    </tr>\n",
              "    <tr>\n",
              "      <th>3</th>\n",
              "      <td>00017563c3f7919a</td>\n",
              "      <td>:If you have a look back at the source, the in...</td>\n",
              "    </tr>\n",
              "    <tr>\n",
              "      <th>4</th>\n",
              "      <td>00017695ad8997eb</td>\n",
              "      <td>I don't anonymously edit articles at all.</td>\n",
              "    </tr>\n",
              "  </tbody>\n",
              "</table>\n",
              "</div>\n",
              "      <button class=\"colab-df-convert\" onclick=\"convertToInteractive('df-ab5c247c-9b98-4c77-80a3-b57281c9fbf0')\"\n",
              "              title=\"Convert this dataframe to an interactive table.\"\n",
              "              style=\"display:none;\">\n",
              "        \n",
              "  <svg xmlns=\"http://www.w3.org/2000/svg\" height=\"24px\"viewBox=\"0 0 24 24\"\n",
              "       width=\"24px\">\n",
              "    <path d=\"M0 0h24v24H0V0z\" fill=\"none\"/>\n",
              "    <path d=\"M18.56 5.44l.94 2.06.94-2.06 2.06-.94-2.06-.94-.94-2.06-.94 2.06-2.06.94zm-11 1L8.5 8.5l.94-2.06 2.06-.94-2.06-.94L8.5 2.5l-.94 2.06-2.06.94zm10 10l.94 2.06.94-2.06 2.06-.94-2.06-.94-.94-2.06-.94 2.06-2.06.94z\"/><path d=\"M17.41 7.96l-1.37-1.37c-.4-.4-.92-.59-1.43-.59-.52 0-1.04.2-1.43.59L10.3 9.45l-7.72 7.72c-.78.78-.78 2.05 0 2.83L4 21.41c.39.39.9.59 1.41.59.51 0 1.02-.2 1.41-.59l7.78-7.78 2.81-2.81c.8-.78.8-2.07 0-2.86zM5.41 20L4 18.59l7.72-7.72 1.47 1.35L5.41 20z\"/>\n",
              "  </svg>\n",
              "      </button>\n",
              "      \n",
              "  <style>\n",
              "    .colab-df-container {\n",
              "      display:flex;\n",
              "      flex-wrap:wrap;\n",
              "      gap: 12px;\n",
              "    }\n",
              "\n",
              "    .colab-df-convert {\n",
              "      background-color: #E8F0FE;\n",
              "      border: none;\n",
              "      border-radius: 50%;\n",
              "      cursor: pointer;\n",
              "      display: none;\n",
              "      fill: #1967D2;\n",
              "      height: 32px;\n",
              "      padding: 0 0 0 0;\n",
              "      width: 32px;\n",
              "    }\n",
              "\n",
              "    .colab-df-convert:hover {\n",
              "      background-color: #E2EBFA;\n",
              "      box-shadow: 0px 1px 2px rgba(60, 64, 67, 0.3), 0px 1px 3px 1px rgba(60, 64, 67, 0.15);\n",
              "      fill: #174EA6;\n",
              "    }\n",
              "\n",
              "    [theme=dark] .colab-df-convert {\n",
              "      background-color: #3B4455;\n",
              "      fill: #D2E3FC;\n",
              "    }\n",
              "\n",
              "    [theme=dark] .colab-df-convert:hover {\n",
              "      background-color: #434B5C;\n",
              "      box-shadow: 0px 1px 3px 1px rgba(0, 0, 0, 0.15);\n",
              "      filter: drop-shadow(0px 1px 2px rgba(0, 0, 0, 0.3));\n",
              "      fill: #FFFFFF;\n",
              "    }\n",
              "  </style>\n",
              "\n",
              "      <script>\n",
              "        const buttonEl =\n",
              "          document.querySelector('#df-ab5c247c-9b98-4c77-80a3-b57281c9fbf0 button.colab-df-convert');\n",
              "        buttonEl.style.display =\n",
              "          google.colab.kernel.accessAllowed ? 'block' : 'none';\n",
              "\n",
              "        async function convertToInteractive(key) {\n",
              "          const element = document.querySelector('#df-ab5c247c-9b98-4c77-80a3-b57281c9fbf0');\n",
              "          const dataTable =\n",
              "            await google.colab.kernel.invokeFunction('convertToInteractive',\n",
              "                                                     [key], {});\n",
              "          if (!dataTable) return;\n",
              "\n",
              "          const docLinkHtml = 'Like what you see? Visit the ' +\n",
              "            '<a target=\"_blank\" href=https://colab.research.google.com/notebooks/data_table.ipynb>data table notebook</a>'\n",
              "            + ' to learn more about interactive tables.';\n",
              "          element.innerHTML = '';\n",
              "          dataTable['output_type'] = 'display_data';\n",
              "          await google.colab.output.renderOutput(dataTable, element);\n",
              "          const docLink = document.createElement('div');\n",
              "          docLink.innerHTML = docLinkHtml;\n",
              "          element.appendChild(docLink);\n",
              "        }\n",
              "      </script>\n",
              "    </div>\n",
              "  </div>\n",
              "  "
            ]
          },
          "metadata": {},
          "execution_count": 8
        }
      ]
    },
    {
      "cell_type": "markdown",
      "metadata": {
        "id": "D8hAcigh3Sh3"
      },
      "source": [
        "# Data Exploration"
      ]
    },
    {
      "cell_type": "markdown",
      "metadata": {
        "id": "MsOBGKJI4aHT"
      },
      "source": [
        "Checking for missing values"
      ]
    },
    {
      "cell_type": "code",
      "metadata": {
        "id": "ZzAnL7ly1epE",
        "outputId": "50293c92-b4cc-4939-bdfd-e435af68e885",
        "colab": {
          "base_uri": "https://localhost:8080/"
        }
      },
      "source": [
        "train.isnull().any()"
      ],
      "execution_count": 9,
      "outputs": [
        {
          "output_type": "execute_result",
          "data": {
            "text/plain": [
              "id               False\n",
              "comment_text     False\n",
              "toxic            False\n",
              "severe_toxic     False\n",
              "obscene          False\n",
              "threat           False\n",
              "insult           False\n",
              "identity_hate    False\n",
              "dtype: bool"
            ]
          },
          "metadata": {},
          "execution_count": 9
        }
      ]
    },
    {
      "cell_type": "code",
      "metadata": {
        "id": "cRc5Wyw24c62",
        "outputId": "ceec94e7-5b2f-4b2b-85a0-05cd9dc4bdfb",
        "colab": {
          "base_uri": "https://localhost:8080/"
        }
      },
      "source": [
        "test.isnull().any()\n"
      ],
      "execution_count": 10,
      "outputs": [
        {
          "output_type": "execute_result",
          "data": {
            "text/plain": [
              "id              False\n",
              "comment_text    False\n",
              "dtype: bool"
            ]
          },
          "metadata": {},
          "execution_count": 10
        }
      ]
    },
    {
      "cell_type": "code",
      "metadata": {
        "id": "TYZ93LlRbwRB"
      },
      "source": [
        "labels = ['toxic', 'severe_toxic', 'obscene', 'threat', 'insult', 'identity_hate']\n",
        "y = train[labels].values"
      ],
      "execution_count": 11,
      "outputs": []
    },
    {
      "cell_type": "markdown",
      "metadata": {
        "id": "NDWRHguXxOF_"
      },
      "source": [
        "#Data Pre-processing"
      ]
    },
    {
      "cell_type": "markdown",
      "metadata": {
        "id": "6z-4hq4jyhBw"
      },
      "source": [
        "## Text Normalization"
      ]
    },
    {
      "cell_type": "markdown",
      "metadata": {
        "id": "h4k-vI8DbqiP"
      },
      "source": [
        "* Removing Characters in between Text\n",
        "* Removing Repeated Characters\n",
        "* Converting data to lower-case\n",
        "* Removing Numbers from the data\n",
        "* Remove Punctuation\n",
        "* Remove Whitespaces\n",
        "* Removing spaces in between words\n",
        "* Removing \"\\n\"\n",
        "* Remove Non-english characters"
      ]
    },
    {
      "cell_type": "code",
      "metadata": {
        "id": "jglnA7LEbpoA"
      },
      "source": [
        "RE_PATTERNS = {\n",
        "    ' american ':\n",
        "        [\n",
        "            'amerikan'\n",
        "        ],\n",
        "\n",
        "    ' adolf ':\n",
        "        [\n",
        "            'adolf'\n",
        "        ],\n",
        "\n",
        "\n",
        "    ' hitler ':\n",
        "        [\n",
        "            'hitler'\n",
        "        ],\n",
        "\n",
        "    ' fuck':\n",
        "        [\n",
        "            '(f)(u|[^a-z0-9 ])(c|[^a-z0-9 ])(k|[^a-z0-9 ])([^ ])*',\n",
        "            '(f)([^a-z]*)(u)([^a-z]*)(c)([^a-z]*)(k)',\n",
        "            ' f[!@#\\$%\\^\\&\\*]*u[!@#\\$%\\^&\\*]*k', 'f u u c',\n",
        "            '(f)(c|[^a-z ])(u|[^a-z ])(k)', r'f\\*',\n",
        "            'feck ', ' fux ', 'f\\*\\*', 'f**k','fu*k',\n",
        "            'f\\-ing', 'f\\.u\\.', 'f###', ' fu ', 'f@ck', 'f u c k', 'f uck', 'f ck'\n",
        "        ],\n",
        "\n",
        "    ' ass ':\n",
        "        [\n",
        "            '[^a-z]ass ', '[^a-z]azz ', 'arrse', ' arse ', '@\\$\\$',\n",
        "            '[^a-z]anus', ' a\\*s\\*s', '[^a-z]ass[^a-z ]',\n",
        "            'a[@#\\$%\\^&\\*][@#\\$%\\^&\\*]', '[^a-z]anal ', 'a s s','a55', '@$$'\n",
        "        ],\n",
        "\n",
        "    ' ass hole ':\n",
        "        [\n",
        "            ' a[s|z]*wipe', 'a[s|z]*[w]*h[o|0]+[l]*e', '@\\$\\$hole', 'a**hole'\n",
        "        ],\n",
        "\n",
        "    ' bitch ':\n",
        "        [\n",
        "            'b[w]*i[t]*ch', 'b!tch',\n",
        "            'bi\\+ch', 'b!\\+ch', '(b)([^a-z]*)(i)([^a-z]*)(t)([^a-z]*)(c)([^a-z]*)(h)',\n",
        "            'biatch', 'bi\\*\\*h', 'bytch', 'b i t c h', 'b!tch', 'bi+ch', 'l3itch'\n",
        "        ],\n",
        "\n",
        "    ' bastard ':\n",
        "        [\n",
        "            'ba[s|z]+t[e|a]+rd'\n",
        "        ],\n",
        "\n",
        "    ' trans gender':\n",
        "        [\n",
        "            'transgender'\n",
        "        ],\n",
        "\n",
        "    ' gay ':\n",
        "        [\n",
        "            'gay'\n",
        "        ],\n",
        "\n",
        "    ' cock ':\n",
        "        [\n",
        "            '[^a-z]cock', 'c0ck', '[^a-z]cok ', 'c0k', '[^a-z]cok[^aeiou]', ' cawk',\n",
        "            '(c)([^a-z ])(o)([^a-z ]*)(c)([^a-z ]*)(k)', 'c o c k'\n",
        "        ],\n",
        "\n",
        "    ' dick ':\n",
        "        [\n",
        "            ' dick[^aeiou]', 'deek', 'd i c k', 'dik'\n",
        "        ],\n",
        "\n",
        "    ' suck ':\n",
        "        [\n",
        "            'sucker', '(s)([^a-z ]*)(u)([^a-z ]*)(c)([^a-z ]*)(k)', 'sucks', '5uck', 's u c k'\n",
        "        ],\n",
        "\n",
        "    ' cunt ':\n",
        "        [\n",
        "            'cunt', 'c u n t'\n",
        "        ],\n",
        "\n",
        "    ' bull shit ':\n",
        "        [\n",
        "            'bullsh\\*t', 'bull\\$hit'\n",
        "        ],\n",
        "\n",
        "    ' homo sex ual':\n",
        "        [\n",
        "            'homosexual'\n",
        "        ],\n",
        "\n",
        "    ' jerk ':\n",
        "        [\n",
        "            'jerk'\n",
        "        ],\n",
        "\n",
        "    ' idiot ':\n",
        "        [\n",
        "            'i[d]+io[t]+', '(i)([^a-z ]*)(d)([^a-z ]*)(i)([^a-z ]*)(o)([^a-z ]*)(t)', 'idiots'\n",
        "                                                                                      'i d i o t'\n",
        "        ],\n",
        "\n",
        "    ' dumb ':\n",
        "        [\n",
        "            '(d)([^a-z ]*)(u)([^a-z ]*)(m)([^a-z ]*)(b)'\n",
        "        ],\n",
        "\n",
        "    ' shit ':\n",
        "        [\n",
        "            'shitty', '(s)([^a-z ]*)(h)([^a-z ]*)(i)([^a-z ]*)(t)', 'shite', '\\$hit', 's h i t', '$h1t'\n",
        "        ],\n",
        "\n",
        "    ' shit hole ':\n",
        "        [\n",
        "            'shythole'\n",
        "        ],\n",
        "\n",
        "    ' retard ':\n",
        "        [\n",
        "            'returd', 'retad', 'retard', 'wiktard', 'wikitud'\n",
        "        ],\n",
        "\n",
        "    ' rape ':\n",
        "        [\n",
        "            ' raped'\n",
        "        ],\n",
        "\n",
        "    ' dumb ass':\n",
        "        [\n",
        "            'dumbass', 'dubass'\n",
        "        ],\n",
        "\n",
        "    ' ass head':\n",
        "        [\n",
        "            'butthead'\n",
        "        ],\n",
        "\n",
        "    ' sex ':\n",
        "        [\n",
        "            'sexy', 's3x', 'sexuality'\n",
        "        ],\n",
        "\n",
        "\n",
        "    ' nigger ':\n",
        "        [\n",
        "            'nigger', 'ni[g]+a', ' nigr ', 'negrito', 'niguh', 'n3gr', 'n i g g e r'\n",
        "        ],\n",
        "\n",
        "    ' shut the fuck up':\n",
        "        [\n",
        "            'stfu', 'st*u'\n",
        "        ],\n",
        "\n",
        "    ' pussy ':\n",
        "        [\n",
        "            'pussy[^c]', 'pusy', 'pussi[^l]', 'pusses', 'p*ssy'\n",
        "        ],\n",
        "\n",
        "    ' faggot ':\n",
        "        [\n",
        "            'faggot', ' fa[g]+[s]*[^a-z ]', 'fagot', 'f a g g o t', 'faggit',\n",
        "            '(f)([^a-z ]*)(a)([^a-z ]*)([g]+)([^a-z ]*)(o)([^a-z ]*)(t)', 'fau[g]+ot', 'fae[g]+ot',\n",
        "        ],\n",
        "\n",
        "    ' mother fucker':\n",
        "        [\n",
        "            ' motha ', ' motha f', ' mother f', 'motherucker',\n",
        "        ],\n",
        "\n",
        "    ' whore ':\n",
        "        [\n",
        "            'wh\\*\\*\\*', 'w h o r e'\n",
        "        ],\n",
        "    ' fucking ':\n",
        "        [\n",
        "            'f*$%-ing'\n",
        "        ],\n",
        "}\n"
      ],
      "execution_count": 12,
      "outputs": []
    },
    {
      "cell_type": "code",
      "metadata": {
        "id": "4RetJ1vgswOG"
      },
      "source": [
        "def clean_text(text,remove_repeat_text=True, remove_patterns_text=True, is_lower=True):\n",
        "\n",
        "  if is_lower:\n",
        "    text=text.lower()\n",
        "    \n",
        "  if remove_patterns_text:\n",
        "    for target, patterns in RE_PATTERNS.items():\n",
        "      for pat in patterns:\n",
        "        text=str(text).replace(pat, target)\n",
        "\n",
        "  if remove_repeat_text:\n",
        "    text = re.sub(r'(.)\\1{2,}', r'\\1', text) \n",
        "\n",
        "  text = str(text).replace(\"\\n\", \" \")\n",
        "  text = re.sub(r'[^\\w\\s]',' ',text)\n",
        "  text = re.sub('[0-9]',\"\",text)\n",
        "  text = re.sub(\" +\", \" \", text)\n",
        "  text = re.sub(\"([^\\x00-\\x7F])+\",\" \",text)\n",
        "  return text "
      ],
      "execution_count": 13,
      "outputs": []
    },
    {
      "cell_type": "markdown",
      "metadata": {
        "id": "LwyO_GcPuPE_"
      },
      "source": [
        "Cleaning Training Data"
      ]
    },
    {
      "cell_type": "code",
      "metadata": {
        "id": "Cak-Q0fl0qyb",
        "outputId": "ae676807-b209-4854-da76-b117e8d7ad49",
        "colab": {
          "base_uri": "https://localhost:8080/",
          "height": 36
        }
      },
      "source": [
        "train['comment_text']=train['comment_text'].apply(lambda x: clean_text(x))\n",
        "train['comment_text'][1]"
      ],
      "execution_count": 14,
      "outputs": [
        {
          "output_type": "execute_result",
          "data": {
            "text/plain": [
              "'d aww he matches this background colour i m seemingly stuck with thanks talk january utc '"
            ],
            "application/vnd.google.colaboratory.intrinsic+json": {
              "type": "string"
            }
          },
          "metadata": {},
          "execution_count": 14
        }
      ]
    },
    {
      "cell_type": "markdown",
      "metadata": {
        "id": "8qfbjYXq8huL"
      },
      "source": [
        "Cleaning Test Data"
      ]
    },
    {
      "cell_type": "code",
      "metadata": {
        "id": "V02zaxGN8g-s",
        "outputId": "c80a3903-5eb7-4b56-f689-6ce28f84b4b2",
        "colab": {
          "base_uri": "https://localhost:8080/",
          "height": 36
        }
      },
      "source": [
        "test['comment_text']=test['comment_text'].apply(lambda x: clean_text(x))\n",
        "test['comment_text'][1048]"
      ],
      "execution_count": 16,
      "outputs": [
        {
          "output_type": "execute_result",
          "data": {
            "text/plain": [
              "'this is a university ip address just fyi '"
            ],
            "application/vnd.google.colaboratory.intrinsic+json": {
              "type": "string"
            }
          },
          "metadata": {},
          "execution_count": 16
        }
      ]
    },
    {
      "cell_type": "markdown",
      "metadata": {
        "id": "mqRVmH1FRWpL"
      },
      "source": [
        "## Lemmatization"
      ]
    },
    {
      "cell_type": "code",
      "metadata": {
        "id": "vnhCAXkKUF9i"
      },
      "source": [
        "comments_train=train['comment_text']\n",
        "comments_test=test['comment_text']"
      ],
      "execution_count": 17,
      "outputs": []
    },
    {
      "cell_type": "code",
      "metadata": {
        "id": "WwhTNF3pW7Hp"
      },
      "source": [
        "comments_train=list(comments_train)\n",
        "comments_test=list(comments_test)"
      ],
      "execution_count": 18,
      "outputs": []
    },
    {
      "cell_type": "code",
      "metadata": {
        "id": "IuWMc1xqRVqV"
      },
      "source": [
        "wordnet_lemmatizer = WordNetLemmatizer()"
      ],
      "execution_count": 19,
      "outputs": []
    },
    {
      "cell_type": "code",
      "metadata": {
        "id": "fi-vYUcPoi-a"
      },
      "source": [
        "def lemma(text, lemmatization=True):\n",
        "  output=\"\"\n",
        "  if lemmatization:\n",
        "    text=text.split(\" \")\n",
        "    for word in text:\n",
        "       word1 = wordnet_lemmatizer.lemmatize(word, pos = \"n\")\n",
        "       word2 = wordnet_lemmatizer.lemmatize(word1, pos = \"v\")\n",
        "       word3 = wordnet_lemmatizer.lemmatize(word2, pos = \"a\")\n",
        "       word4 = wordnet_lemmatizer.lemmatize(word3, pos = \"r\")\n",
        "       output=output + \" \" + word4\n",
        "  else:\n",
        "    output=text\n",
        "  \n",
        "  return str(output.strip()) "
      ],
      "execution_count": 20,
      "outputs": []
    },
    {
      "cell_type": "markdown",
      "metadata": {
        "id": "AX4DTjGJ-8Id"
      },
      "source": [
        "Lemmatizing Training Data"
      ]
    },
    {
      "cell_type": "code",
      "source": [
        "import nltk"
      ],
      "metadata": {
        "id": "iJl8MZ_fhyqZ"
      },
      "execution_count": 21,
      "outputs": []
    },
    {
      "cell_type": "code",
      "source": [
        "nltk.download('omw-1.4')"
      ],
      "metadata": {
        "id": "LtqZHnlQh8Ig",
        "outputId": "0f88c3cb-bc7f-4027-a02e-d29154223197",
        "colab": {
          "base_uri": "https://localhost:8080/"
        }
      },
      "execution_count": 22,
      "outputs": [
        {
          "output_type": "stream",
          "name": "stderr",
          "text": [
            "[nltk_data] Downloading package omw-1.4 to /root/nltk_data...\n"
          ]
        },
        {
          "output_type": "execute_result",
          "data": {
            "text/plain": [
              "True"
            ]
          },
          "metadata": {},
          "execution_count": 22
        }
      ]
    },
    {
      "cell_type": "code",
      "metadata": {
        "id": "JRquFt30qWk0",
        "outputId": "464c2925-28af-40da-af1d-b67b76a3f4c2",
        "colab": {
          "base_uri": "https://localhost:8080/",
          "height": 49,
          "referenced_widgets": [
            "76d53d599b1542e78c7ba3f01581ba1f",
            "9cb25d9fdf3a4fa398d250fca7be06e8",
            "5bfac2f017ab4fa99d92de84b3a54752",
            "cd9c136711304ba6a19ae45e16ab6cc8",
            "e79bbef5ece4471a823cdfaa38ae7d02",
            "7935bb86b0874a4b825351f581d9d14d",
            "44182b8fa9094af38a240fd357f22e8c",
            "8316cf0844ac4b40b244c713d5e6184c",
            "dad61215de0d4068b6df882514d6f6f4",
            "292189e8f38644cbb016864485a41a75",
            "6d9b7b8bfd0740fb9c0fbe67a94d285f"
          ]
        }
      },
      "source": [
        "lemmatized_train_data = [] \n",
        "\n",
        "for line in tqdm_notebook(comments_train, total=159571): \n",
        "    lemmatized_train_data.append(lemma(line))"
      ],
      "execution_count": 23,
      "outputs": [
        {
          "output_type": "display_data",
          "data": {
            "text/plain": [
              "  0%|          | 0/159571 [00:00<?, ?it/s]"
            ],
            "application/vnd.jupyter.widget-view+json": {
              "version_major": 2,
              "version_minor": 0,
              "model_id": "76d53d599b1542e78c7ba3f01581ba1f"
            }
          },
          "metadata": {}
        }
      ]
    },
    {
      "cell_type": "code",
      "metadata": {
        "id": "WK9azHjSrbic",
        "outputId": "b056798b-feb3-4e1f-9c49-184f2abbf6e4",
        "colab": {
          "base_uri": "https://localhost:8080/",
          "height": 88
        }
      },
      "source": [
        "lemmatized_train_data[152458]"
      ],
      "execution_count": 24,
      "outputs": [
        {
          "output_type": "execute_result",
          "data": {
            "text/plain": [
              "'i agree with you about graemel s intention he be a revert nazi and wikipedia ha a way of protect against this report him to the wp rr three revert rule notice board post by report the revert nazi graemel ha show himself herself to be a revert nazi this be unacceptable on a site that be make by it s user and not it s admins if you feel you have be unjustly revert more than time over a hour period please report him her to the three revert noticeboard wp rr it be time to take back what be ours'"
            ],
            "application/vnd.google.colaboratory.intrinsic+json": {
              "type": "string"
            }
          },
          "metadata": {},
          "execution_count": 24
        }
      ]
    },
    {
      "cell_type": "markdown",
      "metadata": {
        "id": "yxRJbMBQ-oQ-"
      },
      "source": [
        "Lemmatizing Test Data"
      ]
    },
    {
      "cell_type": "code",
      "metadata": {
        "id": "B4LZUmqy-vvD",
        "outputId": "b51c36af-9f06-4d45-b88d-2ff3f565fbd5",
        "colab": {
          "base_uri": "https://localhost:8080/",
          "height": 49,
          "referenced_widgets": [
            "48f7ba39be9042c6bc494201809181f7",
            "17b6c90a2fe7477fa4fc89b5df55daf5",
            "15b50061a7e04f1dbd04f8e1c33ab218",
            "eddb43224de34f53a6d5caeefad0ec7b",
            "ba5220673f164938a7621163e344c876",
            "a7f97369ece84e83a3fd4adc231127b0",
            "0a6bdfbcc006475190809ff476c3cda3",
            "99f943a9b512406f8744c3c747c72f68",
            "7947129a9bab4fdeb9397c14c288a6d8",
            "da4e99c9779b4f8999c0b25d15b7fab9",
            "c64e03d216c74c87b3852a14a96f2cc1"
          ]
        }
      },
      "source": [
        "lemmatized_test_data = [] \n",
        "\n",
        "for line in tqdm_notebook(comments_test, total=len(comments_test)): \n",
        "    lemmatized_test_data.append(lemma(line))"
      ],
      "execution_count": 25,
      "outputs": [
        {
          "output_type": "display_data",
          "data": {
            "text/plain": [
              "  0%|          | 0/153164 [00:00<?, ?it/s]"
            ],
            "application/vnd.jupyter.widget-view+json": {
              "version_major": 2,
              "version_minor": 0,
              "model_id": "48f7ba39be9042c6bc494201809181f7"
            }
          },
          "metadata": {}
        }
      ]
    },
    {
      "cell_type": "markdown",
      "metadata": {
        "id": "yZaP8BH2UG0N"
      },
      "source": [
        "## Stopwords Removal"
      ]
    },
    {
      "cell_type": "code",
      "metadata": {
        "id": "vNKjE4Vq8kpG"
      },
      "source": [
        "stopword_list=STOP_WORDS"
      ],
      "execution_count": 26,
      "outputs": []
    },
    {
      "cell_type": "markdown",
      "metadata": {
        "id": "m_oqV08mMWmk"
      },
      "source": [
        "Adding Single and Dual to STOP_WORDS"
      ]
    },
    {
      "cell_type": "code",
      "metadata": {
        "id": "go7RVS52I1US"
      },
      "source": [
        "def iter_all_strings():\n",
        "    for size in itertools.count(1):\n",
        "        for s in itertools.product(ascii_lowercase, repeat=size):\n",
        "            yield \"\".join(s)\n",
        "\n",
        "dual_alpha_list=[]\n",
        "for s in iter_all_strings():\n",
        "    dual_alpha_list.append(s)\n",
        "    if s == 'zz':\n",
        "        break"
      ],
      "execution_count": 27,
      "outputs": []
    },
    {
      "cell_type": "code",
      "metadata": {
        "id": "7_x3bQ4MIGVK"
      },
      "source": [
        "dual_alpha_list.remove('i')\n",
        "dual_alpha_list.remove('a')\n",
        "dual_alpha_list.remove('am')\n",
        "dual_alpha_list.remove('an')\n",
        "dual_alpha_list.remove('as')\n",
        "dual_alpha_list.remove('at')\n",
        "dual_alpha_list.remove('be')\n",
        "dual_alpha_list.remove('by')\n",
        "dual_alpha_list.remove('do')\n",
        "dual_alpha_list.remove('go')\n",
        "dual_alpha_list.remove('he')\n",
        "dual_alpha_list.remove('hi')\n",
        "dual_alpha_list.remove('if')\n",
        "dual_alpha_list.remove('is')\n",
        "dual_alpha_list.remove('in')\n",
        "dual_alpha_list.remove('me')\n",
        "dual_alpha_list.remove('my')\n",
        "dual_alpha_list.remove('no')\n",
        "dual_alpha_list.remove('of')\n",
        "dual_alpha_list.remove('on')\n",
        "dual_alpha_list.remove('or')\n",
        "dual_alpha_list.remove('ok')\n",
        "dual_alpha_list.remove('so')\n",
        "dual_alpha_list.remove('to')\n",
        "dual_alpha_list.remove('up')\n",
        "dual_alpha_list.remove('us')\n",
        "dual_alpha_list.remove('we')"
      ],
      "execution_count": 28,
      "outputs": []
    },
    {
      "cell_type": "code",
      "metadata": {
        "id": "H11kkMtXMyct",
        "outputId": "3c3fc505-d436-48a0-eeec-774c8fd1f4f2",
        "colab": {
          "base_uri": "https://localhost:8080/"
        }
      },
      "source": [
        "for letter in dual_alpha_list:\n",
        "    stopword_list.add(letter)\n",
        "print(\"Done!!\")"
      ],
      "execution_count": 29,
      "outputs": [
        {
          "output_type": "stream",
          "name": "stdout",
          "text": [
            "Done!!\n"
          ]
        }
      ]
    },
    {
      "cell_type": "markdown",
      "metadata": {
        "id": "Ti67XuLCNnsL"
      },
      "source": [
        "Checking for other words that we may need in STOP_WORDS"
      ]
    },
    {
      "cell_type": "code",
      "metadata": {
        "id": "Z4lBqjcBaDVK"
      },
      "source": [
        "def search_stopwords(data, search_stop=True):\n",
        "  output=\"\"\n",
        "  if search_stop:\n",
        "    data=data.split(\" \")\n",
        "    for word in data:\n",
        "      if not word in stopword_list:\n",
        "        output=output+\" \"+word \n",
        "  else:\n",
        "    output=data\n",
        "\n",
        "  return str(output.strip())  "
      ],
      "execution_count": 30,
      "outputs": []
    },
    {
      "cell_type": "code",
      "metadata": {
        "id": "xn21RMeIbQti",
        "outputId": "54afa830-b7a8-44b4-eae2-5b991dd226a9",
        "colab": {
          "base_uri": "https://localhost:8080/",
          "height": 49,
          "referenced_widgets": [
            "8d2a48e2b5b845209c8428e14ce99104",
            "1c69ca77a175411db3c426985c561037",
            "3ccbed14e1d6432f97d2aaedd351f29e",
            "0a4e019b5b894644b3491babf00e25c2",
            "24fcc537472747e8a18abf8d95a75f5d",
            "8d9060e354764f29b8e6df0447b7a86e",
            "b0eb945f78324f698e643d9d6c127a2c",
            "21b264e5097149dda047d8887cef4b95",
            "44ab5d1b79af4c4d94e81f914998d42e",
            "69226b777c9841419b5faf9cde42cb40",
            "09722b69f28a4f8c80ec856fec22ac8c"
          ]
        }
      },
      "source": [
        "potential_stopwords = [] \n",
        "\n",
        "for line in tqdm_notebook(lemmatized_train_data, total=159571): \n",
        "    potential_stopwords.append(search_stopwords(line))"
      ],
      "execution_count": 31,
      "outputs": [
        {
          "output_type": "display_data",
          "data": {
            "text/plain": [
              "  0%|          | 0/159571 [00:00<?, ?it/s]"
            ],
            "application/vnd.jupyter.widget-view+json": {
              "version_major": 2,
              "version_minor": 0,
              "model_id": "8d2a48e2b5b845209c8428e14ce99104"
            }
          },
          "metadata": {}
        }
      ]
    },
    {
      "cell_type": "code",
      "metadata": {
        "id": "R4Yp_YRoap6Q",
        "outputId": "82b7b8b5-b526-4f91-bd5c-3ca306f9c762",
        "colab": {
          "base_uri": "https://localhost:8080/"
        }
      },
      "source": [
        "len(potential_stopwords)"
      ],
      "execution_count": 32,
      "outputs": [
        {
          "output_type": "execute_result",
          "data": {
            "text/plain": [
              "159571"
            ]
          },
          "metadata": {},
          "execution_count": 32
        }
      ]
    },
    {
      "cell_type": "markdown",
      "metadata": {
        "id": "PFSkmGjAZuR3"
      },
      "source": [
        "Combining all the sentences in the list into a single string"
      ]
    },
    {
      "cell_type": "code",
      "metadata": {
        "id": "zpmze-Q7BrK0"
      },
      "source": [
        "def string_combine_a(stopword):\n",
        "  final_a=\"\"\n",
        "  for item in range(39893):\n",
        "    final_a=final_a+\" \"+stopword[item]\n",
        "  return final_a\n",
        "\n",
        "def string_combine_b(stopword):\n",
        "  final_b=\"\"\n",
        "  for item in range(39893,79785):\n",
        "    final_b=final_b+\" \"+stopword[item]\n",
        "  return final_b\n",
        "\n",
        "def string_combine_c(stopword):\n",
        "  final_c=\"\"\n",
        "  for item in range(79785,119678):\n",
        "    final_c=final_c+\" \"+stopword[item]\n",
        "  return final_c\n",
        "\n",
        "def string_combine_d(stopword):\n",
        "  final_d=\"\"\n",
        "  for item in range(119678,159571):\n",
        "    final_d=final_d+\" \"+stopword[item]\n",
        "  return final_d"
      ],
      "execution_count": 33,
      "outputs": []
    },
    {
      "cell_type": "code",
      "metadata": {
        "id": "UqBc4rOahmAz"
      },
      "source": [
        "total_string_potential_a=string_combine_a(potential_stopwords)\n",
        "total_string_potential_b=string_combine_b(potential_stopwords)\n",
        "total_string_potential_c=string_combine_c(potential_stopwords)\n",
        "total_string_potential_d=string_combine_d(potential_stopwords)"
      ],
      "execution_count": 34,
      "outputs": []
    },
    {
      "cell_type": "markdown",
      "metadata": {
        "id": "hbEm3D8txMSH"
      },
      "source": [
        "Counting the number of words in each of the 4 strings"
      ]
    },
    {
      "cell_type": "code",
      "metadata": {
        "id": "O_hhbMS_xR6t"
      },
      "source": [
        "def word_count(str):\n",
        "    counts = dict()\n",
        "    words = str.split()\n",
        "\n",
        "    for word in words:\n",
        "        if word in counts:\n",
        "            counts[word] += 1\n",
        "        else:\n",
        "            counts[word] = 1\n",
        "\n",
        "    return counts"
      ],
      "execution_count": 35,
      "outputs": []
    },
    {
      "cell_type": "code",
      "metadata": {
        "id": "bsh0BuT9xSDg"
      },
      "source": [
        "total_string_potential_a_dict=word_count(total_string_potential_a)\n",
        "total_string_potential_b_dict=word_count(total_string_potential_b)\n",
        "total_string_potential_c_dict=word_count(total_string_potential_c)\n",
        "total_string_potential_d_dict=word_count(total_string_potential_d)"
      ],
      "execution_count": 36,
      "outputs": []
    },
    {
      "cell_type": "markdown",
      "metadata": {
        "id": "shmHkLSk3Xxp"
      },
      "source": [
        "Converting Dictionaries to Dataframe"
      ]
    },
    {
      "cell_type": "code",
      "metadata": {
        "id": "pSJXHnv6y9T0"
      },
      "source": [
        "total_string_potential_a_df = pd.DataFrame(list(total_string_potential_a_dict.items()),columns = ['Word','Count'])\n",
        "total_string_potential_b_df = pd.DataFrame(list(total_string_potential_b_dict.items()),columns = ['Word','Count'])\n",
        "total_string_potential_c_df = pd.DataFrame(list(total_string_potential_c_dict.items()),columns = ['Word','Count'])\n",
        "total_string_potential_d_df = pd.DataFrame(list(total_string_potential_d_dict.items()),columns = ['Word','Count'])"
      ],
      "execution_count": 37,
      "outputs": []
    },
    {
      "cell_type": "markdown",
      "metadata": {
        "id": "WjWO0vj2yaW7"
      },
      "source": [
        "Getting Dataframe output in descending order"
      ]
    },
    {
      "cell_type": "code",
      "metadata": {
        "id": "bzThNOjA2pjx"
      },
      "source": [
        "top50_potential_stopwords_a=total_string_potential_a_df.sort_values(by=['Count'],ascending=False).head(50)\n",
        "top50_potential_stopwords_b=total_string_potential_b_df.sort_values(by=['Count'],ascending=False).head(50)\n",
        "top50_potential_stopwords_c=total_string_potential_c_df.sort_values(by=['Count'],ascending=False).head(50)\n",
        "top50_potential_stopwords_d=total_string_potential_d_df.sort_values(by=['Count'],ascending=False).head(50)"
      ],
      "execution_count": 38,
      "outputs": []
    },
    {
      "cell_type": "markdown",
      "metadata": {
        "id": "H1d8reN9CaZ8"
      },
      "source": [
        "Looking for common terms in all top 50 dataframes"
      ]
    },
    {
      "cell_type": "code",
      "metadata": {
        "id": "AKUuEbHvCiYG"
      },
      "source": [
        "common_potential_stopwords=list(reduce(set.intersection,map(set,[top50_potential_stopwords_a.Word,top50_potential_stopwords_b.Word,top50_potential_stopwords_c.Word,top50_potential_stopwords_d.Word])))"
      ],
      "execution_count": 39,
      "outputs": []
    },
    {
      "cell_type": "code",
      "metadata": {
        "id": "FkQme4SIEGBa",
        "outputId": "5d8c58c6-27fc-48b2-efdf-9aa27499e871",
        "colab": {
          "base_uri": "https://localhost:8080/"
        }
      },
      "source": [
        "print(common_potential_stopwords)"
      ],
      "execution_count": 40,
      "outputs": [
        {
          "output_type": "stream",
          "name": "stdout",
          "text": [
            "['look', 'use', 'edit', 'doe', 'remove', 'try', 'block', 'read', 'source', 'add', 'link', 'delete', 'editor', 'new', 'image', 'want', 'help', 'page', 'time', 'people', 'don', 'change', 'comment', 'section', 'thing', 'information', 'think', 'know', 'deletion', 'reference', 'good', 'user', 'wikipedia', 'like', 'way', 'find', 'talk', 'fuck', 'mean', 'work', 'article', 'list', 'write', 'point', 'thank', 'question', 'need', 'fact']\n"
          ]
        }
      ]
    },
    {
      "cell_type": "markdown",
      "metadata": {
        "id": "hX3lIQj0l36i"
      },
      "source": [
        "Retaining certain words and removing others from the above list"
      ]
    },
    {
      "cell_type": "code",
      "metadata": {
        "id": "zacbW5ASjN2r"
      },
      "source": [
        "potential_stopwords=['editor', 'reference', 'thank', 'work','find', 'good', 'know', 'like', 'look', 'thing', 'want', 'time', 'list', 'section','wikipedia', 'doe', 'add','new', 'try', 'think', 'write','use', 'user', 'way', 'page']"
      ],
      "execution_count": 41,
      "outputs": []
    },
    {
      "cell_type": "markdown",
      "metadata": {
        "id": "7-yjjvj3LpZs"
      },
      "source": [
        "Adding above retrived words into the stopwords list"
      ]
    },
    {
      "cell_type": "code",
      "metadata": {
        "id": "73PbxjxbLvz9",
        "outputId": "d5cbb698-2279-47e5-9e4d-be1af678b0e5",
        "colab": {
          "base_uri": "https://localhost:8080/"
        }
      },
      "source": [
        "for word in potential_stopwords:\n",
        "    stopword_list.add(word)\n",
        "print(\"Done!!\")"
      ],
      "execution_count": 42,
      "outputs": [
        {
          "output_type": "stream",
          "name": "stdout",
          "text": [
            "Done!!\n"
          ]
        }
      ]
    },
    {
      "cell_type": "markdown",
      "metadata": {
        "id": "101v0iZjaNLR"
      },
      "source": [
        "Removing Stopwords from Training Data"
      ]
    },
    {
      "cell_type": "code",
      "metadata": {
        "id": "RRSga8PKsktA"
      },
      "source": [
        "def remove_stopwords(text, remove_stop=True):\n",
        "  output = \"\"\n",
        "  if remove_stop:\n",
        "    text=text.split(\" \")\n",
        "    for word in text:\n",
        "      if word not in stopword_list:\n",
        "        output=output + \" \" + word\n",
        "  else :\n",
        "    output=text\n",
        "\n",
        "  return str(output.strip())      "
      ],
      "execution_count": 43,
      "outputs": []
    },
    {
      "cell_type": "code",
      "metadata": {
        "id": "Q-hItiV7skoV",
        "outputId": "32f92125-a4b2-4873-9685-751a95e88049",
        "colab": {
          "base_uri": "https://localhost:8080/",
          "height": 49,
          "referenced_widgets": [
            "717e86c85c8a4bf088aadb8905fff544",
            "1dbc51617c18450491a5859576da547b",
            "cafe76912dc54150944550ca72e431fc",
            "06808384d4fb474696f2cb413b424cdc",
            "5e6b3cb47e6c48a8b7325969d98cc802",
            "2ab4d61dfd1846709e174a31dc6f9e3a",
            "c63eb97e26514ce5b8df144ab599400a",
            "bc6602c7ab4346ada9c7fd579f8513c2",
            "b2c4f6d3fd3347f090b69e9ae59d4e46",
            "0430a9d88f524d2fa17ccf6a8fbee828",
            "70dc15cfcb4340cc91678273ae35f661"
          ]
        }
      },
      "source": [
        "processed_train_data = [] \n",
        "\n",
        "for line in tqdm_notebook(lemmatized_train_data, total=159571): \n",
        "    processed_train_data.append(remove_stopwords(line))"
      ],
      "execution_count": 44,
      "outputs": [
        {
          "output_type": "display_data",
          "data": {
            "text/plain": [
              "  0%|          | 0/159571 [00:00<?, ?it/s]"
            ],
            "application/vnd.jupyter.widget-view+json": {
              "version_major": 2,
              "version_minor": 0,
              "model_id": "717e86c85c8a4bf088aadb8905fff544"
            }
          },
          "metadata": {}
        }
      ]
    },
    {
      "cell_type": "code",
      "metadata": {
        "id": "a29qOSPA-rbS",
        "outputId": "634a42db-80a8-4472-bc9b-62d61c4e99e3",
        "colab": {
          "base_uri": "https://localhost:8080/",
          "height": 53
        }
      },
      "source": [
        "processed_train_data[152458]"
      ],
      "execution_count": 45,
      "outputs": [
        {
          "output_type": "execute_result",
          "data": {
            "text/plain": [
              "'agree graemel intention revert nazi protect report revert rule notice board post report revert nazi graemel revert nazi unacceptable site admins feel unjustly revert hour period report revert noticeboard'"
            ],
            "application/vnd.google.colaboratory.intrinsic+json": {
              "type": "string"
            }
          },
          "metadata": {},
          "execution_count": 45
        }
      ]
    },
    {
      "cell_type": "markdown",
      "metadata": {
        "id": "iqXHFaSC-Bkf"
      },
      "source": [
        "Removing Stopwords from Test Data"
      ]
    },
    {
      "cell_type": "code",
      "metadata": {
        "id": "EQ_lUOej-H_b",
        "outputId": "73fd7e16-3b27-4407-c442-57ed4b46e495",
        "colab": {
          "base_uri": "https://localhost:8080/",
          "height": 49,
          "referenced_widgets": [
            "ad7eef26f5d746d8b3b0e46695a91555",
            "bbfe36a17f8b4f04a6b688023b321be2",
            "4294fab570934dda8cbd9a79bfa1069d",
            "2dc3a4fe37dd47d4b0c5b317ba5f4c90",
            "dbb6994d213f4754b2ba000c50cecc90",
            "00ea88279b9f4ae8b461ce40c07d4c96",
            "ef78367e74494401a59375fab64f055a",
            "ab133429d10d4d2aa22cb95ee58f0db8",
            "6ed4df9488d04612bb5d155cc9a74f8c",
            "d754998a1e694d8292a7c25d069141ac",
            "eb69e724ca194054aa28fa0758e60e76"
          ]
        }
      },
      "source": [
        "processed_test_data = [] \n",
        "\n",
        "for line in tqdm_notebook(lemmatized_test_data, total=153164): \n",
        "    processed_test_data.append(remove_stopwords(line))"
      ],
      "execution_count": 46,
      "outputs": [
        {
          "output_type": "display_data",
          "data": {
            "text/plain": [
              "  0%|          | 0/153164 [00:00<?, ?it/s]"
            ],
            "application/vnd.jupyter.widget-view+json": {
              "version_major": 2,
              "version_minor": 0,
              "model_id": "ad7eef26f5d746d8b3b0e46695a91555"
            }
          },
          "metadata": {}
        }
      ]
    },
    {
      "cell_type": "markdown",
      "metadata": {
        "id": "CeScalvZDEdD"
      },
      "source": [
        "# Model Building"
      ]
    },
    {
      "cell_type": "code",
      "metadata": {
        "id": "SkK1P-CdX_0N"
      },
      "source": [
        "max_features=100000      \n",
        "maxpadlen = 200          \n",
        "val_split = 0.2      \n",
        "embedding_dim_fasttext = 300"
      ],
      "execution_count": 47,
      "outputs": []
    },
    {
      "cell_type": "markdown",
      "metadata": {
        "id": "GIeovLIr6aAo"
      },
      "source": [
        "Tokenization"
      ]
    },
    {
      "cell_type": "code",
      "metadata": {
        "id": "qaA52PlK4xnV"
      },
      "source": [
        "tokenizer = Tokenizer(num_words=max_features)\n",
        "tokenizer.fit_on_texts(list(processed_train_data))\n",
        "list_tokenized_train = tokenizer.texts_to_sequences(processed_train_data)\n",
        "list_tokenized_test = tokenizer.texts_to_sequences(processed_test_data)"
      ],
      "execution_count": 48,
      "outputs": []
    },
    {
      "cell_type": "code",
      "metadata": {
        "id": "pkSXj5sT7jbR",
        "outputId": "2568357e-d046-408c-b779-3dd6a3803c0d",
        "colab": {
          "base_uri": "https://localhost:8080/"
        }
      },
      "source": [
        "word_index=tokenizer.word_index\n",
        "print(\"Words in Vocabulary: \",len(word_index))"
      ],
      "execution_count": 49,
      "outputs": [
        {
          "output_type": "stream",
          "name": "stdout",
          "text": [
            "Words in Vocabulary:  148917\n"
          ]
        }
      ]
    },
    {
      "cell_type": "markdown",
      "metadata": {
        "id": "TfDwmzPj8TJf"
      },
      "source": [
        "Padding"
      ]
    },
    {
      "cell_type": "code",
      "metadata": {
        "id": "gEmacO337twa"
      },
      "source": [
        "X_t=pad_sequences(list_tokenized_train, maxlen=maxpadlen, padding = 'post')\n",
        "X_te=pad_sequences(list_tokenized_test, maxlen=maxpadlen, padding = 'post')"
      ],
      "execution_count": 50,
      "outputs": []
    },
    {
      "cell_type": "code",
      "metadata": {
        "id": "U6dAeWAnM4RL",
        "colab": {
          "base_uri": "https://localhost:8080/"
        },
        "outputId": "eb9a2bfe-ab4e-47bc-c6b3-71b4931b78ba"
      },
      "source": [
        "print('Tokenized sentences: \\n', X_t[10])\n",
        "print('One hot label: \\n', y[10])"
      ],
      "execution_count": 51,
      "outputs": [
        {
          "output_type": "stream",
          "name": "stdout",
          "text": [
            "Tokenized sentences: \n",
            " [  116   578    11 32199   239   192    11 32199   239    90    11   579\n",
            "    11   116   366   578     1  1082   116   338  5356   116   119    11\n",
            "   387   269   366   578    11     1  1341   116    11   387     2    32\n",
            "   116   578   192   116   172    46    84   579   116   578    11     2\n",
            "   488   105    10  1087   403  1073    11  2401   489    36   116    11\n",
            "   192   407   366     9   255   192   242   150   109    18    19    29\n",
            "   172    77    19     3   257  4540     4    11 32199   239   192    11\n",
            " 32199   239    90   171   387   312    68   579    34    44    77   423\n",
            "  1550    34   171     8   579  1268    77  1638   134    10   134  4671\n",
            "   134    94    44   565  1255    17    77  1338   118   134  1577    77\n",
            "  1134     4   507    77   434    31   171    68    34   168  2207   449\n",
            "    31   315  1529    70   172   236   150   116    31    31    11    77\n",
            "    31   116    11    77    31    77    31   192   171    46    84   579\n",
            "     4    31   171   192    80    10   862  3126    11     9   255    31\n",
            "   242   150   109    18    11    77   124    67   434   116    11     9\n",
            "   357    19    29   172    77    19     3   257     0     0     0     0\n",
            "     0     0     0     0     0     0     0     0]\n",
            "One hot label: \n",
            " [0 0 0 0 0 0]\n"
          ]
        }
      ]
    },
    {
      "cell_type": "code",
      "metadata": {
        "id": "XtZD1j9BCrsG"
      },
      "source": [
        "indices = np.arange(X_t.shape[0])\n",
        "np.random.shuffle(indices)"
      ],
      "execution_count": 52,
      "outputs": []
    },
    {
      "cell_type": "code",
      "metadata": {
        "id": "k51hkGqOnZLB"
      },
      "source": [
        "X_t = X_t[indices]\n",
        "labels = y[indices]"
      ],
      "execution_count": 53,
      "outputs": []
    },
    {
      "cell_type": "markdown",
      "metadata": {
        "id": "MWn-SkJCCswd"
      },
      "source": [
        "### Splitting data into Training and Validation Set"
      ]
    },
    {
      "cell_type": "code",
      "metadata": {
        "id": "B5hOSGJVb7o4"
      },
      "source": [
        "num_validation_samples = int(val_split*X_t.shape[0])\n",
        "x_train = X_t[: -num_validation_samples]\n",
        "y_train = labels[: -num_validation_samples]\n",
        "x_val = X_t[-num_validation_samples: ]\n",
        "y_val = labels[-num_validation_samples: ]"
      ],
      "execution_count": 54,
      "outputs": []
    },
    {
      "cell_type": "code",
      "metadata": {
        "id": "cHyYFZPDcEmK",
        "outputId": "3f98f7c9-fe74-4351-e865-ff23576dd65f",
        "colab": {
          "base_uri": "https://localhost:8080/"
        }
      },
      "source": [
        "print('Number of entries in each category:')\n",
        "print('training: ', y_train.sum(axis=0))\n",
        "print('validation: ', y_val.sum(axis=0))"
      ],
      "execution_count": 55,
      "outputs": [
        {
          "output_type": "stream",
          "name": "stdout",
          "text": [
            "Number of entries in each category:\n",
            "training:  [12236  1290  6738   372  6274  1145]\n",
            "validation:  [3058  305 1711  106 1603  260]\n"
          ]
        }
      ]
    },
    {
      "cell_type": "markdown",
      "metadata": {
        "id": "hL7Mv1Z6D8_w"
      },
      "source": [
        "### Importing Fast Text"
      ]
    },
    {
      "cell_type": "code",
      "metadata": {
        "id": "vsvNLXZ6DlWS"
      },
      "source": [
        "embeddings_index_fasttext = {}\n",
        "f = open('/content/drive/MyDrive/jigsaw-toxic-comment-classification-challenge/test_labels.csv', encoding='utf8')\n",
        "for line in f:\n",
        "    values = line.split()\n",
        "    word = values[0]\n",
        "    embeddings_index_fasttext[word] = np.asarray(values[1:], dtype='float32')\n",
        "f.close()"
      ],
      "execution_count": 56,
      "outputs": []
    },
    {
      "cell_type": "code",
      "metadata": {
        "id": "hpkSOB6iEFCB",
        "outputId": "59d61a63-4c1d-477e-e38b-abf772d98223",
        "colab": {
          "base_uri": "https://localhost:8080/"
        }
      },
      "source": [
        "embedding_matrix_fasttext = np.random.random((len(word_index) + 1, embedding_dim_fasttext))\n",
        "for word, i in word_index.items():\n",
        "    embedding_vector = embeddings_index_fasttext.get(word)\n",
        "    if embedding_vector is not None:\n",
        "        embedding_matrix_fasttext[i] = embedding_vector\n",
        "print(\" Completed!\")"
      ],
      "execution_count": 57,
      "outputs": [
        {
          "output_type": "stream",
          "name": "stdout",
          "text": [
            " Completed!\n"
          ]
        }
      ]
    },
    {
      "cell_type": "markdown",
      "metadata": {
        "id": "0OoZ7fTpPWhi"
      },
      "source": [
        "### Creating Model"
      ]
    },
    {
      "cell_type": "markdown",
      "metadata": {
        "id": "Dwzg_WX32OG3"
      },
      "source": [
        "#### Talos Grid Search  for LSTM Model"
      ]
    },
    {
      "cell_type": "code",
      "metadata": {
        "id": "oZdik3-jGkye"
      },
      "source": [
        "def toxic_classifier(x_train,y_train,x_val,y_val,params):\n",
        "\n",
        "  inp=Input(shape=(maxpadlen, ),dtype='int32')\n",
        "\n",
        "  embedding_layer = Embedding(len(word_index) + 1,\n",
        "                           embedding_dim_fasttext,\n",
        "                           weights = [embedding_matrix_fasttext],\n",
        "                           input_length = maxpadlen,\n",
        "                           trainable=False,\n",
        "                           name = 'embeddings')\n",
        "  embedded_sequences = embedding_layer(inp)\n",
        "\n",
        "  x = LSTM(params['output_count_lstm'], return_sequences=True,name='lstm_layer')(embedded_sequences)\n",
        "  \n",
        "  x = GlobalMaxPool1D()(x)\n",
        "  \n",
        "  x = Dropout(params['dropout'])(x)\n",
        "  \n",
        "  x = Dense(params['output_count_dense'], activation=params['activation'], kernel_initializer='he_uniform')(x)\n",
        "  \n",
        "  x = Dropout(params['dropout'])(x)\n",
        "  \n",
        "  preds = Dense(6, activation=params['last_activation'], kernel_initializer='glorot_uniform')(x)\n",
        "\n",
        "  model = Model(inputs=inp, outputs=preds)\n",
        "\n",
        "  model.compile(loss=params['loss'], optimizer=params['optimizer'], metrics=['accuracy'])\n",
        "\n",
        "  model_info=model.fit(x_train,y_train, epochs=params['epochs'], batch_size=params['batch_size'],  validation_data=(x_val, y_val))\n",
        "\n",
        "  return model_info, model"
      ],
      "execution_count": 58,
      "outputs": []
    },
    {
      "cell_type": "code",
      "metadata": {
        "id": "-6AtSibHGoTU"
      },
      "source": [
        "p={\n",
        "    'output_count_lstm': [40,50,60],\n",
        "    'output_count_dense': [30,40,50],\n",
        "    'batch_size': [32],\n",
        "    'epochs':[2],\n",
        "    'optimizer':['adam'],\n",
        "    'activation':['relu'],\n",
        "    'last_activation': ['sigmoid'],\n",
        "    'dropout':[0.1,0.2],\n",
        "    'loss': ['binary_crossentropy']   \n",
        "}"
      ],
      "execution_count": 59,
      "outputs": []
    },
    {
      "cell_type": "code",
      "metadata": {
        "id": "DAnaHxh1GpFi",
        "outputId": "d9afd389-392b-4ab2-a787-8129da0147c3",
        "colab": {
          "base_uri": "https://localhost:8080/"
        }
      },
      "source": [
        "scan_results = talos.Scan(x=x_train,\n",
        "               y=y_train,\n",
        "               x_val=x_val,\n",
        "               y_val=y_val,\n",
        "               model=toxic_classifier,\n",
        "               params=p,\n",
        "               experiment_name='tcc',\n",
        "               print_params=True)"
      ],
      "execution_count": 60,
      "outputs": [
        {
          "output_type": "stream",
          "name": "stderr",
          "text": [
            "\r  0%|          | 0/18 [00:00<?, ?it/s]"
          ]
        },
        {
          "output_type": "stream",
          "name": "stdout",
          "text": [
            "{'output_count_lstm': 40, 'output_count_dense': 30, 'batch_size': 32, 'epochs': 2, 'optimizer': 'adam', 'activation': 'relu', 'last_activation': 'sigmoid', 'dropout': 0.1, 'loss': 'binary_crossentropy'}\n",
            "Epoch 1/2\n",
            "3990/3990 [==============================] - 54s 12ms/step - loss: 0.0971 - accuracy: 0.9350 - val_loss: 0.0707 - val_accuracy: 0.9943\n",
            "Epoch 2/2\n",
            "3990/3990 [==============================] - 48s 12ms/step - loss: 0.0714 - accuracy: 0.9939 - val_loss: 0.0677 - val_accuracy: 0.9943\n"
          ]
        },
        {
          "output_type": "stream",
          "name": "stderr",
          "text": [
            "\r  6%|▌         | 1/18 [01:46<30:16, 106.85s/it]"
          ]
        },
        {
          "output_type": "stream",
          "name": "stdout",
          "text": [
            "{'output_count_lstm': 40, 'output_count_dense': 30, 'batch_size': 32, 'epochs': 2, 'optimizer': 'adam', 'activation': 'relu', 'last_activation': 'sigmoid', 'dropout': 0.2, 'loss': 'binary_crossentropy'}\n",
            "Epoch 1/2\n",
            "3990/3990 [==============================] - 50s 12ms/step - loss: 0.1012 - accuracy: 0.9153 - val_loss: 0.0792 - val_accuracy: 0.9943\n",
            "Epoch 2/2\n",
            "3990/3990 [==============================] - 48s 12ms/step - loss: 0.0759 - accuracy: 0.9941 - val_loss: 0.0671 - val_accuracy: 0.9943\n"
          ]
        },
        {
          "output_type": "stream",
          "name": "stderr",
          "text": [
            "\r 11%|█         | 2/18 [04:11<34:24, 129.05s/it]"
          ]
        },
        {
          "output_type": "stream",
          "name": "stdout",
          "text": [
            "{'output_count_lstm': 40, 'output_count_dense': 40, 'batch_size': 32, 'epochs': 2, 'optimizer': 'adam', 'activation': 'relu', 'last_activation': 'sigmoid', 'dropout': 0.1, 'loss': 'binary_crossentropy'}\n",
            "Epoch 1/2\n",
            "3990/3990 [==============================] - 50s 12ms/step - loss: 0.0938 - accuracy: 0.9312 - val_loss: 0.0700 - val_accuracy: 0.9943\n",
            "Epoch 2/2\n",
            "3990/3990 [==============================] - 48s 12ms/step - loss: 0.0701 - accuracy: 0.9939 - val_loss: 0.0655 - val_accuracy: 0.9943\n"
          ]
        },
        {
          "output_type": "stream",
          "name": "stderr",
          "text": [
            "\r 17%|█▋        | 3/18 [06:36<34:02, 136.13s/it]"
          ]
        },
        {
          "output_type": "stream",
          "name": "stdout",
          "text": [
            "{'output_count_lstm': 40, 'output_count_dense': 40, 'batch_size': 32, 'epochs': 2, 'optimizer': 'adam', 'activation': 'relu', 'last_activation': 'sigmoid', 'dropout': 0.2, 'loss': 'binary_crossentropy'}\n",
            "Epoch 1/2\n",
            "3990/3990 [==============================] - 50s 12ms/step - loss: 0.0986 - accuracy: 0.9325 - val_loss: 0.0764 - val_accuracy: 0.9943\n",
            "Epoch 2/2\n",
            "3990/3990 [==============================] - 48s 12ms/step - loss: 0.0742 - accuracy: 0.9940 - val_loss: 0.0666 - val_accuracy: 0.9943\n"
          ]
        },
        {
          "output_type": "stream",
          "name": "stderr",
          "text": [
            "\r 22%|██▏       | 4/18 [08:14<28:19, 121.41s/it]"
          ]
        },
        {
          "output_type": "stream",
          "name": "stdout",
          "text": [
            "{'output_count_lstm': 40, 'output_count_dense': 50, 'batch_size': 32, 'epochs': 2, 'optimizer': 'adam', 'activation': 'relu', 'last_activation': 'sigmoid', 'dropout': 0.1, 'loss': 'binary_crossentropy'}\n",
            "Epoch 1/2\n",
            "3990/3990 [==============================] - 50s 12ms/step - loss: 0.0956 - accuracy: 0.9461 - val_loss: 0.0751 - val_accuracy: 0.9943\n",
            "Epoch 2/2\n",
            "3990/3990 [==============================] - 48s 12ms/step - loss: 0.0717 - accuracy: 0.9939 - val_loss: 0.0660 - val_accuracy: 0.9943\n"
          ]
        },
        {
          "output_type": "stream",
          "name": "stderr",
          "text": [
            "\r 28%|██▊       | 5/18 [09:53<24:33, 113.36s/it]"
          ]
        },
        {
          "output_type": "stream",
          "name": "stdout",
          "text": [
            "{'output_count_lstm': 40, 'output_count_dense': 50, 'batch_size': 32, 'epochs': 2, 'optimizer': 'adam', 'activation': 'relu', 'last_activation': 'sigmoid', 'dropout': 0.2, 'loss': 'binary_crossentropy'}\n",
            "Epoch 1/2\n",
            "3990/3990 [==============================] - 50s 12ms/step - loss: 0.0971 - accuracy: 0.9392 - val_loss: 0.0728 - val_accuracy: 0.9943\n",
            "Epoch 2/2\n",
            "3990/3990 [==============================] - 49s 12ms/step - loss: 0.0718 - accuracy: 0.9941 - val_loss: 0.0642 - val_accuracy: 0.9943\n"
          ]
        },
        {
          "output_type": "stream",
          "name": "stderr",
          "text": [
            "\r 33%|███▎      | 6/18 [11:33<21:45, 108.83s/it]"
          ]
        },
        {
          "output_type": "stream",
          "name": "stdout",
          "text": [
            "{'output_count_lstm': 50, 'output_count_dense': 30, 'batch_size': 32, 'epochs': 2, 'optimizer': 'adam', 'activation': 'relu', 'last_activation': 'sigmoid', 'dropout': 0.1, 'loss': 'binary_crossentropy'}\n",
            "Epoch 1/2\n",
            "3990/3990 [==============================] - 49s 12ms/step - loss: 0.0921 - accuracy: 0.9617 - val_loss: 0.0732 - val_accuracy: 0.9943\n",
            "Epoch 2/2\n",
            "3990/3990 [==============================] - 47s 12ms/step - loss: 0.0697 - accuracy: 0.9941 - val_loss: 0.0654 - val_accuracy: 0.9943\n"
          ]
        },
        {
          "output_type": "stream",
          "name": "stderr",
          "text": [
            "\r 39%|███▉      | 7/18 [13:10<19:13, 104.82s/it]"
          ]
        },
        {
          "output_type": "stream",
          "name": "stdout",
          "text": [
            "{'output_count_lstm': 50, 'output_count_dense': 30, 'batch_size': 32, 'epochs': 2, 'optimizer': 'adam', 'activation': 'relu', 'last_activation': 'sigmoid', 'dropout': 0.2, 'loss': 'binary_crossentropy'}\n",
            "Epoch 1/2\n",
            "3990/3990 [==============================] - 50s 12ms/step - loss: 0.1023 - accuracy: 0.9276 - val_loss: 0.0784 - val_accuracy: 0.9943\n",
            "Epoch 2/2\n",
            "3990/3990 [==============================] - 47s 12ms/step - loss: 0.0747 - accuracy: 0.9941 - val_loss: 0.0699 - val_accuracy: 0.9943\n"
          ]
        },
        {
          "output_type": "stream",
          "name": "stderr",
          "text": [
            "\r 44%|████▍     | 8/18 [14:48<17:06, 102.65s/it]"
          ]
        },
        {
          "output_type": "stream",
          "name": "stdout",
          "text": [
            "{'output_count_lstm': 50, 'output_count_dense': 40, 'batch_size': 32, 'epochs': 2, 'optimizer': 'adam', 'activation': 'relu', 'last_activation': 'sigmoid', 'dropout': 0.1, 'loss': 'binary_crossentropy'}\n",
            "Epoch 1/2\n",
            "3990/3990 [==============================] - 50s 12ms/step - loss: 0.0893 - accuracy: 0.9397 - val_loss: 0.0688 - val_accuracy: 0.9943\n",
            "Epoch 2/2\n",
            "3990/3990 [==============================] - 47s 12ms/step - loss: 0.0694 - accuracy: 0.9936 - val_loss: 0.0640 - val_accuracy: 0.9943\n"
          ]
        },
        {
          "output_type": "stream",
          "name": "stderr",
          "text": [
            "\r 50%|█████     | 9/18 [17:13<17:21, 115.76s/it]"
          ]
        },
        {
          "output_type": "stream",
          "name": "stdout",
          "text": [
            "{'output_count_lstm': 50, 'output_count_dense': 40, 'batch_size': 32, 'epochs': 2, 'optimizer': 'adam', 'activation': 'relu', 'last_activation': 'sigmoid', 'dropout': 0.2, 'loss': 'binary_crossentropy'}\n",
            "Epoch 1/2\n",
            "3990/3990 [==============================] - 49s 12ms/step - loss: 0.0950 - accuracy: 0.9337 - val_loss: 0.0702 - val_accuracy: 0.9943\n",
            "Epoch 2/2\n",
            "3990/3990 [==============================] - 47s 12ms/step - loss: 0.0714 - accuracy: 0.9941 - val_loss: 0.0687 - val_accuracy: 0.9943\n"
          ]
        },
        {
          "output_type": "stream",
          "name": "stderr",
          "text": [
            "\r 56%|█████▌    | 10/18 [18:49<14:39, 109.91s/it]"
          ]
        },
        {
          "output_type": "stream",
          "name": "stdout",
          "text": [
            "{'output_count_lstm': 50, 'output_count_dense': 50, 'batch_size': 32, 'epochs': 2, 'optimizer': 'adam', 'activation': 'relu', 'last_activation': 'sigmoid', 'dropout': 0.1, 'loss': 'binary_crossentropy'}\n",
            "Epoch 1/2\n",
            "3990/3990 [==============================] - 50s 12ms/step - loss: 0.0921 - accuracy: 0.9351 - val_loss: 0.0681 - val_accuracy: 0.9943\n",
            "Epoch 2/2\n",
            "3990/3990 [==============================] - 47s 12ms/step - loss: 0.0680 - accuracy: 0.9939 - val_loss: 0.0637 - val_accuracy: 0.9943\n"
          ]
        },
        {
          "output_type": "stream",
          "name": "stderr",
          "text": [
            "\r 61%|██████    | 11/18 [21:14<14:03, 120.52s/it]"
          ]
        },
        {
          "output_type": "stream",
          "name": "stdout",
          "text": [
            "{'output_count_lstm': 50, 'output_count_dense': 50, 'batch_size': 32, 'epochs': 2, 'optimizer': 'adam', 'activation': 'relu', 'last_activation': 'sigmoid', 'dropout': 0.2, 'loss': 'binary_crossentropy'}\n",
            "Epoch 1/2\n",
            "3990/3990 [==============================] - 49s 12ms/step - loss: 0.0982 - accuracy: 0.9361 - val_loss: 0.0721 - val_accuracy: 0.9943\n",
            "Epoch 2/2\n",
            "3990/3990 [==============================] - 46s 11ms/step - loss: 0.0728 - accuracy: 0.9941 - val_loss: 0.0669 - val_accuracy: 0.9943\n"
          ]
        },
        {
          "output_type": "stream",
          "name": "stderr",
          "text": [
            "\r 67%|██████▋   | 12/18 [22:49<11:17, 112.88s/it]"
          ]
        },
        {
          "output_type": "stream",
          "name": "stdout",
          "text": [
            "{'output_count_lstm': 60, 'output_count_dense': 30, 'batch_size': 32, 'epochs': 2, 'optimizer': 'adam', 'activation': 'relu', 'last_activation': 'sigmoid', 'dropout': 0.1, 'loss': 'binary_crossentropy'}\n",
            "Epoch 1/2\n",
            "3990/3990 [==============================] - 49s 12ms/step - loss: 0.0960 - accuracy: 0.9464 - val_loss: 0.0797 - val_accuracy: 0.9943\n",
            "Epoch 2/2\n",
            "3990/3990 [==============================] - 45s 11ms/step - loss: 0.0699 - accuracy: 0.9940 - val_loss: 0.0664 - val_accuracy: 0.9943\n"
          ]
        },
        {
          "output_type": "stream",
          "name": "stderr",
          "text": [
            "\r 72%|███████▏  | 13/18 [24:25<08:57, 107.51s/it]"
          ]
        },
        {
          "output_type": "stream",
          "name": "stdout",
          "text": [
            "{'output_count_lstm': 60, 'output_count_dense': 30, 'batch_size': 32, 'epochs': 2, 'optimizer': 'adam', 'activation': 'relu', 'last_activation': 'sigmoid', 'dropout': 0.2, 'loss': 'binary_crossentropy'}\n",
            "Epoch 1/2\n",
            "3990/3990 [==============================] - 49s 12ms/step - loss: 0.0951 - accuracy: 0.9135 - val_loss: 0.0690 - val_accuracy: 0.9943\n",
            "Epoch 2/2\n",
            "3990/3990 [==============================] - 46s 11ms/step - loss: 0.0715 - accuracy: 0.9941 - val_loss: 0.0655 - val_accuracy: 0.9943\n"
          ]
        },
        {
          "output_type": "stream",
          "name": "stderr",
          "text": [
            "\r 78%|███████▊  | 14/18 [26:49<07:54, 118.73s/it]"
          ]
        },
        {
          "output_type": "stream",
          "name": "stdout",
          "text": [
            "{'output_count_lstm': 60, 'output_count_dense': 40, 'batch_size': 32, 'epochs': 2, 'optimizer': 'adam', 'activation': 'relu', 'last_activation': 'sigmoid', 'dropout': 0.1, 'loss': 'binary_crossentropy'}\n",
            "Epoch 1/2\n",
            "3990/3990 [==============================] - 49s 12ms/step - loss: 0.0907 - accuracy: 0.9418 - val_loss: 0.0700 - val_accuracy: 0.9943\n",
            "Epoch 2/2\n",
            "3990/3990 [==============================] - 46s 11ms/step - loss: 0.0688 - accuracy: 0.9941 - val_loss: 0.0636 - val_accuracy: 0.9943\n"
          ]
        },
        {
          "output_type": "stream",
          "name": "stderr",
          "text": [
            "\r 83%|████████▎ | 15/18 [29:14<06:19, 126.53s/it]"
          ]
        },
        {
          "output_type": "stream",
          "name": "stdout",
          "text": [
            "{'output_count_lstm': 60, 'output_count_dense': 40, 'batch_size': 32, 'epochs': 2, 'optimizer': 'adam', 'activation': 'relu', 'last_activation': 'sigmoid', 'dropout': 0.2, 'loss': 'binary_crossentropy'}\n",
            "Epoch 1/2\n",
            "3990/3990 [==============================] - 48s 12ms/step - loss: 0.0960 - accuracy: 0.9390 - val_loss: 0.0694 - val_accuracy: 0.9943\n",
            "Epoch 2/2\n",
            "3990/3990 [==============================] - 46s 11ms/step - loss: 0.0716 - accuracy: 0.9941 - val_loss: 0.0657 - val_accuracy: 0.9943\n"
          ]
        },
        {
          "output_type": "stream",
          "name": "stderr",
          "text": [
            "\r 89%|████████▉ | 16/18 [31:38<04:23, 131.97s/it]"
          ]
        },
        {
          "output_type": "stream",
          "name": "stdout",
          "text": [
            "{'output_count_lstm': 60, 'output_count_dense': 50, 'batch_size': 32, 'epochs': 2, 'optimizer': 'adam', 'activation': 'relu', 'last_activation': 'sigmoid', 'dropout': 0.1, 'loss': 'binary_crossentropy'}\n",
            "Epoch 1/2\n",
            "3990/3990 [==============================] - 49s 12ms/step - loss: 0.0918 - accuracy: 0.9589 - val_loss: 0.0697 - val_accuracy: 0.9943\n",
            "Epoch 2/2\n",
            "3990/3990 [==============================] - 48s 12ms/step - loss: 0.0699 - accuracy: 0.9941 - val_loss: 0.0706 - val_accuracy: 0.9943\n"
          ]
        },
        {
          "output_type": "stream",
          "name": "stderr",
          "text": [
            "\r 94%|█████████▍| 17/18 [33:16<02:01, 121.55s/it]"
          ]
        },
        {
          "output_type": "stream",
          "name": "stdout",
          "text": [
            "{'output_count_lstm': 60, 'output_count_dense': 50, 'batch_size': 32, 'epochs': 2, 'optimizer': 'adam', 'activation': 'relu', 'last_activation': 'sigmoid', 'dropout': 0.2, 'loss': 'binary_crossentropy'}\n",
            "Epoch 1/2\n",
            "3990/3990 [==============================] - 48s 12ms/step - loss: 0.0965 - accuracy: 0.9221 - val_loss: 0.0700 - val_accuracy: 0.9943\n",
            "Epoch 2/2\n",
            "3990/3990 [==============================] - 46s 12ms/step - loss: 0.0719 - accuracy: 0.9941 - val_loss: 0.0641 - val_accuracy: 0.9943\n"
          ]
        },
        {
          "output_type": "stream",
          "name": "stderr",
          "text": [
            "100%|██████████| 18/18 [35:40<00:00, 118.94s/it]\n"
          ]
        }
      ]
    },
    {
      "cell_type": "code",
      "metadata": {
        "id": "HXl1ZQSWtdYK",
        "colab": {
          "base_uri": "https://localhost:8080/"
        },
        "outputId": "753e92e4-63ea-4a58-9264-1a2b5aed603d"
      },
      "source": [
        "model_id = scan_results.data['val_accuracy'].astype('float').argmax()\n",
        "model_id"
      ],
      "execution_count": 61,
      "outputs": [
        {
          "output_type": "execute_result",
          "data": {
            "text/plain": [
              "0"
            ]
          },
          "metadata": {},
          "execution_count": 61
        }
      ]
    },
    {
      "cell_type": "code",
      "metadata": {
        "id": "7yict0QyGxV7"
      },
      "source": [
        "analyze_object = talos.Analyze(scan_results)"
      ],
      "execution_count": 62,
      "outputs": []
    },
    {
      "cell_type": "code",
      "metadata": {
        "id": "S3d78iYYG0I3",
        "colab": {
          "base_uri": "https://localhost:8080/"
        },
        "outputId": "c3fc581b-07ba-4c89-fc7f-864056a36b26"
      },
      "source": [
        "analyze_object.best_params('val_accuracy', ['accuracy', 'loss', 'val_loss'])"
      ],
      "execution_count": 63,
      "outputs": [
        {
          "output_type": "execute_result",
          "data": {
            "text/plain": [
              "array([[2, 'sigmoid', 30, '07/19/22-050552', 40, '07/19/22-050738',\n",
              "        106.20861625671387, 2, 'adam', 32, 0.1, 'relu', 0],\n",
              "       [2, 'sigmoid', 30, '07/19/22-050739', 40, '07/19/22-051003',\n",
              "        143.89701890945435, 2, 'adam', 32, 0.2, 'relu', 1],\n",
              "       [2, 'sigmoid', 50, '07/19/22-053731', 60, '07/19/22-053908',\n",
              "        96.6086094379425, 2, 'adam', 32, 0.1, 'relu', 2],\n",
              "       [2, 'sigmoid', 40, '07/19/22-053506', 60, '07/19/22-053730',\n",
              "        144.00165438652039, 2, 'adam', 32, 0.2, 'relu', 3],\n",
              "       [2, 'sigmoid', 40, '07/19/22-053242', 60, '07/19/22-053506',\n",
              "        143.9543101787567, 2, 'adam', 32, 0.1, 'relu', 4],\n",
              "       [2, 'sigmoid', 30, '07/19/22-053017', 60, '07/19/22-053241',\n",
              "        143.95904159545898, 2, 'adam', 32, 0.2, 'relu', 5],\n",
              "       [2, 'sigmoid', 30, '07/19/22-052842', 60, '07/19/22-053016',\n",
              "        94.52224087715149, 2, 'adam', 32, 0.1, 'relu', 6],\n",
              "       [2, 'sigmoid', 50, '07/19/22-052707', 50, '07/19/22-052841',\n",
              "        94.76486444473267, 2, 'adam', 32, 0.2, 'relu', 7],\n",
              "       [2, 'sigmoid', 50, '07/19/22-052442', 50, '07/19/22-052706',\n",
              "        143.95886516571045, 2, 'adam', 32, 0.1, 'relu', 8],\n",
              "       [2, 'sigmoid', 40, '07/19/22-052305', 50, '07/19/22-052441',\n",
              "        96.18140745162964, 2, 'adam', 32, 0.2, 'relu', 9]], dtype=object)"
            ]
          },
          "metadata": {},
          "execution_count": 63
        }
      ]
    },
    {
      "cell_type": "code",
      "metadata": {
        "id": "KBlqpfIhG2xq",
        "colab": {
          "base_uri": "https://localhost:8080/",
          "height": 410
        },
        "outputId": "24388926-20ca-45d7-e873-4c872273273f"
      },
      "source": [
        "analyze_object.plot_line('val_accuracy')"
      ],
      "execution_count": 64,
      "outputs": [
        {
          "output_type": "display_data",
          "data": {
            "text/plain": [
              "<Figure size 864x475.2 with 1 Axes>"
            ],
            "image/png": "[encoded data removed]"
          },
          "metadata": {}
        }
      ]
    },
    {
      "cell_type": "code",
      "metadata": {
        "id": "mQ8Xr0tiG4ry",
        "colab": {
          "base_uri": "https://localhost:8080/",
          "height": 410
        },
        "outputId": "351c6b59-d054-461c-ae2f-9f14fc566463"
      },
      "source": [
        "analyze_object.plot_line('accuracy')"
      ],
      "execution_count": 65,
      "outputs": [
        {
          "output_type": "display_data",
          "data": {
            "text/plain": [
              "<Figure size 864x475.2 with 1 Axes>"
            ],
            "image/png": "[encoded data removed]"
          },
          "metadata": {}
        }
      ]
    },
    {
      "cell_type": "markdown",
      "metadata": {
        "id": "pV4ierVz7J02"
      },
      "source": [
        "#### Talos Grid Search  for LSTM-CNN Model"
      ]
    },
    {
      "cell_type": "code",
      "metadata": {
        "id": "jH7jcbAs7MXv"
      },
      "source": [
        "def toxic_classifier(x_train,y_train,x_val,y_val,params):\n",
        "\n",
        "  inp=Input(shape=(maxpadlen, ),dtype='int32')\n",
        "\n",
        "  embedding_layer = Embedding(len(word_index) + 1,\n",
        "                           embedding_dim_fasttext,\n",
        "                           weights = [embedding_matrix_fasttext],\n",
        "                           input_length = maxpadlen,\n",
        "                           trainable=False,\n",
        "                           name = 'embeddings')\n",
        "  embedded_sequences = embedding_layer(inp)\n",
        "\n",
        "  x = LSTM(params['output_count_lstm'], return_sequences=True,name='lstm_layer')(embedded_sequences)\n",
        "\n",
        "  x = Conv1D(filters=params['filters'], kernel_size=params['kernel_size'], padding='same', activation='relu', kernel_initializer='he_uniform')(x)\n",
        "\n",
        "  x = MaxPooling1D(params['pool_size'])(x)\n",
        "  \n",
        "  x = GlobalMaxPool1D()(x)\n",
        "  \n",
        "  x = BatchNormalization()(x)\n",
        "  \n",
        "  x = Dense(params['output_1_count_dense'], activation=params['activation'], kernel_initializer='he_uniform')(x)\n",
        "  \n",
        "  x = Dropout(params['dropout'])(x)\n",
        "\n",
        "  x = Dense(params['output_2_count_dense'], activation=params['activation'], kernel_initializer='he_uniform')(x)\n",
        "  \n",
        "  x = Dropout(params['dropout'])(x)\n",
        "  \n",
        "  preds = Dense(6, activation=params['last_activation'], kernel_initializer='glorot_uniform')(x)\n",
        "\n",
        "  model = Model(inputs=inp, outputs=preds)\n",
        "\n",
        "  model.compile(loss=params['loss'], optimizer=params['optimizer'], metrics=['accuracy'])\n",
        "\n",
        "  model_info=model.fit(x_train,y_train, epochs=params['epochs'], batch_size=params['batch_size'],  validation_data=(x_val, y_val))\n",
        "\n",
        "  return model_info, model"
      ],
      "execution_count": 66,
      "outputs": []
    },
    {
      "cell_type": "code",
      "metadata": {
        "id": "-Ru7Tkq67QoO"
      },
      "source": [
        "p={\n",
        "    'output_count_lstm': [50,60],\n",
        "    'output_1_count_dense': [40,50],\n",
        "    'output_2_count_dense': [30,40],\n",
        "    'filters' : [64],\n",
        "    'kernel_size' : [3],\n",
        "    'batch_size': [32],\n",
        "    'pool_size': [3],\n",
        "    'epochs':[2],\n",
        "    'optimizer':['adam'],\n",
        "    'activation':['relu'],\n",
        "    'last_activation': ['sigmoid'],\n",
        "    'dropout':[0.1,0.2],\n",
        "    'loss': ['binary_crossentropy']   \n",
        "}"
      ],
      "execution_count": 67,
      "outputs": []
    },
    {
      "cell_type": "code",
      "metadata": {
        "id": "9l3M27FU7QiG",
        "colab": {
          "base_uri": "https://localhost:8080/"
        },
        "outputId": "485a4e44-fbc0-434d-b9a3-ec05d6c70445"
      },
      "source": [
        "scan_results = talos.Scan(x=x_train,\n",
        "               y=y_train,\n",
        "               x_val=x_val,\n",
        "               y_val=y_val,\n",
        "               model=toxic_classifier,\n",
        "               params=p,\n",
        "               experiment_name='tcc',\n",
        "               print_params=True)"
      ],
      "execution_count": 68,
      "outputs": [
        {
          "output_type": "stream",
          "name": "stderr",
          "text": [
            "\r  0%|          | 0/16 [00:00<?, ?it/s]"
          ]
        },
        {
          "output_type": "stream",
          "name": "stdout",
          "text": [
            "{'output_count_lstm': 50, 'output_1_count_dense': 40, 'output_2_count_dense': 30, 'filters': 64, 'kernel_size': 3, 'batch_size': 32, 'pool_size': 3, 'epochs': 2, 'optimizer': 'adam', 'activation': 'relu', 'last_activation': 'sigmoid', 'dropout': 0.1, 'loss': 'binary_crossentropy'}\n",
            "Epoch 1/2\n",
            "3990/3990 [==============================] - 61s 13ms/step - loss: 0.0854 - accuracy: 0.9071 - val_loss: 0.0780 - val_accuracy: 0.9921\n",
            "Epoch 2/2\n",
            "3990/3990 [==============================] - 51s 13ms/step - loss: 0.0666 - accuracy: 0.9936 - val_loss: 0.0815 - val_accuracy: 0.9943\n"
          ]
        },
        {
          "output_type": "stream",
          "name": "stderr",
          "text": [
            "\r  6%|▋         | 1/16 [01:53<28:17, 113.20s/it]"
          ]
        },
        {
          "output_type": "stream",
          "name": "stdout",
          "text": [
            "{'output_count_lstm': 50, 'output_1_count_dense': 40, 'output_2_count_dense': 30, 'filters': 64, 'kernel_size': 3, 'batch_size': 32, 'pool_size': 3, 'epochs': 2, 'optimizer': 'adam', 'activation': 'relu', 'last_activation': 'sigmoid', 'dropout': 0.2, 'loss': 'binary_crossentropy'}\n",
            "Epoch 1/2\n",
            "3990/3990 [==============================] - 55s 13ms/step - loss: 0.0929 - accuracy: 0.9262 - val_loss: 0.2948 - val_accuracy: 0.9943\n",
            "Epoch 2/2\n",
            "3990/3990 [==============================] - 51s 13ms/step - loss: 0.0704 - accuracy: 0.9939 - val_loss: 0.0800 - val_accuracy: 0.9943\n"
          ]
        },
        {
          "output_type": "stream",
          "name": "stderr",
          "text": [
            "\r 12%|█▎        | 2/16 [03:39<25:28, 109.20s/it]"
          ]
        },
        {
          "output_type": "stream",
          "name": "stdout",
          "text": [
            "{'output_count_lstm': 50, 'output_1_count_dense': 40, 'output_2_count_dense': 40, 'filters': 64, 'kernel_size': 3, 'batch_size': 32, 'pool_size': 3, 'epochs': 2, 'optimizer': 'adam', 'activation': 'relu', 'last_activation': 'sigmoid', 'dropout': 0.1, 'loss': 'binary_crossentropy'}\n",
            "Epoch 1/2\n",
            "3990/3990 [==============================] - 54s 13ms/step - loss: 0.0890 - accuracy: 0.9313 - val_loss: 0.2390 - val_accuracy: 0.9939\n",
            "Epoch 2/2\n",
            "3990/3990 [==============================] - 50s 13ms/step - loss: 0.0667 - accuracy: 0.9932 - val_loss: 0.0853 - val_accuracy: 0.9942\n"
          ]
        },
        {
          "output_type": "stream",
          "name": "stderr",
          "text": [
            "\r 19%|█▉        | 3/16 [06:04<27:12, 125.55s/it]"
          ]
        },
        {
          "output_type": "stream",
          "name": "stdout",
          "text": [
            "{'output_count_lstm': 50, 'output_1_count_dense': 40, 'output_2_count_dense': 40, 'filters': 64, 'kernel_size': 3, 'batch_size': 32, 'pool_size': 3, 'epochs': 2, 'optimizer': 'adam', 'activation': 'relu', 'last_activation': 'sigmoid', 'dropout': 0.2, 'loss': 'binary_crossentropy'}\n",
            "Epoch 1/2\n",
            "3990/3990 [==============================] - 53s 13ms/step - loss: 0.0943 - accuracy: 0.9028 - val_loss: 0.0799 - val_accuracy: 0.9943\n",
            "Epoch 2/2\n",
            "3990/3990 [==============================] - 50s 12ms/step - loss: 0.0694 - accuracy: 0.9940 - val_loss: 0.0692 - val_accuracy: 0.9943\n"
          ]
        },
        {
          "output_type": "stream",
          "name": "stderr",
          "text": [
            "\r 25%|██▌       | 4/16 [07:48<23:24, 117.01s/it]"
          ]
        },
        {
          "output_type": "stream",
          "name": "stdout",
          "text": [
            "{'output_count_lstm': 50, 'output_1_count_dense': 50, 'output_2_count_dense': 30, 'filters': 64, 'kernel_size': 3, 'batch_size': 32, 'pool_size': 3, 'epochs': 2, 'optimizer': 'adam', 'activation': 'relu', 'last_activation': 'sigmoid', 'dropout': 0.1, 'loss': 'binary_crossentropy'}\n",
            "Epoch 1/2\n",
            "3990/3990 [==============================] - 53s 13ms/step - loss: 0.0885 - accuracy: 0.9265 - val_loss: 0.0697 - val_accuracy: 0.9943\n",
            "Epoch 2/2\n",
            "3990/3990 [==============================] - 50s 12ms/step - loss: 0.0681 - accuracy: 0.9937 - val_loss: 0.0748 - val_accuracy: 0.9943\n"
          ]
        },
        {
          "output_type": "stream",
          "name": "stderr",
          "text": [
            "\r 31%|███▏      | 5/16 [09:32<20:36, 112.41s/it]"
          ]
        },
        {
          "output_type": "stream",
          "name": "stdout",
          "text": [
            "{'output_count_lstm': 50, 'output_1_count_dense': 50, 'output_2_count_dense': 30, 'filters': 64, 'kernel_size': 3, 'batch_size': 32, 'pool_size': 3, 'epochs': 2, 'optimizer': 'adam', 'activation': 'relu', 'last_activation': 'sigmoid', 'dropout': 0.2, 'loss': 'binary_crossentropy'}\n",
            "Epoch 1/2\n",
            "3990/3990 [==============================] - 54s 13ms/step - loss: 0.0929 - accuracy: 0.9219 - val_loss: 0.1277 - val_accuracy: 0.9943\n",
            "Epoch 2/2\n",
            "3990/3990 [==============================] - 51s 13ms/step - loss: 0.0675 - accuracy: 0.9941 - val_loss: 0.1183 - val_accuracy: 0.9943\n"
          ]
        },
        {
          "output_type": "stream",
          "name": "stderr",
          "text": [
            "\r 38%|███▊      | 6/16 [11:57<20:35, 123.51s/it]"
          ]
        },
        {
          "output_type": "stream",
          "name": "stdout",
          "text": [
            "{'output_count_lstm': 50, 'output_1_count_dense': 50, 'output_2_count_dense': 40, 'filters': 64, 'kernel_size': 3, 'batch_size': 32, 'pool_size': 3, 'epochs': 2, 'optimizer': 'adam', 'activation': 'relu', 'last_activation': 'sigmoid', 'dropout': 0.1, 'loss': 'binary_crossentropy'}\n",
            "Epoch 1/2\n",
            "3990/3990 [==============================] - 54s 13ms/step - loss: 0.0865 - accuracy: 0.9375 - val_loss: 0.1732 - val_accuracy: 0.9943\n",
            "Epoch 2/2\n",
            "3990/3990 [==============================] - 50s 13ms/step - loss: 0.0678 - accuracy: 0.9926 - val_loss: 0.2250 - val_accuracy: 0.9943\n"
          ]
        },
        {
          "output_type": "stream",
          "name": "stderr",
          "text": [
            "\r 44%|████▍     | 7/16 [13:42<17:37, 117.48s/it]"
          ]
        },
        {
          "output_type": "stream",
          "name": "stdout",
          "text": [
            "{'output_count_lstm': 50, 'output_1_count_dense': 50, 'output_2_count_dense': 40, 'filters': 64, 'kernel_size': 3, 'batch_size': 32, 'pool_size': 3, 'epochs': 2, 'optimizer': 'adam', 'activation': 'relu', 'last_activation': 'sigmoid', 'dropout': 0.2, 'loss': 'binary_crossentropy'}\n",
            "Epoch 1/2\n",
            "3990/3990 [==============================] - 54s 13ms/step - loss: 0.0926 - accuracy: 0.9034 - val_loss: 0.0943 - val_accuracy: 0.9943\n",
            "Epoch 2/2\n",
            "3990/3990 [==============================] - 50s 12ms/step - loss: 0.0695 - accuracy: 0.9941 - val_loss: 0.0681 - val_accuracy: 0.9943\n"
          ]
        },
        {
          "output_type": "stream",
          "name": "stderr",
          "text": [
            "\r 50%|█████     | 8/16 [16:07<16:49, 126.25s/it]"
          ]
        },
        {
          "output_type": "stream",
          "name": "stdout",
          "text": [
            "{'output_count_lstm': 60, 'output_1_count_dense': 40, 'output_2_count_dense': 30, 'filters': 64, 'kernel_size': 3, 'batch_size': 32, 'pool_size': 3, 'epochs': 2, 'optimizer': 'adam', 'activation': 'relu', 'last_activation': 'sigmoid', 'dropout': 0.1, 'loss': 'binary_crossentropy'}\n",
            "Epoch 1/2\n",
            "3990/3990 [==============================] - 55s 13ms/step - loss: 0.0877 - accuracy: 0.9055 - val_loss: 0.2717 - val_accuracy: 0.9943\n",
            "Epoch 2/2\n",
            "3990/3990 [==============================] - 50s 13ms/step - loss: 0.0658 - accuracy: 0.9933 - val_loss: 0.0628 - val_accuracy: 0.9941\n"
          ]
        },
        {
          "output_type": "stream",
          "name": "stderr",
          "text": [
            "\r 56%|█████▋    | 9/16 [17:54<14:00, 120.07s/it]"
          ]
        },
        {
          "output_type": "stream",
          "name": "stdout",
          "text": [
            "{'output_count_lstm': 60, 'output_1_count_dense': 40, 'output_2_count_dense': 30, 'filters': 64, 'kernel_size': 3, 'batch_size': 32, 'pool_size': 3, 'epochs': 2, 'optimizer': 'adam', 'activation': 'relu', 'last_activation': 'sigmoid', 'dropout': 0.2, 'loss': 'binary_crossentropy'}\n",
            "Epoch 1/2\n",
            "3990/3990 [==============================] - 54s 13ms/step - loss: 0.0916 - accuracy: 0.9343 - val_loss: 0.0742 - val_accuracy: 0.9943\n",
            "Epoch 2/2\n",
            "3990/3990 [==============================] - 50s 13ms/step - loss: 0.0699 - accuracy: 0.9939 - val_loss: 0.0652 - val_accuracy: 0.9943\n"
          ]
        },
        {
          "output_type": "stream",
          "name": "stderr",
          "text": [
            "\r 62%|██████▎   | 10/16 [19:39<11:33, 115.54s/it]"
          ]
        },
        {
          "output_type": "stream",
          "name": "stdout",
          "text": [
            "{'output_count_lstm': 60, 'output_1_count_dense': 40, 'output_2_count_dense': 40, 'filters': 64, 'kernel_size': 3, 'batch_size': 32, 'pool_size': 3, 'epochs': 2, 'optimizer': 'adam', 'activation': 'relu', 'last_activation': 'sigmoid', 'dropout': 0.1, 'loss': 'binary_crossentropy'}\n",
            "Epoch 1/2\n",
            "3990/3990 [==============================] - 53s 13ms/step - loss: 0.0880 - accuracy: 0.8966 - val_loss: 0.1073 - val_accuracy: 0.9943\n",
            "Epoch 2/2\n",
            "3990/3990 [==============================] - 50s 13ms/step - loss: 0.0672 - accuracy: 0.9913 - val_loss: 0.0670 - val_accuracy: 0.9943\n"
          ]
        },
        {
          "output_type": "stream",
          "name": "stderr",
          "text": [
            "\r 69%|██████▉   | 11/16 [21:24<09:20, 112.16s/it]"
          ]
        },
        {
          "output_type": "stream",
          "name": "stdout",
          "text": [
            "{'output_count_lstm': 60, 'output_1_count_dense': 40, 'output_2_count_dense': 40, 'filters': 64, 'kernel_size': 3, 'batch_size': 32, 'pool_size': 3, 'epochs': 2, 'optimizer': 'adam', 'activation': 'relu', 'last_activation': 'sigmoid', 'dropout': 0.2, 'loss': 'binary_crossentropy'}\n",
            "Epoch 1/2\n",
            "3990/3990 [==============================] - 53s 13ms/step - loss: 0.0938 - accuracy: 0.9035 - val_loss: 0.0984 - val_accuracy: 0.9943\n",
            "Epoch 2/2\n",
            "3990/3990 [==============================] - 51s 13ms/step - loss: 0.0697 - accuracy: 0.9937 - val_loss: 0.0679 - val_accuracy: 0.9943\n"
          ]
        },
        {
          "output_type": "stream",
          "name": "stderr",
          "text": [
            "\r 75%|███████▌  | 12/16 [23:09<07:19, 109.97s/it]"
          ]
        },
        {
          "output_type": "stream",
          "name": "stdout",
          "text": [
            "{'output_count_lstm': 60, 'output_1_count_dense': 50, 'output_2_count_dense': 30, 'filters': 64, 'kernel_size': 3, 'batch_size': 32, 'pool_size': 3, 'epochs': 2, 'optimizer': 'adam', 'activation': 'relu', 'last_activation': 'sigmoid', 'dropout': 0.1, 'loss': 'binary_crossentropy'}\n",
            "Epoch 1/2\n",
            "3990/3990 [==============================] - 53s 13ms/step - loss: 0.0854 - accuracy: 0.9216 - val_loss: 0.1067 - val_accuracy: 0.9943\n",
            "Epoch 2/2\n",
            "3990/3990 [==============================] - 51s 13ms/step - loss: 0.0669 - accuracy: 0.9936 - val_loss: 0.0794 - val_accuracy: 0.9943\n"
          ]
        },
        {
          "output_type": "stream",
          "name": "stderr",
          "text": [
            "\r 81%|████████▏ | 13/16 [24:55<05:26, 108.75s/it]"
          ]
        },
        {
          "output_type": "stream",
          "name": "stdout",
          "text": [
            "{'output_count_lstm': 60, 'output_1_count_dense': 50, 'output_2_count_dense': 30, 'filters': 64, 'kernel_size': 3, 'batch_size': 32, 'pool_size': 3, 'epochs': 2, 'optimizer': 'adam', 'activation': 'relu', 'last_activation': 'sigmoid', 'dropout': 0.2, 'loss': 'binary_crossentropy'}\n",
            "Epoch 1/2\n",
            "3990/3990 [==============================] - 53s 13ms/step - loss: 0.0938 - accuracy: 0.9004 - val_loss: 0.0959 - val_accuracy: 0.9943\n",
            "Epoch 2/2\n",
            "3990/3990 [==============================] - 50s 13ms/step - loss: 0.0705 - accuracy: 0.9934 - val_loss: 0.2985 - val_accuracy: 0.9943\n"
          ]
        },
        {
          "output_type": "stream",
          "name": "stderr",
          "text": [
            "\r 88%|████████▊ | 14/16 [26:39<03:34, 107.48s/it]"
          ]
        },
        {
          "output_type": "stream",
          "name": "stdout",
          "text": [
            "{'output_count_lstm': 60, 'output_1_count_dense': 50, 'output_2_count_dense': 40, 'filters': 64, 'kernel_size': 3, 'batch_size': 32, 'pool_size': 3, 'epochs': 2, 'optimizer': 'adam', 'activation': 'relu', 'last_activation': 'sigmoid', 'dropout': 0.1, 'loss': 'binary_crossentropy'}\n",
            "Epoch 1/2\n",
            "3990/3990 [==============================] - 54s 13ms/step - loss: 0.0874 - accuracy: 0.9286 - val_loss: 0.0940 - val_accuracy: 0.9935\n",
            "Epoch 2/2\n",
            "3990/3990 [==============================] - 50s 13ms/step - loss: 0.0682 - accuracy: 0.9936 - val_loss: 0.1276 - val_accuracy: 0.9916\n"
          ]
        },
        {
          "output_type": "stream",
          "name": "stderr",
          "text": [
            "\r 94%|█████████▍| 15/16 [28:25<01:46, 106.99s/it]"
          ]
        },
        {
          "output_type": "stream",
          "name": "stdout",
          "text": [
            "{'output_count_lstm': 60, 'output_1_count_dense': 50, 'output_2_count_dense': 40, 'filters': 64, 'kernel_size': 3, 'batch_size': 32, 'pool_size': 3, 'epochs': 2, 'optimizer': 'adam', 'activation': 'relu', 'last_activation': 'sigmoid', 'dropout': 0.2, 'loss': 'binary_crossentropy'}\n",
            "Epoch 1/2\n",
            "3990/3990 [==============================] - 54s 13ms/step - loss: 0.0914 - accuracy: 0.9149 - val_loss: 0.0805 - val_accuracy: 0.9941\n",
            "Epoch 2/2\n",
            "3990/3990 [==============================] - 50s 13ms/step - loss: 0.0692 - accuracy: 0.9937 - val_loss: 0.0699 - val_accuracy: 0.9943\n"
          ]
        },
        {
          "output_type": "stream",
          "name": "stderr",
          "text": [
            "100%|██████████| 16/16 [30:11<00:00, 113.20s/it]\n"
          ]
        }
      ]
    },
    {
      "cell_type": "code",
      "metadata": {
        "id": "eQU9iqMM_IT2",
        "colab": {
          "base_uri": "https://localhost:8080/"
        },
        "outputId": "5be37516-bba1-4234-d2fd-d8e634fb0fe9"
      },
      "source": [
        "model_id = scan_results.data['val_accuracy'].astype('float').argmax()\n",
        "model_id"
      ],
      "execution_count": 69,
      "outputs": [
        {
          "output_type": "execute_result",
          "data": {
            "text/plain": [
              "0"
            ]
          },
          "metadata": {},
          "execution_count": 69
        }
      ]
    },
    {
      "cell_type": "code",
      "metadata": {
        "id": "8OiN965L_JOz",
        "colab": {
          "base_uri": "https://localhost:8080/",
          "height": 191
        },
        "outputId": "1b2b4532-65e3-4de5-b1ca-c9895cbecc88"
      },
      "source": [
        "scan_results.data[8:9]"
      ],
      "execution_count": 70,
      "outputs": [
        {
          "output_type": "execute_result",
          "data": {
            "text/plain": [
              "             start              end    duration  round_epochs     loss  \\\n",
              "8  07/19/22-055854  07/19/22-060039  105.719302             2  0.06582   \n",
              "\n",
              "   accuracy  val_loss  val_accuracy  output_count_lstm  output_1_count_dense  \\\n",
              "8  0.993302  0.062753      0.994109                 60                    40   \n",
              "\n",
              "   ...  filters  kernel_size  batch_size  pool_size  epochs  optimizer  \\\n",
              "8  ...       64            3          32          3       2       adam   \n",
              "\n",
              "  activation last_activation dropout                 loss  \n",
              "8       relu         sigmoid     0.1  binary_crossentropy  \n",
              "\n",
              "[1 rows x 21 columns]"
            ],
            "text/html": [
              "\n",
              "  <div id=\"df-66e8d0cb-1013-4a05-9571-3567ea3cd2e4\">\n",
              "    <div class=\"colab-df-container\">\n",
              "      <div>\n",
              "<style scoped>\n",
              "    .dataframe tbody tr th:only-of-type {\n",
              "        vertical-align: middle;\n",
              "    }\n",
              "\n",
              "    .dataframe tbody tr th {\n",
              "        vertical-align: top;\n",
              "    }\n",
              "\n",
              "    .dataframe thead th {\n",
              "        text-align: right;\n",
              "    }\n",
              "</style>\n",
              "<table border=\"1\" class=\"dataframe\">\n",
              "  <thead>\n",
              "    <tr style=\"text-align: right;\">\n",
              "      <th></th>\n",
              "      <th>start</th>\n",
              "      <th>end</th>\n",
              "      <th>duration</th>\n",
              "      <th>round_epochs</th>\n",
              "      <th>loss</th>\n",
              "      <th>accuracy</th>\n",
              "      <th>val_loss</th>\n",
              "      <th>val_accuracy</th>\n",
              "      <th>output_count_lstm</th>\n",
              "      <th>output_1_count_dense</th>\n",
              "      <th>...</th>\n",
              "      <th>filters</th>\n",
              "      <th>kernel_size</th>\n",
              "      <th>batch_size</th>\n",
              "      <th>pool_size</th>\n",
              "      <th>epochs</th>\n",
              "      <th>optimizer</th>\n",
              "      <th>activation</th>\n",
              "      <th>last_activation</th>\n",
              "      <th>dropout</th>\n",
              "      <th>loss</th>\n",
              "    </tr>\n",
              "  </thead>\n",
              "  <tbody>\n",
              "    <tr>\n",
              "      <th>8</th>\n",
              "      <td>07/19/22-055854</td>\n",
              "      <td>07/19/22-060039</td>\n",
              "      <td>105.719302</td>\n",
              "      <td>2</td>\n",
              "      <td>0.06582</td>\n",
              "      <td>0.993302</td>\n",
              "      <td>0.062753</td>\n",
              "      <td>0.994109</td>\n",
              "      <td>60</td>\n",
              "      <td>40</td>\n",
              "      <td>...</td>\n",
              "      <td>64</td>\n",
              "      <td>3</td>\n",
              "      <td>32</td>\n",
              "      <td>3</td>\n",
              "      <td>2</td>\n",
              "      <td>adam</td>\n",
              "      <td>relu</td>\n",
              "      <td>sigmoid</td>\n",
              "      <td>0.1</td>\n",
              "      <td>binary_crossentropy</td>\n",
              "    </tr>\n",
              "  </tbody>\n",
              "</table>\n",
              "<p>1 rows × 21 columns</p>\n",
              "</div>\n",
              "      <button class=\"colab-df-convert\" onclick=\"convertToInteractive('df-66e8d0cb-1013-4a05-9571-3567ea3cd2e4')\"\n",
              "              title=\"Convert this dataframe to an interactive table.\"\n",
              "              style=\"display:none;\">\n",
              "        \n",
              "  <svg xmlns=\"http://www.w3.org/2000/svg\" height=\"24px\"viewBox=\"0 0 24 24\"\n",
              "       width=\"24px\">\n",
              "    <path d=\"M0 0h24v24H0V0z\" fill=\"none\"/>\n",
              "    <path d=\"M18.56 5.44l.94 2.06.94-2.06 2.06-.94-2.06-.94-.94-2.06-.94 2.06-2.06.94zm-11 1L8.5 8.5l.94-2.06 2.06-.94-2.06-.94L8.5 2.5l-.94 2.06-2.06.94zm10 10l.94 2.06.94-2.06 2.06-.94-2.06-.94-.94-2.06-.94 2.06-2.06.94z\"/><path d=\"M17.41 7.96l-1.37-1.37c-.4-.4-.92-.59-1.43-.59-.52 0-1.04.2-1.43.59L10.3 9.45l-7.72 7.72c-.78.78-.78 2.05 0 2.83L4 21.41c.39.39.9.59 1.41.59.51 0 1.02-.2 1.41-.59l7.78-7.78 2.81-2.81c.8-.78.8-2.07 0-2.86zM5.41 20L4 18.59l7.72-7.72 1.47 1.35L5.41 20z\"/>\n",
              "  </svg>\n",
              "      </button>\n",
              "      \n",
              "  <style>\n",
              "    .colab-df-container {\n",
              "      display:flex;\n",
              "      flex-wrap:wrap;\n",
              "      gap: 12px;\n",
              "    }\n",
              "\n",
              "    .colab-df-convert {\n",
              "      background-color: #E8F0FE;\n",
              "      border: none;\n",
              "      border-radius: 50%;\n",
              "      cursor: pointer;\n",
              "      display: none;\n",
              "      fill: #1967D2;\n",
              "      height: 32px;\n",
              "      padding: 0 0 0 0;\n",
              "      width: 32px;\n",
              "    }\n",
              "\n",
              "    .colab-df-convert:hover {\n",
              "      background-color: #E2EBFA;\n",
              "      box-shadow: 0px 1px 2px rgba(60, 64, 67, 0.3), 0px 1px 3px 1px rgba(60, 64, 67, 0.15);\n",
              "      fill: #174EA6;\n",
              "    }\n",
              "\n",
              "    [theme=dark] .colab-df-convert {\n",
              "      background-color: #3B4455;\n",
              "      fill: #D2E3FC;\n",
              "    }\n",
              "\n",
              "    [theme=dark] .colab-df-convert:hover {\n",
              "      background-color: #434B5C;\n",
              "      box-shadow: 0px 1px 3px 1px rgba(0, 0, 0, 0.15);\n",
              "      filter: drop-shadow(0px 1px 2px rgba(0, 0, 0, 0.3));\n",
              "      fill: #FFFFFF;\n",
              "    }\n",
              "  </style>\n",
              "\n",
              "      <script>\n",
              "        const buttonEl =\n",
              "          document.querySelector('#df-66e8d0cb-1013-4a05-9571-3567ea3cd2e4 button.colab-df-convert');\n",
              "        buttonEl.style.display =\n",
              "          google.colab.kernel.accessAllowed ? 'block' : 'none';\n",
              "\n",
              "        async function convertToInteractive(key) {\n",
              "          const element = document.querySelector('#df-66e8d0cb-1013-4a05-9571-3567ea3cd2e4');\n",
              "          const dataTable =\n",
              "            await google.colab.kernel.invokeFunction('convertToInteractive',\n",
              "                                                     [key], {});\n",
              "          if (!dataTable) return;\n",
              "\n",
              "          const docLinkHtml = 'Like what you see? Visit the ' +\n",
              "            '<a target=\"_blank\" href=https://colab.research.google.com/notebooks/data_table.ipynb>data table notebook</a>'\n",
              "            + ' to learn more about interactive tables.';\n",
              "          element.innerHTML = '';\n",
              "          dataTable['output_type'] = 'display_data';\n",
              "          await google.colab.output.renderOutput(dataTable, element);\n",
              "          const docLink = document.createElement('div');\n",
              "          docLink.innerHTML = docLinkHtml;\n",
              "          element.appendChild(docLink);\n",
              "        }\n",
              "      </script>\n",
              "    </div>\n",
              "  </div>\n",
              "  "
            ]
          },
          "metadata": {},
          "execution_count": 70
        }
      ]
    },
    {
      "cell_type": "code",
      "metadata": {
        "id": "xbIfeqlH_JK-"
      },
      "source": [
        "analyze_object = talos.Analyze(scan_results)"
      ],
      "execution_count": 71,
      "outputs": []
    },
    {
      "cell_type": "code",
      "metadata": {
        "id": "oMfSKDje_JHw",
        "colab": {
          "base_uri": "https://localhost:8080/"
        },
        "outputId": "e0fea05e-4cbb-4722-d716-50aa993951c1"
      },
      "source": [
        "analyze_object.best_params('val_accuracy', ['accuracy', 'loss', 'val_loss'])"
      ],
      "execution_count": 72,
      "outputs": [
        {
          "output_type": "execute_result",
          "data": {
            "text/plain": [
              "array([[2, 'sigmoid', '07/19/22-054246', 50, '07/19/22-054438',\n",
              "        112.36569142341614, 40, 30, 3, 3, 2, 'adam', 32, 0.1, 64, 'relu',\n",
              "        0],\n",
              "       [2, 'sigmoid', '07/19/22-054439', 50, '07/19/22-054625',\n",
              "        105.57688117027283, 40, 30, 3, 3, 2, 'adam', 32, 0.2, 64, 'relu',\n",
              "        1],\n",
              "       [2, 'sigmoid', '07/19/22-054850', 50, '07/19/22-055034',\n",
              "        103.1697518825531, 40, 40, 3, 3, 2, 'adam', 32, 0.2, 64, 'relu',\n",
              "        2],\n",
              "       [2, 'sigmoid', '07/19/22-055034', 50, '07/19/22-055218',\n",
              "        103.48589515686035, 50, 30, 3, 3, 2, 'adam', 32, 0.1, 64, 'relu',\n",
              "        3],\n",
              "       [2, 'sigmoid', '07/19/22-055219', 50, '07/19/22-055443',\n",
              "        144.27579045295715, 50, 30, 3, 3, 2, 'adam', 32, 0.2, 64, 'relu',\n",
              "        4],\n",
              "       [2, 'sigmoid', '07/19/22-055444', 50, '07/19/22-055628',\n",
              "        104.31835532188416, 50, 40, 3, 3, 2, 'adam', 32, 0.1, 64, 'relu',\n",
              "        5],\n",
              "       [2, 'sigmoid', '07/19/22-055629', 50, '07/19/22-055853',\n",
              "        144.25624179840088, 50, 40, 3, 3, 2, 'adam', 32, 0.2, 64, 'relu',\n",
              "        6],\n",
              "       [2, 'sigmoid', '07/19/22-060040', 60, '07/19/22-060225',\n",
              "        104.61200714111328, 40, 30, 3, 3, 2, 'adam', 32, 0.2, 64, 'relu',\n",
              "        7],\n",
              "       [2, 'sigmoid', '07/19/22-060226', 60, '07/19/22-060409',\n",
              "        103.73883938789368, 40, 40, 3, 3, 2, 'adam', 32, 0.1, 64, 'relu',\n",
              "        8],\n",
              "       [2, 'sigmoid', '07/19/22-060410', 60, '07/19/22-060554',\n",
              "        104.17521929740906, 40, 40, 3, 3, 2, 'adam', 32, 0.2, 64, 'relu',\n",
              "        9]], dtype=object)"
            ]
          },
          "metadata": {},
          "execution_count": 72
        }
      ]
    },
    {
      "cell_type": "code",
      "metadata": {
        "id": "K40v1m_N_Rgo",
        "colab": {
          "base_uri": "https://localhost:8080/",
          "height": 410
        },
        "outputId": "5db80321-7811-42f0-de2c-8ccc3baded57"
      },
      "source": [
        "analyze_object.plot_line('val_accuracy')"
      ],
      "execution_count": 73,
      "outputs": [
        {
          "output_type": "display_data",
          "data": {
            "text/plain": [
              "<Figure size 864x475.2 with 1 Axes>"
            ],
            "image/png": "[encoded data removed]"
          },
          "metadata": {}
        }
      ]
    },
    {
      "cell_type": "code",
      "metadata": {
        "id": "z50AydTs_RdW",
        "colab": {
          "base_uri": "https://localhost:8080/",
          "height": 410
        },
        "outputId": "1d81d16d-36e5-45de-a3cd-0ffb19bbc143"
      },
      "source": [
        "analyze_object.plot_line('accuracy')"
      ],
      "execution_count": 74,
      "outputs": [
        {
          "output_type": "display_data",
          "data": {
            "text/plain": [
              "<Figure size 864x475.2 with 1 Axes>"
            ],
            "image/png": "[encoded data removed]"
          },
          "metadata": {}
        }
      ]
    },
    {
      "cell_type": "markdown",
      "metadata": {
        "id": "sHrPeYI_Giky"
      },
      "source": [
        "#### Training Model with Best Parameters"
      ]
    },
    {
      "cell_type": "markdown",
      "metadata": {
        "id": "lIRoKKp9mzQz"
      },
      "source": [
        "LSTM"
      ]
    },
    {
      "cell_type": "code",
      "metadata": {
        "id": "9x04BXTCCdsV"
      },
      "source": [
        "inp=Input(shape=(maxpadlen, ),dtype='int32')"
      ],
      "execution_count": 75,
      "outputs": []
    },
    {
      "cell_type": "code",
      "metadata": {
        "id": "U-fPTQKHFF61"
      },
      "source": [
        "embedding_layer = Embedding(len(word_index) + 1,\n",
        "                           embedding_dim_fasttext,\n",
        "                           weights = [embedding_matrix_fasttext],\n",
        "                           input_length = maxpadlen,\n",
        "                           trainable=False,\n",
        "                           name = 'embeddings')\n",
        "embedded_sequences = embedding_layer(inp)"
      ],
      "execution_count": 76,
      "outputs": []
    },
    {
      "cell_type": "code",
      "metadata": {
        "id": "mAF1Ui22FmHX"
      },
      "source": [
        "x = LSTM(40, return_sequences=True,name='lstm_layer')(embedded_sequences)\n",
        "x = GlobalMaxPool1D()(x)\n",
        "x = Dropout(0.1)(x)\n",
        "x = Dense(30, activation=\"relu\", kernel_initializer='he_uniform')(x)\n",
        "x = Dropout(0.1)(x)\n",
        "preds = Dense(6, activation=\"sigmoid\", kernel_initializer='glorot_uniform')(x)"
      ],
      "execution_count": 77,
      "outputs": []
    },
    {
      "cell_type": "code",
      "metadata": {
        "id": "kigFyK4cHHrv"
      },
      "source": [
        "model_1 = Model(inputs=inp, outputs=preds)\n",
        "model_1.compile(loss='binary_crossentropy',\n",
        "                  optimizer='adam',\n",
        "                  metrics=['accuracy'])"
      ],
      "execution_count": 78,
      "outputs": []
    },
    {
      "cell_type": "code",
      "metadata": {
        "id": "e_qJGa25HVxi",
        "colab": {
          "base_uri": "https://localhost:8080/"
        },
        "outputId": "1d40de83-963a-48ae-f9f4-034557b8d888"
      },
      "source": [
        "model_1.summary()"
      ],
      "execution_count": 79,
      "outputs": [
        {
          "output_type": "stream",
          "name": "stdout",
          "text": [
            "Model: \"model\"\n",
            "_________________________________________________________________\n",
            " Layer (type)                Output Shape              Param #   \n",
            "=================================================================\n",
            " input_1 (InputLayer)        [(None, 200)]             0         \n",
            "                                                                 \n",
            " embeddings (Embedding)      (None, 200, 300)          44675400  \n",
            "                                                                 \n",
            " lstm_layer (LSTM)           (None, 200, 40)           54560     \n",
            "                                                                 \n",
            " global_max_pooling1d (Globa  (None, 40)               0         \n",
            " lMaxPooling1D)                                                  \n",
            "                                                                 \n",
            " dropout (Dropout)           (None, 40)                0         \n",
            "                                                                 \n",
            " dense (Dense)               (None, 30)                1230      \n",
            "                                                                 \n",
            " dropout_1 (Dropout)         (None, 30)                0         \n",
            "                                                                 \n",
            " dense_1 (Dense)             (None, 6)                 186       \n",
            "                                                                 \n",
            "=================================================================\n",
            "Total params: 44,731,376\n",
            "Trainable params: 55,976\n",
            "Non-trainable params: 44,675,400\n",
            "_________________________________________________________________\n"
          ]
        }
      ]
    },
    {
      "cell_type": "code",
      "metadata": {
        "id": "iSqW0thULSae",
        "colab": {
          "base_uri": "https://localhost:8080/"
        },
        "outputId": "f9f7fa23-8422-43c0-8f61-27445bb86088"
      },
      "source": [
        "model_info_1=model_1.fit(x_train,y_train, epochs=2, batch_size=32,  validation_data=(x_val, y_val))"
      ],
      "execution_count": 80,
      "outputs": [
        {
          "output_type": "stream",
          "name": "stdout",
          "text": [
            "Epoch 1/2\n",
            "3990/3990 [==============================] - 49s 12ms/step - loss: 0.0951 - accuracy: 0.9173 - val_loss: 0.0709 - val_accuracy: 0.9943\n",
            "Epoch 2/2\n",
            "3990/3990 [==============================] - 48s 12ms/step - loss: 0.0699 - accuracy: 0.9936 - val_loss: 0.0640 - val_accuracy: 0.9943\n"
          ]
        }
      ]
    },
    {
      "cell_type": "markdown",
      "metadata": {
        "id": "q63N5a-Rm0zp"
      },
      "source": [
        "LSTM-CNN"
      ]
    },
    {
      "cell_type": "code",
      "metadata": {
        "id": "Dq7eVkGSLKhm"
      },
      "source": [
        "inp=Input(shape=(maxpadlen, ),dtype='int32')"
      ],
      "execution_count": 81,
      "outputs": []
    },
    {
      "cell_type": "code",
      "metadata": {
        "id": "-QLeM4ieLLEL"
      },
      "source": [
        "embedding_layer = Embedding(len(word_index) + 1,\n",
        "                           embedding_dim_fasttext,\n",
        "                           weights = [embedding_matrix_fasttext],\n",
        "                           input_length = maxpadlen,\n",
        "                           trainable=False,\n",
        "                           name = 'embeddings')\n",
        "embedded_sequences = embedding_layer(inp)"
      ],
      "execution_count": 82,
      "outputs": []
    },
    {
      "cell_type": "code",
      "metadata": {
        "id": "hKK_321BdT-o"
      },
      "source": [
        "x = LSTM(50, return_sequences=True,name='lstm_layer')(embedded_sequences)\n",
        "x = Conv1D(filters=64, kernel_size=3, padding='same', activation='relu', kernel_initializer='he_uniform')(x)\n",
        "x = MaxPooling1D(3)(x)\n",
        "x = GlobalMaxPool1D()(x)\n",
        "x = BatchNormalization()(x)\n",
        "x = Dense(40, activation=\"relu\", kernel_initializer='he_uniform')(x)\n",
        "x = Dropout(0.2)(x)\n",
        "x = Dense(30, activation=\"relu\", kernel_initializer='he_uniform')(x)\n",
        "x = Dropout(0.2)(x)\n",
        "preds = Dense(6, activation=\"sigmoid\", kernel_initializer='glorot_uniform')(x)"
      ],
      "execution_count": 83,
      "outputs": []
    },
    {
      "cell_type": "code",
      "metadata": {
        "id": "h965XoLoLO5a"
      },
      "source": [
        "model_2 = Model(inputs=inp, outputs=preds)\n",
        "model_2.compile(loss='binary_crossentropy',\n",
        "                  optimizer='adam',\n",
        "                  metrics=['accuracy'])"
      ],
      "execution_count": 84,
      "outputs": []
    },
    {
      "cell_type": "code",
      "metadata": {
        "id": "S_UNnc0ELQbL",
        "colab": {
          "base_uri": "https://localhost:8080/"
        },
        "outputId": "1636f4b3-082f-4e78-8f9a-8a242b47d909"
      },
      "source": [
        "model_2.summary()"
      ],
      "execution_count": 85,
      "outputs": [
        {
          "output_type": "stream",
          "name": "stdout",
          "text": [
            "Model: \"model_1\"\n",
            "_________________________________________________________________\n",
            " Layer (type)                Output Shape              Param #   \n",
            "=================================================================\n",
            " input_2 (InputLayer)        [(None, 200)]             0         \n",
            "                                                                 \n",
            " embeddings (Embedding)      (None, 200, 300)          44675400  \n",
            "                                                                 \n",
            " lstm_layer (LSTM)           (None, 200, 50)           70200     \n",
            "                                                                 \n",
            " conv1d (Conv1D)             (None, 200, 64)           9664      \n",
            "                                                                 \n",
            " max_pooling1d (MaxPooling1D  (None, 66, 64)           0         \n",
            " )                                                               \n",
            "                                                                 \n",
            " global_max_pooling1d_1 (Glo  (None, 64)               0         \n",
            " balMaxPooling1D)                                                \n",
            "                                                                 \n",
            " batch_normalization (BatchN  (None, 64)               256       \n",
            " ormalization)                                                   \n",
            "                                                                 \n",
            " dense_2 (Dense)             (None, 40)                2600      \n",
            "                                                                 \n",
            " dropout_2 (Dropout)         (None, 40)                0         \n",
            "                                                                 \n",
            " dense_3 (Dense)             (None, 30)                1230      \n",
            "                                                                 \n",
            " dropout_3 (Dropout)         (None, 30)                0         \n",
            "                                                                 \n",
            " dense_4 (Dense)             (None, 6)                 186       \n",
            "                                                                 \n",
            "=================================================================\n",
            "Total params: 44,759,536\n",
            "Trainable params: 84,008\n",
            "Non-trainable params: 44,675,528\n",
            "_________________________________________________________________\n"
          ]
        }
      ]
    },
    {
      "cell_type": "code",
      "metadata": {
        "id": "Bc-HX52zHNg9",
        "colab": {
          "base_uri": "https://localhost:8080/"
        },
        "outputId": "ba5d0274-960f-4a02-dc88-9cbab096edb1"
      },
      "source": [
        "model_info_2=model_2.fit(x_train,y_train, epochs=2, batch_size=32,  validation_data=(x_val, y_val))"
      ],
      "execution_count": 86,
      "outputs": [
        {
          "output_type": "stream",
          "name": "stdout",
          "text": [
            "Epoch 1/2\n",
            "3990/3990 [==============================] - 53s 13ms/step - loss: 0.0925 - accuracy: 0.9116 - val_loss: 0.0829 - val_accuracy: 0.9942\n",
            "Epoch 2/2\n",
            "3990/3990 [==============================] - 51s 13ms/step - loss: 0.0691 - accuracy: 0.9938 - val_loss: 0.0633 - val_accuracy: 0.9943\n"
          ]
        }
      ]
    },
    {
      "cell_type": "markdown",
      "metadata": {
        "id": "kL2OV0YiB3sp"
      },
      "source": [
        "## Plotting Graphs"
      ]
    },
    {
      "cell_type": "markdown",
      "metadata": {
        "id": "oK9KghRBLlq9"
      },
      "source": [
        "### LSTM"
      ]
    },
    {
      "cell_type": "code",
      "metadata": {
        "id": "3qKSCDX-KjSX",
        "colab": {
          "base_uri": "https://localhost:8080/",
          "height": 315
        },
        "outputId": "8c5f4bee-63db-4fc7-d487-3c945f1408ea"
      },
      "source": [
        "loss = model_info_1.history['loss']\n",
        "val_loss = model_info_1.history['val_loss']\n",
        "\n",
        "epochs = range(1, len(loss)+1)\n",
        "\n",
        "plt.plot(epochs, loss, label='Training loss')\n",
        "plt.plot(epochs, val_loss, label='Validation loss')\n",
        "plt.title('Training and Validation loss')\n",
        "plt.xlabel('Epochs')\n",
        "plt.ylabel('Loss')\n",
        "plt.legend()\n",
        "plt.show();"
      ],
      "execution_count": 87,
      "outputs": [
        {
          "output_type": "display_data",
          "data": {
            "text/plain": [
              "<Figure size 432x288 with 1 Axes>"
            ],
            "image/png": "[encoded data removed]"
          },
          "metadata": {}
        }
      ]
    },
    {
      "cell_type": "code",
      "metadata": {
        "id": "zio5y-3yRn-6",
        "colab": {
          "base_uri": "https://localhost:8080/",
          "height": 315
        },
        "outputId": "efaca32f-add5-4c67-d0ab-8c601e964c41"
      },
      "source": [
        "accuracy = model_info_1.history['accuracy']\n",
        "val_accuracy = model_info_1.history['val_accuracy']\n",
        "\n",
        "plt.plot(epochs, accuracy, label='Training accuracy')\n",
        "plt.plot(epochs, val_accuracy, label='Validation accuracy')\n",
        "plt.title('Training and validation accuracy')\n",
        "plt.ylabel('Accuracy')\n",
        "plt.xlabel('Epochs')\n",
        "plt.legend()\n",
        "plt.show();"
      ],
      "execution_count": 88,
      "outputs": [
        {
          "output_type": "display_data",
          "data": {
            "text/plain": [
              "<Figure size 432x288 with 1 Axes>"
            ],
            "image/png": "[encoded data removed]"
          },
          "metadata": {}
        }
      ]
    },
    {
      "cell_type": "markdown",
      "metadata": {
        "id": "HKNnZW0TLoO_"
      },
      "source": [
        "### LSTM-CNN"
      ]
    },
    {
      "cell_type": "code",
      "metadata": {
        "id": "jOrZB4k0LqQx",
        "colab": {
          "base_uri": "https://localhost:8080/",
          "height": 315
        },
        "outputId": "6fc0932d-19c9-47d6-fd55-22add3e60afe"
      },
      "source": [
        "loss = model_info_2.history['loss']\n",
        "val_loss = model_info_2.history['val_loss']\n",
        "\n",
        "epochs = range(1, len(loss)+1)\n",
        "\n",
        "plt.plot(epochs, loss, label='Training loss')\n",
        "plt.plot(epochs, val_loss, label='Validation loss')\n",
        "plt.title('Training and Validation loss')\n",
        "plt.xlabel('Epochs')\n",
        "plt.ylabel('Loss')\n",
        "plt.legend()\n",
        "plt.show();"
      ],
      "execution_count": 89,
      "outputs": [
        {
          "output_type": "display_data",
          "data": {
            "text/plain": [
              "<Figure size 432x288 with 1 Axes>"
            ],
            "image/png": "[encoded data removed]"
          },
          "metadata": {}
        }
      ]
    },
    {
      "cell_type": "code",
      "metadata": {
        "id": "67M15ZndRt97",
        "colab": {
          "base_uri": "https://localhost:8080/",
          "height": 315
        },
        "outputId": "3eaa4b29-2d01-4205-dae5-9941672e090a"
      },
      "source": [
        "accuracy = model_info_2.history['accuracy']\n",
        "val_accuracy = model_info_2.history['val_accuracy']\n",
        "\n",
        "plt.plot(epochs, accuracy, label='Training accuracy')\n",
        "plt.plot(epochs, val_accuracy, label='Validation accuracy')\n",
        "plt.title('Training and validation accuracy')\n",
        "plt.ylabel('Accuracy')\n",
        "plt.xlabel('Epochs')\n",
        "plt.legend()\n",
        "plt.show();"
      ],
      "execution_count": 90,
      "outputs": [
        {
          "output_type": "display_data",
          "data": {
            "text/plain": [
              "<Figure size 432x288 with 1 Axes>"
            ],
            "image/png": "[encoded data removed]"
          },
          "metadata": {}
        }
      ]
    },
    {
      "cell_type": "markdown",
      "metadata": {
        "id": "7wv1IdwZk_qG"
      },
      "source": [
        "# Saving the Model"
      ]
    },
    {
      "cell_type": "code",
      "metadata": {
        "id": "eisFdjOUlBbM",
        "colab": {
          "base_uri": "https://localhost:8080/"
        },
        "outputId": "f7d524f7-1a6e-4ebc-a352-830bd997dd95"
      },
      "source": [
        "model_1.save(filepath=\"/content/drive/MyDrive/jigsaw-toxic-comment-classification-challenge\")"
      ],
      "execution_count": 92,
      "outputs": [
        {
          "output_type": "stream",
          "name": "stderr",
          "text": [
            "WARNING:absl:Found untraced functions such as lstm_cell_layer_call_fn, lstm_cell_layer_call_and_return_conditional_losses while saving (showing 2 of 2). These functions will not be directly callable after loading.\n"
          ]
        },
        {
          "output_type": "stream",
          "name": "stdout",
          "text": [
            "INFO:tensorflow:Assets written to: /content/drive/MyDrive/jigsaw-toxic-comment-classification-challenge/assets\n"
          ]
        },
        {
          "output_type": "stream",
          "name": "stderr",
          "text": [
            "INFO:tensorflow:Assets written to: /content/drive/MyDrive/jigsaw-toxic-comment-classification-challenge/assets\n",
            "WARNING:absl:<keras.layers.recurrent.LSTMCell object at 0x7f5139cd2750> has the same name 'LSTMCell' as a built-in Keras object. Consider renaming <class 'keras.layers.recurrent.LSTMCell'> to avoid naming conflicts when loading with `tf.keras.models.load_model`. If renaming is not possible, pass the object in the `custom_objects` parameter of the load function.\n"
          ]
        }
      ]
    },
    {
      "cell_type": "code",
      "metadata": {
        "id": "uNNf_Fj2MLgx",
        "colab": {
          "base_uri": "https://localhost:8080/"
        },
        "outputId": "50c4fbe0-b503-4181-ae8f-5532da7edbff"
      },
      "source": [
        "model_2.save(filepath=\"/content/drive/MyDrive/jigsaw-toxic-comment-classification-challenge\")"
      ],
      "execution_count": 93,
      "outputs": [
        {
          "output_type": "stream",
          "name": "stderr",
          "text": [
            "WARNING:absl:Found untraced functions such as lstm_cell_1_layer_call_fn, lstm_cell_1_layer_call_and_return_conditional_losses while saving (showing 2 of 2). These functions will not be directly callable after loading.\n"
          ]
        },
        {
          "output_type": "stream",
          "name": "stdout",
          "text": [
            "INFO:tensorflow:Assets written to: /content/drive/MyDrive/jigsaw-toxic-comment-classification-challenge/assets\n"
          ]
        },
        {
          "output_type": "stream",
          "name": "stderr",
          "text": [
            "INFO:tensorflow:Assets written to: /content/drive/MyDrive/jigsaw-toxic-comment-classification-challenge/assets\n",
            "WARNING:absl:<keras.layers.recurrent.LSTMCell object at 0x7f51399bea90> has the same name 'LSTMCell' as a built-in Keras object. Consider renaming <class 'keras.layers.recurrent.LSTMCell'> to avoid naming conflicts when loading with `tf.keras.models.load_model`. If renaming is not possible, pass the object in the `custom_objects` parameter of the load function.\n"
          ]
        }
      ]
    },
    {
      "cell_type": "markdown",
      "metadata": {
        "id": "bXx4IOYn4_XB"
      },
      "source": [
        "# Loading Saved Model"
      ]
    },
    {
      "cell_type": "code",
      "metadata": {
        "id": "huVktHqRMSGc"
      },
      "source": [
        "loaded_model_1 = keras.models.load_model(filepath=\"/content/drive/MyDrive/jigsaw-toxic-comment-classification-challenge\")"
      ],
      "execution_count": 95,
      "outputs": []
    },
    {
      "cell_type": "code",
      "metadata": {
        "id": "ulj64J7p4YKB"
      },
      "source": [
        "loaded_model_2 = keras.models.load_model(filepath=\"/content/drive/MyDrive/jigsaw-toxic-comment-classification-challenge\")"
      ],
      "execution_count": 96,
      "outputs": []
    },
    {
      "cell_type": "markdown",
      "metadata": {
        "id": "kJJJs5txVS8S"
      },
      "source": [
        "# Generating the Output"
      ]
    },
    {
      "cell_type": "markdown",
      "metadata": {
        "id": "qBk_wYFWMY82"
      },
      "source": [
        "### LSTM"
      ]
    },
    {
      "cell_type": "code",
      "metadata": {
        "id": "aUL3S8xiCYxU",
        "colab": {
          "base_uri": "https://localhost:8080/"
        },
        "outputId": "4c9a4663-2335-45e9-be8d-6011d541d703"
      },
      "source": [
        "test_values_1 = loaded_model_1.predict([X_te], batch_size=1, verbose=1)"
      ],
      "execution_count": 97,
      "outputs": [
        {
          "output_type": "stream",
          "name": "stdout",
          "text": [
            "153164/153164 [==============================] - 634s 4ms/step\n"
          ]
        }
      ]
    },
    {
      "cell_type": "code",
      "metadata": {
        "id": "_FSvu4hpyU4r"
      },
      "source": [
        "sample_submission = pd.read_csv('/content/drive/MyDrive/jigsaw-toxic-comment-classification-challenge/sample_submission.csv')\n",
        "test_values_1=pd.DataFrame(test_values_1,columns=['toxic', 'severe_toxic', 'obscene', 'threat', 'insult', 'identity_hate'])\n",
        "submission = pd.DataFrame(sample_submission[\"id\"])\n",
        "combined_submission=pd.concat([submission,test_values_1],axis=1)\n",
        "combined_submission.to_csv('/content/drive/MyDrive/jigsaw-toxic-comment-classification-challenge/sample_submission.csv', index=False)"
      ],
      "execution_count": 100,
      "outputs": []
    },
    {
      "cell_type": "markdown",
      "metadata": {
        "id": "6xw4kR9PMyVy"
      },
      "source": [
        "### LSTM-CNN"
      ]
    },
    {
      "cell_type": "code",
      "metadata": {
        "id": "-Zmj2YixM0dH",
        "colab": {
          "base_uri": "https://localhost:8080/"
        },
        "outputId": "80c30788-e408-45d7-eff8-2f7b499b7099"
      },
      "source": [
        "test_values_2 = loaded_model_2.predict([X_te], batch_size=1, verbose=1)"
      ],
      "execution_count": 101,
      "outputs": [
        {
          "output_type": "stream",
          "name": "stdout",
          "text": [
            "153164/153164 [==============================] - 631s 4ms/step\n"
          ]
        }
      ]
    },
    {
      "cell_type": "code",
      "metadata": {
        "id": "CsUf3_HxM0Yw"
      },
      "source": [
        "sample_submission = pd.read_csv('/content/drive/MyDrive/jigsaw-toxic-comment-classification-challenge/sample_submission.csv')\n",
        "test_values_2=pd.DataFrame(test_values_2,columns=['toxic', 'severe_toxic', 'obscene', 'threat', 'insult', 'identity_hate'])\n",
        "submission = pd.DataFrame(sample_submission[\"id\"])\n",
        "combined_submission=pd.concat([submission,test_values_2],axis=1)\n",
        "combined_submission.to_csv('/content/drive/MyDrive/jigsaw-toxic-comment-classification-challenge/sample_submission.csv', index=False)"
      ],
      "execution_count": 104,
      "outputs": []
    },
    {
      "cell_type": "markdown",
      "metadata": {
        "id": "7HkAldq1IJcr"
      },
      "source": [
        "# Testing the Created Model"
      ]
    },
    {
      "cell_type": "code",
      "metadata": {
        "id": "fPneHbuzIIxj"
      },
      "source": [
        "def toxicity_level(string):\n",
        "    new_string = [string]\n",
        "    new_string = tokenizer.texts_to_sequences(new_string)\n",
        "    new_string = pad_sequences(new_string, maxlen=maxpadlen, padding='post')\n",
        "    \n",
        "    prediction = loaded_model_1.predict(new_string) #(Change to model_1 or model_2 depending on the preference of model type|| Model 1: LSTM, Model 2:LSTM-CNN)\n",
        "    \n",
        "    print(\"Toxicity levels for '{}':\".format(string))\n",
        "    print('Toxic:         {:.0%}'.format(prediction[0][0]))\n",
        "    print('Severe Toxic:  {:.0%}'.format(prediction[0][1]))\n",
        "    print('Obscene:       {:.0%}'.format(prediction[0][2]))\n",
        "    print('Threat:        {:.0%}'.format(prediction[0][3]))\n",
        "    print('Insult:        {:.0%}'.format(prediction[0][4]))\n",
        "    print('Identity Hate: {:.0%}'.format(prediction[0][5]))\n",
        "    print()\n",
        "    \n",
        "    return"
      ],
      "execution_count": 112,
      "outputs": []
    },
    {
      "cell_type": "code",
      "metadata": {
        "id": "wxWkAax7JLF1",
        "colab": {
          "base_uri": "https://localhost:8080/"
        },
        "outputId": "9fc62d29-8347-415d-8474-cfb2eedfba81"
      },
      "source": [
        "\n",
        "toxicity_level('go jump off a bridge jerk')"
      ],
      "execution_count": 113,
      "outputs": [
        {
          "output_type": "stream",
          "name": "stdout",
          "text": [
            "Toxicity levels for 'go jump off a bridge jerk':\n",
            "Toxic:         81%\n",
            "Severe Toxic:  9%\n",
            "Obscene:       56%\n",
            "Threat:        3%\n",
            "Insult:        45%\n",
            "Identity Hate: 10%\n",
            "\n"
          ]
        }
      ]
    },
    {
      "cell_type": "code",
      "metadata": {
        "id": "QLGZpQ1KIpFG",
        "colab": {
          "base_uri": "https://localhost:8080/"
        },
        "outputId": "2569fbf6-021b-4468-efbd-14be3b631028"
      },
      "source": [
        "toxicity_level('i will kill you')"
      ],
      "execution_count": 114,
      "outputs": [
        {
          "output_type": "stream",
          "name": "stdout",
          "text": [
            "Toxicity levels for 'i will kill you':\n",
            "Toxic:         21%\n",
            "Severe Toxic:  2%\n",
            "Obscene:       9%\n",
            "Threat:        3%\n",
            "Insult:        12%\n",
            "Identity Hate: 3%\n",
            "\n"
          ]
        }
      ]
    },
    {
      "cell_type": "code",
      "metadata": {
        "id": "Be1lw-liIpfe"
      },
      "source": [
        "toxicity_level('have a nice day')"
      ],
      "execution_count": null,
      "outputs": []
    },
    {
      "cell_type": "code",
      "metadata": {
        "id": "HZ-_6XzxIxxT",
        "colab": {
          "base_uri": "https://localhost:8080/"
        },
        "outputId": "477f876d-4b89-47f2-d89c-6bdcf9d258d9"
      },
      "source": [
        "toxicity_level('fuck ofF!!')"
      ],
      "execution_count": 116,
      "outputs": [
        {
          "output_type": "stream",
          "name": "stdout",
          "text": [
            "Toxicity levels for 'fuck ofF!!':\n",
            "Toxic:         100%\n",
            "Severe Toxic:  50%\n",
            "Obscene:       100%\n",
            "Threat:        2%\n",
            "Insult:        85%\n",
            "Identity Hate: 13%\n",
            "\n"
          ]
        }
      ]
    },
    {
      "cell_type": "code",
      "metadata": {
        "id": "1s_5EQEFJD3G",
        "colab": {
          "base_uri": "https://localhost:8080/"
        },
        "outputId": "bef0de24-d8f4-4d27-9eaf-e1f71b7e7b01"
      },
      "source": [
        "toxicity_level('Hello, How are you?')"
      ],
      "execution_count": 117,
      "outputs": [
        {
          "output_type": "stream",
          "name": "stdout",
          "text": [
            "Toxicity levels for 'Hello, How are you?':\n",
            "Toxic:         2%\n",
            "Severe Toxic:  0%\n",
            "Obscene:       0%\n",
            "Threat:        0%\n",
            "Insult:        0%\n",
            "Identity Hate: 0%\n",
            "\n"
          ]
        }
      ]
    },
    {
      "cell_type": "code",
      "metadata": {
        "id": "apOGOBU3uZxl",
        "colab": {
          "base_uri": "https://localhost:8080/"
        },
        "outputId": "5c7e0ea0-2677-452e-f81e-3ec4731cd038"
      },
      "source": [
        "toxicity_level('get the fuck away from me @sshole!!')"
      ],
      "execution_count": 118,
      "outputs": [
        {
          "output_type": "stream",
          "name": "stdout",
          "text": [
            "Toxicity levels for 'get the fuck away from me @sshole!!':\n",
            "Toxic:         99%\n",
            "Severe Toxic:  22%\n",
            "Obscene:       95%\n",
            "Threat:        1%\n",
            "Insult:        76%\n",
            "Identity Hate: 12%\n",
            "\n"
          ]
        }
      ]
    },
    {
      "cell_type": "code",
      "source": [
        "def toxicity_level(string):\n",
        "    new_string = [string]\n",
        "    new_string = tokenizer.texts_to_sequences(new_string)\n",
        "    new_string = pad_sequences(new_string, maxlen=maxpadlen, padding='post')\n",
        "    \n",
        "    prediction = loaded_model_2.predict(new_string) #(Change to model_1 or model_2 depending on the preference of model type|| Model 1: LSTM, Model 2:LSTM-CNN)\n",
        "    \n",
        "    print(\"Toxicity levels for '{}':\".format(string))\n",
        "    print('Toxic:         {:.0%}'.format(prediction[0][0]))\n",
        "    print('Severe Toxic:  {:.0%}'.format(prediction[0][1]))\n",
        "    print('Obscene:       {:.0%}'.format(prediction[0][2]))\n",
        "    print('Threat:        {:.0%}'.format(prediction[0][3]))\n",
        "    print('Insult:        {:.0%}'.format(prediction[0][4]))\n",
        "    print('Identity Hate: {:.0%}'.format(prediction[0][5]))\n",
        "    print()\n",
        "    \n",
        "    return"
      ],
      "metadata": {
        "id": "bnr6UN4ycJD3"
      },
      "execution_count": 119,
      "outputs": []
    }
  ]
}